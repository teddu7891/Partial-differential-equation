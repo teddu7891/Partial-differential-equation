{
 "cells": [
  {
   "cell_type": "markdown",
   "id": "8cc959a2-1fe5-4ec7-8b28-5440814009a3",
   "metadata": {},
   "source": [
    "<h1><Center>\n",
    "    PROJET COMPAGNON\n",
    "    \n",
    "    *\n",
    "    PROPAGATION D'UN VIRUS\n",
    "</h1>"
   ]
  },
  {
   "cell_type": "markdown",
   "id": "ebaed943-8cb7-48ff-8c88-c1d865459893",
   "metadata": {},
   "source": [
    "# I. Introduction"
   ]
  },
  {
   "cell_type": "markdown",
   "id": "bb02044c-7b8c-4cd6-bff5-d637a896187b",
   "metadata": {},
   "source": [
    "## A. Contexte"
   ]
  },
  {
   "attachments": {},
   "cell_type": "markdown",
   "id": "12534f1a-4f2e-470a-b895-e4e183a028c2",
   "metadata": {},
   "source": [
    "<p>Dans ce projet compagnon nous allons étudier la propagation d'un virus au sein d'une population. Ce domaine d'étude qui date du début du XXème siècle est primordiale pour comprendre les dynamiques épidémiques.  Via une modélisation mathématique les experts et les élus peuvent prendre de meilleure décisisons pour cet enjeux de santé publique.[1][6]\n",
    "\n",
    "Les études se découpent généralement en fonction de la taille de population considéré. En dessous de mille individu on peut considerer des modèles discrets. Pour les echelles superieurs un modèle deterministe à temps continu est privilégié (simplicité mise en équation, coup de calcul ...). [2]\n",
    "\n",
    "Il existe differents modèles en fonction la maladie (mode de transmission, immunisation, ...) mais aussi des niveaux de raffinements dans la modélisation avec plus de: paramètres, d'états de la maladie, et de flux possibles. On peut se retrouver rapidement avec des système differentiels de plusieurs equations dépendant de nombreuses variables. \n",
    "\n",
    "Nous allons nous interer à 2 modèles à temps continu, les plus répendus, car permettant une modélisation s'approchant de la réalité avec une puissance de calcul attégnable par un ordinateur personnel. \n",
    "Nous verrons d'abord le modèle SI puis le modèle SIR.</p>"
   ]
  },
  {
   "attachments": {},
   "cell_type": "markdown",
   "id": "632449e6-8409-4a27-a883-6b41c311c75d",
   "metadata": {},
   "source": [
    "## B. Notations\n",
    "\n",
    "<p>Nous exposons ici les differents parametres qui reviendront dans les modèles étudiés.\n",
    "\n",
    "   - N nombre d'individu de la population considéré comme constant au court du temps\n",
    "\n",
    "A un instant t la population est divisée en plusieurs catégories disjointes en fonction des modèles:\n",
    "\n",
    "   - S susceptibles: individus qui ne sont pas malades mais sont susceptibles de le devenir\n",
    "   - I infectieux: individus malades et capables de transmettre l’infection\n",
    "   - R retirés: individus qui ont contracté la maladie et qui ne peuvent plus la transmettre (immunisés de façon permanente, isolés, morts)</p>"
   ]
  },
  {
   "cell_type": "markdown",
   "id": "6f042ff8-efce-44e2-b717-889b820f256d",
   "metadata": {},
   "source": [
    "## C. Hypothèses"
   ]
  },
  {
   "cell_type": "markdown",
   "id": "d22dc124-1e4e-4a97-b1d0-8be320d1a67c",
   "metadata": {},
   "source": [
    "- La maladie est transmise par contact direct entre infectés et susceptibles.\n",
    "- Tous les susceptibles le sont uniformémement et tous les infectés sont également contagieux. \n",
    "- La taille de la population reste fixée, égale à N\n",
    "- Les effectifs sont suffisamment grand devant les variations temporelles l'on considère les fonctions derivables en fonction du temps\n"
   ]
  },
  {
   "cell_type": "markdown",
   "id": "6c8550b1-935e-49d5-874e-6356b0376521",
   "metadata": {},
   "source": [
    "# II. Developpement"
   ]
  },
  {
   "cell_type": "markdown",
   "id": "6aea0fa2-ecab-4163-8212-f0129f965c6d",
   "metadata": {},
   "source": [
    "Présentons à présent nos differents modèles épémiques."
   ]
  },
  {
   "cell_type": "markdown",
   "id": "cf914cd3-58b7-42e2-a9e9-a6a64ba0f3ed",
   "metadata": {},
   "source": [
    "## A. Modèle SI"
   ]
  },
  {
   "cell_type": "markdown",
   "id": "dae02d87-142f-4571-aef0-77fa21d288fc",
   "metadata": {},
   "source": [
    "### 1/ Contexte"
   ]
  },
  {
   "attachments": {},
   "cell_type": "markdown",
   "id": "8dd6452d-e860-439e-8467-9897cf99635d",
   "metadata": {},
   "source": [
    "Ce modèle divise la population en deux catégories. D'un coté les suseptible et de l'autre coté les infectés. Il s'agit d'une maladie hautement contagieuse mais pas foudrouillante (pour qu'il  y est un contact permanent infecté suseptible). De plus les individus ne guerissent pas de la maladie sur l'echelle de temps considéré.\n",
    "\n",
    "![Schéma SI](../Desktop/Capture%20d%E2%80%99e%CC%81cran%202023-03-06%20a%CC%80%2010.03.48.png)"
   ]
  },
  {
   "cell_type": "markdown",
   "id": "131a2ea1-59e4-4146-b78f-512403062684",
   "metadata": {},
   "source": [
    "### 2/ Modélisation"
   ]
  },
  {
   "cell_type": "markdown",
   "id": "8adc3813-dc64-4413-8c07-3af9954e1b21",
   "metadata": {},
   "source": [
    "On obtient le système differentiel suivant.\n",
    "\n",
    "$\\left\\{\\begin{matrix}\n",
    "\\frac{\\mathrm{d}S(t))}{\\mathrm{d} t}= -\\frac{\\beta}{N} S(t)I(t) \\; \\; (1)  \\\\ \\\\\n",
    "\\frac{\\mathrm{d}I(t))}{\\mathrm{d} t}= \\frac{\\beta}{N} S(t)I(t) \\; \\;(2) \\\\ \\\\\n",
    "\\forall \\: t \\; S(t) + I(t) = N \\; \\; (3)\\\\ \\\\\n",
    "\\ S(0) = S_{0} \\; et \\; I(0) = I_{0} \\; \\; (4)\n",
    "\\end{matrix}\\right.$"
   ]
  },
  {
   "cell_type": "markdown",
   "id": "17153855-701a-42e9-9ee9-a99374cd6921",
   "metadata": {},
   "source": [
    "### 3/ Résolution théorique"
   ]
  },
  {
   "attachments": {},
   "cell_type": "markdown",
   "id": "b3f6b1e7-8756-46bd-a809-6adbea812bc8",
   "metadata": {},
   "source": [
    "#### 3.1 Solution du système differentiel"
   ]
  },
  {
   "cell_type": "markdown",
   "id": "43057ccf-b37f-4770-a5bf-922a7b14b90f",
   "metadata": {},
   "source": [
    "En prenant la ligne (2) du système, en réexprimant S par I grâce à (3) on obtient: \n",
    "\n",
    "$\\frac{\\mathrm{d}S(t))}{\\mathrm{d} t}= -\\frac{\\beta}{N} (N-I(t))I(t)$ \n",
    "\n",
    "En procédent ensuite à un changement de variable du type\n",
    "\n",
    "$ x(t)= \\frac{1}{I(t)}$\n",
    "\n",
    "on tombe une equation logistique : \n",
    "\n",
    "$\\frac{\\mathrm{d}x(t))}{\\mathrm{d} t}= \\beta x(t)$ \n",
    "\n",
    "en faisant le changement de variable pour retomber sur I, on obtient:\n",
    "\n",
    "$I(t)=\\frac{I_{0}Ne^{\\beta t}}{S_{0} \\ + \\ I_{0}e^{\\beta t}} \\; (*)$ "
   ]
  },
  {
   "cell_type": "markdown",
   "id": "9ae07514-326c-404d-82fd-a66a74774f30",
   "metadata": {},
   "source": [
    "### 4/ Résolution numérique"
   ]
  },
  {
   "cell_type": "markdown",
   "id": "388cdaa6-ffbf-4bd2-818a-145eb90346c8",
   "metadata": {},
   "source": [
    "#### 4.1 Mise en place de l'espace de travail"
   ]
  },
  {
   "attachments": {},
   "cell_type": "markdown",
   "id": "99f1f2a9-8d24-447d-bc00-d384900e209a",
   "metadata": {},
   "source": [
    "Import des differents packages qui nous serons utiles pour résoudre les équations, tracer les graphiques..."
   ]
  },
  {
   "cell_type": "code",
   "execution_count": 2,
   "id": "8c1ac00e-6998-4d27-b9b4-064b12a2061e",
   "metadata": {},
   "outputs": [],
   "source": [
    "import numpy as np\n",
    "import pandas as pd\n",
    "import numba\n",
    "\n",
    "import scipy\n",
    "from scipy.optimize import fsolve #module pour trouver le zéro d'une fonction\n",
    "\n",
    "from scipy import integrate #résoudre une équation differentielle de manière numérique\n",
    "from scipy.integrate import odeint\n",
    "import sympy as sym\n",
    "\n",
    "import plotly.express as px # création de graphiques plus interactif que matplot\n",
    "import matplotlib.pyplot as plt\n",
    "import plotly.graph_objects as go"
   ]
  },
  {
   "attachments": {},
   "cell_type": "markdown",
   "id": "adfba5a3-2670-489b-9f04-fabe2c131159",
   "metadata": {},
   "source": [
    "On code la fonction correspondant à la solution théorique $(*)$ pour pouvoir comparer la résolution numérique et théorique. On pourra ainsi voir à quel point les differentes méthodes exposées s'approchent correctement ou non de la solution réelle."
   ]
  },
  {
   "cell_type": "code",
   "execution_count": 3,
   "id": "01d68458-0751-4c00-8053-ba0b189459c8",
   "metadata": {},
   "outputs": [],
   "source": [
    "def solution(X0, t): \n",
    "    nt = len(t)\n",
    "    X  = np.zeros([nt, len(X0)]) # création matrice que l'on remplira des valeurs de I et S à chaque instant\n",
    "    for i in range(0,nt):\n",
    "        It= (X0[1]*(X0[0]+X0[1])*np.exp(beta*t[i]))/(X0[0]+X0[1]*np.exp(beta*t[i]))\n",
    "        St = N-It # calcul de S par difference avec I car la population totale est constante\n",
    "        X[i,0], X[i,1] = St, It\n",
    "    return(X)"
   ]
  },
  {
   "cell_type": "markdown",
   "id": "07cde9d3-e6e4-4677-9894-ccaaec18b697",
   "metadata": {},
   "source": [
    "#### 4.2 Initialisation des paramètres"
   ]
  },
  {
   "cell_type": "code",
   "execution_count": 4,
   "id": "8dcb711a-6a3c-4081-a725-3172ef75038a",
   "metadata": {},
   "outputs": [],
   "source": [
    "# CONDITIONS INITIALES SUR LES COMPARTIMENTS\n",
    "N = 1000. # nombre total d'individu dans notre population\n",
    "I0 = 30. # nombre d'infecté initialement\n",
    "S0 = N - I0  # nombre de suseptible initialement car population de taille fixe\n",
    "X0 = S0, I0\n",
    "\n",
    "# PARAMETRES DU VIRUS\n",
    "beta = 0.7 # taux de contact infectant (unité: par jour)\n",
    "\n",
    "# PARAMETRES TEMPORELLES\n",
    "tmax = 15 # durée de la modélisation en jours\n",
    "Nt = 30 # nombres de noeuds pour le maillage\n",
    "T = np.linspace(0, tmax, Nt) # création du maillage\n",
    "\n",
    "# PS: certains paramètres seront modifiés pour certains codes pour mettre en valeur des points particulier de l'EDP"
   ]
  },
  {
   "cell_type": "markdown",
   "id": "da9a1e9a-129f-4e06-a547-a2bc5d3c6af9",
   "metadata": {},
   "source": [
    "#### 4.3 Fonction traduisant le système"
   ]
  },
  {
   "cell_type": "markdown",
   "id": "28c4e854-6694-4dd7-88c3-25fc7c9ead41",
   "metadata": {},
   "source": [
    "On réecrit notre système sous la forme requise pour les schémas numériques.\n",
    "A noter que l'on pourrait seulement calculer soit S, soit I puis soustraire à N. Nous retenons cette méthode par cohérence avec le modèles suivants (SIR)."
   ]
  },
  {
   "cell_type": "code",
   "execution_count": 5,
   "id": "d483cc90-39a1-4389-9992-689fd243bea7",
   "metadata": {},
   "outputs": [],
   "source": [
    "def derivative_SI(X, t):\n",
    "    S, I = X\n",
    "    dS = -beta * S * I / N # ligne (2) du système\n",
    "    dI = beta * S * I / N # ligne (3) du système\n",
    "    return np.array([dS, dI])"
   ]
  },
  {
   "cell_type": "markdown",
   "id": "895d0709-647b-4fba-a254-b8d2383b9c16",
   "metadata": {},
   "source": [
    "#### 4.4 Euler Explicite"
   ]
  },
  {
   "cell_type": "markdown",
   "id": "3f5fcb31-67b7-4b67-b69b-95af67f99515",
   "metadata": {},
   "source": [
    "Le schéma numérique pour l'Euler Explicite est le suivant: \n",
    "\n",
    "$\\begin{cases}\n",
    "        z^{n+1} = z^{n}+\\Delta tf(t^{n},z^{n}) \\\\\n",
    "        z^{0} = y^{0}\n",
    "     \\end{cases}$"
   ]
  },
  {
   "cell_type": "code",
   "execution_count": 6,
   "id": "548f451a-dd12-4e71-b3f1-9584abd84667",
   "metadata": {},
   "outputs": [],
   "source": [
    "def Euler_Explicite(func, X0, t):\n",
    "    dt = t[1] - t[0] # pas de temps\n",
    "    nt = len(t)\n",
    "    X  = np.zeros([nt, len(X0)])\n",
    "    X[0] = X0 # conditions à t = 0 \n",
    "    for i in range(nt-1):\n",
    "        X[i+1] = X[i] + func(X[i], t[i]) * dt # schéma \n",
    "    return X"
   ]
  },
  {
   "cell_type": "markdown",
   "id": "31333b87-f437-44ca-9220-3f4333ff9177",
   "metadata": {},
   "source": [
    "#### 4.5 Euler Implicite"
   ]
  },
  {
   "cell_type": "markdown",
   "id": "8b1e0399-7a90-4382-a2a9-70d71ffc0d8d",
   "metadata": {},
   "source": [
    "### Euler Implicite\n",
    "\n",
    "\n",
    "$\\begin{cases}\n",
    "        z^{n+1} = z^{n}+\\Delta tf(t^{n+1},z^{n+1}) \\\\\n",
    "        z^{0} = y^{0}\n",
    "    \\end{cases}$\n",
    "    \n",
    "Nous allons devoir utiliser la fonction lambda qui permet de trouver le zéro d'une fonction afin de déterminer z(t+1). Il faut annuler la fonction en x ci-dessous dont on connait tous les éléments : \n",
    "\n",
    "$g_{n}(x)=-x+z^{n}+\\Delta t.derivative(t^{n+1},x)$\n"
   ]
  },
  {
   "cell_type": "code",
   "execution_count": 7,
   "id": "ae87c3a1-870a-40e2-8d15-ad2d84c80531",
   "metadata": {},
   "outputs": [],
   "source": [
    "def Euler_Implicite(func, X0, t):\n",
    "   \n",
    "    dt = t[1] - t[0]\n",
    "    nt = len(t)\n",
    "    X  = np.zeros([nt, len(X0)])\n",
    "    X[0] = X0 # conditions à t = 0\n",
    "    for i in range(nt-1):\n",
    "        func_eq = lambda Xnp : -Xnp + X[i] + dt * func(Xnp, t[i+1]) #zéro de la fonction\n",
    "        X[i+1] = fsolve(func_eq, X[i])\n",
    "    return X"
   ]
  },
  {
   "cell_type": "markdown",
   "id": "5c6d5541-a8f6-429b-ad6e-1c1ee6523935",
   "metadata": {},
   "source": [
    "#### 4.6 Comparaision des méthodes graphiquement"
   ]
  },
  {
   "attachments": {},
   "cell_type": "markdown",
   "id": "9e630f1a-8b69-45c2-8d31-cb98701ab6a9",
   "metadata": {},
   "source": [
    "On obtient les valeurs pour chacunes des classes (S et I) à differents instants pour chacune des méthodes"
   ]
  },
  {
   "cell_type": "code",
   "execution_count": 8,
   "id": "6f489d32-8704-4e1c-81ea-c039ac7edaa7",
   "metadata": {},
   "outputs": [],
   "source": [
    "XTH = solution(X0, T) # Solution Théorique\n",
    "XEI =Euler_Implicite(derivative_SI, X0, T) # Solution Implicite\n",
    "XEE = Euler_Explicite(derivative_SI, X0, T) # Solution Explicite"
   ]
  },
  {
   "cell_type": "markdown",
   "id": "d6d7e85e-6a3c-4f53-a7f5-ee3a8549ba63",
   "metadata": {},
   "source": [
    "On convertit nos données sous forme pandas pour pouvoir les visualiser sur un graphique interactif pour pouvoir zoomer si besoin dans certaines zones. On peut cliquer sur les variables sur le coté pour les faire disparaitres si besoin et se concentrer que sur certaines courbes."
   ]
  },
  {
   "cell_type": "code",
   "execution_count": 9,
   "id": "bf79baff-b77d-4da6-947f-f6f445b66cf3",
   "metadata": {},
   "outputs": [
    {
     "data": {
      "application/vnd.plotly.v1+json": {
       "config": {
        "plotlyServerURL": "https://plot.ly"
       },
       "data": [
        {
         "hovertemplate": "variable=S_Imp<br>temps (en jours)=%{x}<br>nombre d'individus=%{y}<extra></extra>",
         "legendgroup": "S_Imp",
         "line": {
          "color": "#636efa",
          "dash": "solid"
         },
         "marker": {
          "symbol": "circle"
         },
         "mode": "lines",
         "name": "S_Imp",
         "orientation": "v",
         "showlegend": true,
         "type": "scatter",
         "x": [
          0,
          0.5172413793103449,
          1.0344827586206897,
          1.5517241379310347,
          2.0689655172413794,
          2.586206896551724,
          3.1034482758620694,
          3.620689655172414,
          4.137931034482759,
          4.655172413793104,
          5.172413793103448,
          5.689655172413794,
          6.206896551724139,
          6.724137931034483,
          7.241379310344828,
          7.758620689655173,
          8.275862068965518,
          8.793103448275863,
          9.310344827586208,
          9.827586206896552,
          10.344827586206897,
          10.862068965517242,
          11.379310344827587,
          11.896551724137932,
          12.413793103448278,
          12.931034482758621,
          13.448275862068966,
          13.965517241379311,
          14.482758620689657,
          15
         ],
         "xaxis": "x",
         "y": [
          970,
          954.1653286243869,
          930.8639142092484,
          897.578402208469,
          851.8966020132641,
          792.318109188208,
          719.1973720541442,
          635.3090881977099,
          545.5428319990258,
          455.7350242347075,
          371.22223095543194,
          295.80210037652523,
          231.40558567827432,
          178.3480022447816,
          135.84445800481325,
          102.52824594730109,
          76.84356807583013,
          57.28924242595812,
          42.54153787397352,
          31.49673580228663,
          23.268103467738193,
          17.161198002318805,
          12.641843346858575,
          9.304365947561681,
          6.843502900373539,
          5.031072325129461,
          3.697332537763307,
          2.7164588520615944,
          1.9954206226868718,
          1.4655633102276022
         ],
         "yaxis": "y"
        },
        {
         "hovertemplate": "variable=I_Imp<br>temps (en jours)=%{x}<br>nombre d'individus=%{y}<extra></extra>",
         "legendgroup": "I_Imp",
         "line": {
          "color": "#EF553B",
          "dash": "solid"
         },
         "marker": {
          "symbol": "circle"
         },
         "mode": "lines",
         "name": "I_Imp",
         "orientation": "v",
         "showlegend": true,
         "type": "scatter",
         "x": [
          0,
          0.5172413793103449,
          1.0344827586206897,
          1.5517241379310347,
          2.0689655172413794,
          2.586206896551724,
          3.1034482758620694,
          3.620689655172414,
          4.137931034482759,
          4.655172413793104,
          5.172413793103448,
          5.689655172413794,
          6.206896551724139,
          6.724137931034483,
          7.241379310344828,
          7.758620689655173,
          8.275862068965518,
          8.793103448275863,
          9.310344827586208,
          9.827586206896552,
          10.344827586206897,
          10.862068965517242,
          11.379310344827587,
          11.896551724137932,
          12.413793103448278,
          12.931034482758621,
          13.448275862068966,
          13.965517241379311,
          14.482758620689657,
          15
         ],
         "xaxis": "x",
         "y": [
          30,
          45.83467137561305,
          69.13608579075162,
          102.42159779153101,
          148.10339798673598,
          207.68189081179202,
          280.8026279458558,
          364.6909118022902,
          454.4571680009743,
          544.2649757652927,
          628.7777690445682,
          704.197899623475,
          768.5944143217259,
          821.6519977552186,
          864.155541995187,
          897.4717540526992,
          923.1564319241702,
          942.7107575740422,
          957.4584621260268,
          968.5032641977136,
          976.7318965322621,
          982.8388019976815,
          987.3581566531417,
          990.6956340524385,
          993.1564970996267,
          994.9689276748708,
          996.302667462237,
          997.2835411479386,
          998.0045793773133,
          998.5344366897726
         ],
         "yaxis": "y"
        },
        {
         "hovertemplate": "variable=S_Exp<br>temps (en jours)=%{x}<br>nombre d'individus=%{y}<extra></extra>",
         "legendgroup": "S_Exp",
         "line": {
          "color": "#00cc96",
          "dash": "solid"
         },
         "marker": {
          "symbol": "circle"
         },
         "mode": "lines",
         "name": "S_Exp",
         "orientation": "v",
         "showlegend": true,
         "type": "scatter",
         "x": [
          0,
          0.5172413793103449,
          1.0344827586206897,
          1.5517241379310347,
          2.0689655172413794,
          2.586206896551724,
          3.1034482758620694,
          3.620689655172414,
          4.137931034482759,
          4.655172413793104,
          5.172413793103448,
          5.689655172413794,
          6.206896551724139,
          6.724137931034483,
          7.241379310344828,
          7.758620689655173,
          8.275862068965518,
          8.793103448275863,
          9.310344827586208,
          9.827586206896552,
          10.344827586206897,
          10.862068965517242,
          11.379310344827587,
          11.896551724137932,
          12.413793103448278,
          12.931034482758621,
          13.448275862068966,
          13.965517241379311,
          14.482758620689657,
          15
         ],
         "xaxis": "x",
         "y": [
          970,
          959.4637931034483,
          945.381836562641,
          926.6863984098501,
          902.0878972779079,
          870.108039000059,
          829.1869902273323,
          777.9050172141173,
          715.3507960149509,
          641.624852432705,
          558.3698451112963,
          469.0861867524109,
          378.9149615944737,
          293.70622568135343,
          218.59759719472044,
          156.75162406362182,
          108.89314818848706,
          73.75963026111063,
          49.02338730762868,
          32.143697809442244,
          20.879558317853835,
          13.477564359088168,
          8.663524497385911,
          5.553906830936753,
          3.5541778663358814,
          2.271894083462831,
          1.4511805628513912,
          0.9265156077766799,
          0.5913638714196152,
          0.37737598583314813
         ],
         "yaxis": "y"
        },
        {
         "hovertemplate": "variable=I_Exp<br>temps (en jours)=%{x}<br>nombre d'individus=%{y}<extra></extra>",
         "legendgroup": "I_Exp",
         "line": {
          "color": "#ab63fa",
          "dash": "solid"
         },
         "marker": {
          "symbol": "circle"
         },
         "mode": "lines",
         "name": "I_Exp",
         "orientation": "v",
         "showlegend": true,
         "type": "scatter",
         "x": [
          0,
          0.5172413793103449,
          1.0344827586206897,
          1.5517241379310347,
          2.0689655172413794,
          2.586206896551724,
          3.1034482758620694,
          3.620689655172414,
          4.137931034482759,
          4.655172413793104,
          5.172413793103448,
          5.689655172413794,
          6.206896551724139,
          6.724137931034483,
          7.241379310344828,
          7.758620689655173,
          8.275862068965518,
          8.793103448275863,
          9.310344827586208,
          9.827586206896552,
          10.344827586206897,
          10.862068965517242,
          11.379310344827587,
          11.896551724137932,
          12.413793103448278,
          12.931034482758621,
          13.448275862068966,
          13.965517241379311,
          14.482758620689657,
          15
         ],
         "xaxis": "x",
         "y": [
          30,
          40.536206896551725,
          54.61816343735906,
          73.3136015901499,
          97.91210272209204,
          129.89196099994103,
          170.81300977266773,
          222.09498278588282,
          284.6492039850491,
          358.3751475672951,
          441.63015488870377,
          530.9138132475891,
          621.0850384055263,
          706.2937743186467,
          781.4024028052797,
          843.2483759363784,
          891.1068518115131,
          926.2403697388895,
          950.9766126923714,
          967.8563021905578,
          979.1204416821462,
          986.5224356409118,
          991.336475502614,
          994.4460931690631,
          996.445822133664,
          997.7281059165371,
          998.5488194371485,
          999.0734843922232,
          999.4086361285803,
          999.6226240141667
         ],
         "yaxis": "y"
        },
        {
         "hovertemplate": "variable=S_Th<br>temps (en jours)=%{x}<br>nombre d'individus=%{y}<extra></extra>",
         "legendgroup": "S_Th",
         "line": {
          "color": "#FFA15A",
          "dash": "solid"
         },
         "marker": {
          "symbol": "circle"
         },
         "mode": "lines",
         "name": "S_Th",
         "orientation": "v",
         "showlegend": true,
         "type": "scatter",
         "x": [
          0,
          0.5172413793103449,
          1.0344827586206897,
          1.5517241379310347,
          2.0689655172413794,
          2.586206896551724,
          3.1034482758620694,
          3.620689655172414,
          4.137931034482759,
          4.655172413793104,
          5.172413793103448,
          5.689655172413794,
          6.206896551724139,
          6.724137931034483,
          7.241379310344828,
          7.758620689655173,
          8.275862068965518,
          8.793103448275863,
          9.310344827586208,
          9.827586206896552,
          10.344827586206897,
          10.862068965517242,
          11.379310344827587,
          11.896551724137932,
          12.413793103448278,
          12.931034482758621,
          13.448275862068966,
          13.965517241379311,
          14.482758620689657,
          15
         ],
         "xaxis": "x",
         "y": [
          970,
          957.4677620944548,
          940.02399064948,
          916.0532474135191,
          883.6874865164697,
          841.0088793417809,
          786.4544919157997,
          719.425952395952,
          640.9631564870685,
          554.1562173383309,
          463.91510431895927,
          375.9768415162871,
          295.51886104360324,
          226.0418117480839,
          168.98093661712971,
          124.01615681260137,
          89.7243920326556,
          64.21951884451164,
          45.60141290920717,
          32.19524318411845,
          22.636817967613524,
          15.869654555081866,
          11.102520053404191,
          7.75611382498505,
          5.412825706710123,
          3.7748018320796746,
          2.6311637374298016,
          1.8333719101674433,
          1.2771677746424075,
          0.8895531862360713
         ],
         "yaxis": "y"
        },
        {
         "hovertemplate": "variable=I_Th<br>temps (en jours)=%{x}<br>nombre d'individus=%{y}<extra></extra>",
         "legendgroup": "I_Th",
         "line": {
          "color": "#19d3f3",
          "dash": "solid"
         },
         "marker": {
          "symbol": "circle"
         },
         "mode": "lines",
         "name": "I_Th",
         "orientation": "v",
         "showlegend": true,
         "type": "scatter",
         "x": [
          0,
          0.5172413793103449,
          1.0344827586206897,
          1.5517241379310347,
          2.0689655172413794,
          2.586206896551724,
          3.1034482758620694,
          3.620689655172414,
          4.137931034482759,
          4.655172413793104,
          5.172413793103448,
          5.689655172413794,
          6.206896551724139,
          6.724137931034483,
          7.241379310344828,
          7.758620689655173,
          8.275862068965518,
          8.793103448275863,
          9.310344827586208,
          9.827586206896552,
          10.344827586206897,
          10.862068965517242,
          11.379310344827587,
          11.896551724137932,
          12.413793103448278,
          12.931034482758621,
          13.448275862068966,
          13.965517241379311,
          14.482758620689657,
          15
         ],
         "xaxis": "x",
         "y": [
          30,
          42.532237905545244,
          59.976009350520044,
          83.94675258648093,
          116.31251348353035,
          158.9911206582191,
          213.54550808420032,
          280.574047604048,
          359.0368435129314,
          445.8437826616691,
          536.0848956810407,
          624.0231584837129,
          704.4811389563968,
          773.9581882519161,
          831.0190633828703,
          875.9838431873986,
          910.2756079673444,
          935.7804811554884,
          954.3985870907928,
          967.8047568158815,
          977.3631820323865,
          984.1303454449181,
          988.8974799465958,
          992.243886175015,
          994.5871742932899,
          996.2251981679203,
          997.3688362625702,
          998.1666280898326,
          998.7228322253576,
          999.1104468137639
         ],
         "yaxis": "y"
        }
       ],
       "layout": {
        "legend": {
         "title": {
          "text": "variable"
         },
         "tracegroupgap": 0
        },
        "template": {
         "data": {
          "bar": [
           {
            "error_x": {
             "color": "#2a3f5f"
            },
            "error_y": {
             "color": "#2a3f5f"
            },
            "marker": {
             "line": {
              "color": "#E5ECF6",
              "width": 0.5
             },
             "pattern": {
              "fillmode": "overlay",
              "size": 10,
              "solidity": 0.2
             }
            },
            "type": "bar"
           }
          ],
          "barpolar": [
           {
            "marker": {
             "line": {
              "color": "#E5ECF6",
              "width": 0.5
             },
             "pattern": {
              "fillmode": "overlay",
              "size": 10,
              "solidity": 0.2
             }
            },
            "type": "barpolar"
           }
          ],
          "carpet": [
           {
            "aaxis": {
             "endlinecolor": "#2a3f5f",
             "gridcolor": "white",
             "linecolor": "white",
             "minorgridcolor": "white",
             "startlinecolor": "#2a3f5f"
            },
            "baxis": {
             "endlinecolor": "#2a3f5f",
             "gridcolor": "white",
             "linecolor": "white",
             "minorgridcolor": "white",
             "startlinecolor": "#2a3f5f"
            },
            "type": "carpet"
           }
          ],
          "choropleth": [
           {
            "colorbar": {
             "outlinewidth": 0,
             "ticks": ""
            },
            "type": "choropleth"
           }
          ],
          "contour": [
           {
            "colorbar": {
             "outlinewidth": 0,
             "ticks": ""
            },
            "colorscale": [
             [
              0,
              "#0d0887"
             ],
             [
              0.1111111111111111,
              "#46039f"
             ],
             [
              0.2222222222222222,
              "#7201a8"
             ],
             [
              0.3333333333333333,
              "#9c179e"
             ],
             [
              0.4444444444444444,
              "#bd3786"
             ],
             [
              0.5555555555555556,
              "#d8576b"
             ],
             [
              0.6666666666666666,
              "#ed7953"
             ],
             [
              0.7777777777777778,
              "#fb9f3a"
             ],
             [
              0.8888888888888888,
              "#fdca26"
             ],
             [
              1,
              "#f0f921"
             ]
            ],
            "type": "contour"
           }
          ],
          "contourcarpet": [
           {
            "colorbar": {
             "outlinewidth": 0,
             "ticks": ""
            },
            "type": "contourcarpet"
           }
          ],
          "heatmap": [
           {
            "colorbar": {
             "outlinewidth": 0,
             "ticks": ""
            },
            "colorscale": [
             [
              0,
              "#0d0887"
             ],
             [
              0.1111111111111111,
              "#46039f"
             ],
             [
              0.2222222222222222,
              "#7201a8"
             ],
             [
              0.3333333333333333,
              "#9c179e"
             ],
             [
              0.4444444444444444,
              "#bd3786"
             ],
             [
              0.5555555555555556,
              "#d8576b"
             ],
             [
              0.6666666666666666,
              "#ed7953"
             ],
             [
              0.7777777777777778,
              "#fb9f3a"
             ],
             [
              0.8888888888888888,
              "#fdca26"
             ],
             [
              1,
              "#f0f921"
             ]
            ],
            "type": "heatmap"
           }
          ],
          "heatmapgl": [
           {
            "colorbar": {
             "outlinewidth": 0,
             "ticks": ""
            },
            "colorscale": [
             [
              0,
              "#0d0887"
             ],
             [
              0.1111111111111111,
              "#46039f"
             ],
             [
              0.2222222222222222,
              "#7201a8"
             ],
             [
              0.3333333333333333,
              "#9c179e"
             ],
             [
              0.4444444444444444,
              "#bd3786"
             ],
             [
              0.5555555555555556,
              "#d8576b"
             ],
             [
              0.6666666666666666,
              "#ed7953"
             ],
             [
              0.7777777777777778,
              "#fb9f3a"
             ],
             [
              0.8888888888888888,
              "#fdca26"
             ],
             [
              1,
              "#f0f921"
             ]
            ],
            "type": "heatmapgl"
           }
          ],
          "histogram": [
           {
            "marker": {
             "pattern": {
              "fillmode": "overlay",
              "size": 10,
              "solidity": 0.2
             }
            },
            "type": "histogram"
           }
          ],
          "histogram2d": [
           {
            "colorbar": {
             "outlinewidth": 0,
             "ticks": ""
            },
            "colorscale": [
             [
              0,
              "#0d0887"
             ],
             [
              0.1111111111111111,
              "#46039f"
             ],
             [
              0.2222222222222222,
              "#7201a8"
             ],
             [
              0.3333333333333333,
              "#9c179e"
             ],
             [
              0.4444444444444444,
              "#bd3786"
             ],
             [
              0.5555555555555556,
              "#d8576b"
             ],
             [
              0.6666666666666666,
              "#ed7953"
             ],
             [
              0.7777777777777778,
              "#fb9f3a"
             ],
             [
              0.8888888888888888,
              "#fdca26"
             ],
             [
              1,
              "#f0f921"
             ]
            ],
            "type": "histogram2d"
           }
          ],
          "histogram2dcontour": [
           {
            "colorbar": {
             "outlinewidth": 0,
             "ticks": ""
            },
            "colorscale": [
             [
              0,
              "#0d0887"
             ],
             [
              0.1111111111111111,
              "#46039f"
             ],
             [
              0.2222222222222222,
              "#7201a8"
             ],
             [
              0.3333333333333333,
              "#9c179e"
             ],
             [
              0.4444444444444444,
              "#bd3786"
             ],
             [
              0.5555555555555556,
              "#d8576b"
             ],
             [
              0.6666666666666666,
              "#ed7953"
             ],
             [
              0.7777777777777778,
              "#fb9f3a"
             ],
             [
              0.8888888888888888,
              "#fdca26"
             ],
             [
              1,
              "#f0f921"
             ]
            ],
            "type": "histogram2dcontour"
           }
          ],
          "mesh3d": [
           {
            "colorbar": {
             "outlinewidth": 0,
             "ticks": ""
            },
            "type": "mesh3d"
           }
          ],
          "parcoords": [
           {
            "line": {
             "colorbar": {
              "outlinewidth": 0,
              "ticks": ""
             }
            },
            "type": "parcoords"
           }
          ],
          "pie": [
           {
            "automargin": true,
            "type": "pie"
           }
          ],
          "scatter": [
           {
            "fillpattern": {
             "fillmode": "overlay",
             "size": 10,
             "solidity": 0.2
            },
            "type": "scatter"
           }
          ],
          "scatter3d": [
           {
            "line": {
             "colorbar": {
              "outlinewidth": 0,
              "ticks": ""
             }
            },
            "marker": {
             "colorbar": {
              "outlinewidth": 0,
              "ticks": ""
             }
            },
            "type": "scatter3d"
           }
          ],
          "scattercarpet": [
           {
            "marker": {
             "colorbar": {
              "outlinewidth": 0,
              "ticks": ""
             }
            },
            "type": "scattercarpet"
           }
          ],
          "scattergeo": [
           {
            "marker": {
             "colorbar": {
              "outlinewidth": 0,
              "ticks": ""
             }
            },
            "type": "scattergeo"
           }
          ],
          "scattergl": [
           {
            "marker": {
             "colorbar": {
              "outlinewidth": 0,
              "ticks": ""
             }
            },
            "type": "scattergl"
           }
          ],
          "scattermapbox": [
           {
            "marker": {
             "colorbar": {
              "outlinewidth": 0,
              "ticks": ""
             }
            },
            "type": "scattermapbox"
           }
          ],
          "scatterpolar": [
           {
            "marker": {
             "colorbar": {
              "outlinewidth": 0,
              "ticks": ""
             }
            },
            "type": "scatterpolar"
           }
          ],
          "scatterpolargl": [
           {
            "marker": {
             "colorbar": {
              "outlinewidth": 0,
              "ticks": ""
             }
            },
            "type": "scatterpolargl"
           }
          ],
          "scatterternary": [
           {
            "marker": {
             "colorbar": {
              "outlinewidth": 0,
              "ticks": ""
             }
            },
            "type": "scatterternary"
           }
          ],
          "surface": [
           {
            "colorbar": {
             "outlinewidth": 0,
             "ticks": ""
            },
            "colorscale": [
             [
              0,
              "#0d0887"
             ],
             [
              0.1111111111111111,
              "#46039f"
             ],
             [
              0.2222222222222222,
              "#7201a8"
             ],
             [
              0.3333333333333333,
              "#9c179e"
             ],
             [
              0.4444444444444444,
              "#bd3786"
             ],
             [
              0.5555555555555556,
              "#d8576b"
             ],
             [
              0.6666666666666666,
              "#ed7953"
             ],
             [
              0.7777777777777778,
              "#fb9f3a"
             ],
             [
              0.8888888888888888,
              "#fdca26"
             ],
             [
              1,
              "#f0f921"
             ]
            ],
            "type": "surface"
           }
          ],
          "table": [
           {
            "cells": {
             "fill": {
              "color": "#EBF0F8"
             },
             "line": {
              "color": "white"
             }
            },
            "header": {
             "fill": {
              "color": "#C8D4E3"
             },
             "line": {
              "color": "white"
             }
            },
            "type": "table"
           }
          ]
         },
         "layout": {
          "annotationdefaults": {
           "arrowcolor": "#2a3f5f",
           "arrowhead": 0,
           "arrowwidth": 1
          },
          "autotypenumbers": "strict",
          "coloraxis": {
           "colorbar": {
            "outlinewidth": 0,
            "ticks": ""
           }
          },
          "colorscale": {
           "diverging": [
            [
             0,
             "#8e0152"
            ],
            [
             0.1,
             "#c51b7d"
            ],
            [
             0.2,
             "#de77ae"
            ],
            [
             0.3,
             "#f1b6da"
            ],
            [
             0.4,
             "#fde0ef"
            ],
            [
             0.5,
             "#f7f7f7"
            ],
            [
             0.6,
             "#e6f5d0"
            ],
            [
             0.7,
             "#b8e186"
            ],
            [
             0.8,
             "#7fbc41"
            ],
            [
             0.9,
             "#4d9221"
            ],
            [
             1,
             "#276419"
            ]
           ],
           "sequential": [
            [
             0,
             "#0d0887"
            ],
            [
             0.1111111111111111,
             "#46039f"
            ],
            [
             0.2222222222222222,
             "#7201a8"
            ],
            [
             0.3333333333333333,
             "#9c179e"
            ],
            [
             0.4444444444444444,
             "#bd3786"
            ],
            [
             0.5555555555555556,
             "#d8576b"
            ],
            [
             0.6666666666666666,
             "#ed7953"
            ],
            [
             0.7777777777777778,
             "#fb9f3a"
            ],
            [
             0.8888888888888888,
             "#fdca26"
            ],
            [
             1,
             "#f0f921"
            ]
           ],
           "sequentialminus": [
            [
             0,
             "#0d0887"
            ],
            [
             0.1111111111111111,
             "#46039f"
            ],
            [
             0.2222222222222222,
             "#7201a8"
            ],
            [
             0.3333333333333333,
             "#9c179e"
            ],
            [
             0.4444444444444444,
             "#bd3786"
            ],
            [
             0.5555555555555556,
             "#d8576b"
            ],
            [
             0.6666666666666666,
             "#ed7953"
            ],
            [
             0.7777777777777778,
             "#fb9f3a"
            ],
            [
             0.8888888888888888,
             "#fdca26"
            ],
            [
             1,
             "#f0f921"
            ]
           ]
          },
          "colorway": [
           "#636efa",
           "#EF553B",
           "#00cc96",
           "#ab63fa",
           "#FFA15A",
           "#19d3f3",
           "#FF6692",
           "#B6E880",
           "#FF97FF",
           "#FECB52"
          ],
          "font": {
           "color": "#2a3f5f"
          },
          "geo": {
           "bgcolor": "white",
           "lakecolor": "white",
           "landcolor": "#E5ECF6",
           "showlakes": true,
           "showland": true,
           "subunitcolor": "white"
          },
          "hoverlabel": {
           "align": "left"
          },
          "hovermode": "closest",
          "mapbox": {
           "style": "light"
          },
          "paper_bgcolor": "white",
          "plot_bgcolor": "#E5ECF6",
          "polar": {
           "angularaxis": {
            "gridcolor": "white",
            "linecolor": "white",
            "ticks": ""
           },
           "bgcolor": "#E5ECF6",
           "radialaxis": {
            "gridcolor": "white",
            "linecolor": "white",
            "ticks": ""
           }
          },
          "scene": {
           "xaxis": {
            "backgroundcolor": "#E5ECF6",
            "gridcolor": "white",
            "gridwidth": 2,
            "linecolor": "white",
            "showbackground": true,
            "ticks": "",
            "zerolinecolor": "white"
           },
           "yaxis": {
            "backgroundcolor": "#E5ECF6",
            "gridcolor": "white",
            "gridwidth": 2,
            "linecolor": "white",
            "showbackground": true,
            "ticks": "",
            "zerolinecolor": "white"
           },
           "zaxis": {
            "backgroundcolor": "#E5ECF6",
            "gridcolor": "white",
            "gridwidth": 2,
            "linecolor": "white",
            "showbackground": true,
            "ticks": "",
            "zerolinecolor": "white"
           }
          },
          "shapedefaults": {
           "line": {
            "color": "#2a3f5f"
           }
          },
          "ternary": {
           "aaxis": {
            "gridcolor": "white",
            "linecolor": "white",
            "ticks": ""
           },
           "baxis": {
            "gridcolor": "white",
            "linecolor": "white",
            "ticks": ""
           },
           "bgcolor": "#E5ECF6",
           "caxis": {
            "gridcolor": "white",
            "linecolor": "white",
            "ticks": ""
           }
          },
          "title": {
           "x": 0.05
          },
          "xaxis": {
           "automargin": true,
           "gridcolor": "white",
           "linecolor": "white",
           "ticks": "",
           "title": {
            "standoff": 15
           },
           "zerolinecolor": "white",
           "zerolinewidth": 2
          },
          "yaxis": {
           "automargin": true,
           "gridcolor": "white",
           "linecolor": "white",
           "ticks": "",
           "title": {
            "standoff": 15
           },
           "zerolinecolor": "white",
           "zerolinewidth": 2
          }
         }
        },
        "title": {
         "text": "Evolution du nombre d'individus seins et infectés pour differentes méthodes de résolution"
        },
        "xaxis": {
         "anchor": "y",
         "domain": [
          0,
          1
         ],
         "title": {
          "text": "temps (en jours)"
         }
        },
        "yaxis": {
         "anchor": "x",
         "domain": [
          0,
          1
         ],
         "title": {
          "text": "nombre d'individus"
         }
        }
       }
      }
     },
     "metadata": {},
     "output_type": "display_data"
    }
   ],
   "source": [
    "# Transformation en pandas\n",
    "df = pd.DataFrame({'S_Imp':XEI[:,0] ,'I_Imp':XEI[:,1], 'S_Exp':XEE[:,0], 'I_Exp':XEE[:,1],'S_Th':XTH[:,0], 'I_Th':XTH[:,1]\n",
    "                   }) \n",
    "df.insert(0, 'temps (en jours)', T) # ajout du temps en jours en colonne 1\n",
    "\n",
    "# Affichage avec plotly\n",
    "fig = px.line(df, x='temps (en jours)', y=['S_Imp','I_Imp','S_Exp','I_Exp','S_Th','I_Th'], labels=dict(index=\"temps (en jours)\", value=\"nombre d'individus\", title=\"\"), title=\"Evolution du nombre d'individus seins et infectés pour differentes méthodes de résolution\")\n",
    "fig.show()\n"
   ]
  },
  {
   "cell_type": "markdown",
   "id": "211ec774-fca4-43c7-bce5-fb32a341451e",
   "metadata": {},
   "source": [
    "On remarque que pour un maillage fait avec 1 point tout les 2 jours la solution explicite est trop élevée pour S et la solution implicite donne une solution un peu en dessous de la réalité."
   ]
  },
  {
   "attachments": {},
   "cell_type": "markdown",
   "id": "21b6e83c",
   "metadata": {},
   "source": [
    "#### 4.7 Cas limites\n",
    "\n",
    "Vérifions notre modèle sur des cas limites. On va prendre dans un cas beta nulle et dans l'autre I0 nulle, il ne doit pas y avoir de propagation de l'épidémie dans chacun de ses cas"
   ]
  },
  {
   "attachments": {},
   "cell_type": "markdown",
   "id": "8e466f0f",
   "metadata": {},
   "source": [
    "##### 4.7.1 I(0) nulle"
   ]
  },
  {
   "cell_type": "code",
   "execution_count": 10,
   "id": "bda74861",
   "metadata": {},
   "outputs": [
    {
     "data": {
      "application/vnd.plotly.v1+json": {
       "config": {
        "plotlyServerURL": "https://plot.ly"
       },
       "data": [
        {
         "hovertemplate": "variable=S_Imp<br>temps (en jours)=%{x}<br>nombre d'individus=%{y}<extra></extra>",
         "legendgroup": "S_Imp",
         "line": {
          "color": "#636efa",
          "dash": "solid"
         },
         "marker": {
          "symbol": "circle"
         },
         "mode": "lines",
         "name": "S_Imp",
         "orientation": "v",
         "showlegend": true,
         "type": "scatter",
         "x": [
          0,
          0.5172413793103449,
          1.0344827586206897,
          1.5517241379310347,
          2.0689655172413794,
          2.586206896551724,
          3.1034482758620694,
          3.620689655172414,
          4.137931034482759,
          4.655172413793104,
          5.172413793103448,
          5.689655172413794,
          6.206896551724139,
          6.724137931034483,
          7.241379310344828,
          7.758620689655173,
          8.275862068965518,
          8.793103448275863,
          9.310344827586208,
          9.827586206896552,
          10.344827586206897,
          10.862068965517242,
          11.379310344827587,
          11.896551724137932,
          12.413793103448278,
          12.931034482758621,
          13.448275862068966,
          13.965517241379311,
          14.482758620689657,
          15
         ],
         "xaxis": "x",
         "y": [
          100,
          100,
          100,
          100,
          100,
          100,
          100,
          100,
          100,
          100,
          100,
          100,
          100,
          100,
          100,
          100,
          100,
          100,
          100,
          100,
          100,
          100,
          100,
          100,
          100,
          100,
          100,
          100,
          100,
          100
         ],
         "yaxis": "y"
        },
        {
         "hovertemplate": "variable=I_Imp<br>temps (en jours)=%{x}<br>nombre d'individus=%{y}<extra></extra>",
         "legendgroup": "I_Imp",
         "line": {
          "color": "#EF553B",
          "dash": "solid"
         },
         "marker": {
          "symbol": "circle"
         },
         "mode": "lines",
         "name": "I_Imp",
         "orientation": "v",
         "showlegend": true,
         "type": "scatter",
         "x": [
          0,
          0.5172413793103449,
          1.0344827586206897,
          1.5517241379310347,
          2.0689655172413794,
          2.586206896551724,
          3.1034482758620694,
          3.620689655172414,
          4.137931034482759,
          4.655172413793104,
          5.172413793103448,
          5.689655172413794,
          6.206896551724139,
          6.724137931034483,
          7.241379310344828,
          7.758620689655173,
          8.275862068965518,
          8.793103448275863,
          9.310344827586208,
          9.827586206896552,
          10.344827586206897,
          10.862068965517242,
          11.379310344827587,
          11.896551724137932,
          12.413793103448278,
          12.931034482758621,
          13.448275862068966,
          13.965517241379311,
          14.482758620689657,
          15
         ],
         "xaxis": "x",
         "y": [
          0,
          0,
          0,
          0,
          0,
          0,
          0,
          0,
          0,
          0,
          0,
          0,
          0,
          0,
          0,
          0,
          0,
          0,
          0,
          0,
          0,
          0,
          0,
          0,
          0,
          0,
          0,
          0,
          0,
          0
         ],
         "yaxis": "y"
        },
        {
         "hovertemplate": "variable=S_Exp<br>temps (en jours)=%{x}<br>nombre d'individus=%{y}<extra></extra>",
         "legendgroup": "S_Exp",
         "line": {
          "color": "#00cc96",
          "dash": "solid"
         },
         "marker": {
          "symbol": "circle"
         },
         "mode": "lines",
         "name": "S_Exp",
         "orientation": "v",
         "showlegend": true,
         "type": "scatter",
         "x": [
          0,
          0.5172413793103449,
          1.0344827586206897,
          1.5517241379310347,
          2.0689655172413794,
          2.586206896551724,
          3.1034482758620694,
          3.620689655172414,
          4.137931034482759,
          4.655172413793104,
          5.172413793103448,
          5.689655172413794,
          6.206896551724139,
          6.724137931034483,
          7.241379310344828,
          7.758620689655173,
          8.275862068965518,
          8.793103448275863,
          9.310344827586208,
          9.827586206896552,
          10.344827586206897,
          10.862068965517242,
          11.379310344827587,
          11.896551724137932,
          12.413793103448278,
          12.931034482758621,
          13.448275862068966,
          13.965517241379311,
          14.482758620689657,
          15
         ],
         "xaxis": "x",
         "y": [
          100,
          100,
          100,
          100,
          100,
          100,
          100,
          100,
          100,
          100,
          100,
          100,
          100,
          100,
          100,
          100,
          100,
          100,
          100,
          100,
          100,
          100,
          100,
          100,
          100,
          100,
          100,
          100,
          100,
          100
         ],
         "yaxis": "y"
        },
        {
         "hovertemplate": "variable=I_Exp<br>temps (en jours)=%{x}<br>nombre d'individus=%{y}<extra></extra>",
         "legendgroup": "I_Exp",
         "line": {
          "color": "#ab63fa",
          "dash": "solid"
         },
         "marker": {
          "symbol": "circle"
         },
         "mode": "lines",
         "name": "I_Exp",
         "orientation": "v",
         "showlegend": true,
         "type": "scatter",
         "x": [
          0,
          0.5172413793103449,
          1.0344827586206897,
          1.5517241379310347,
          2.0689655172413794,
          2.586206896551724,
          3.1034482758620694,
          3.620689655172414,
          4.137931034482759,
          4.655172413793104,
          5.172413793103448,
          5.689655172413794,
          6.206896551724139,
          6.724137931034483,
          7.241379310344828,
          7.758620689655173,
          8.275862068965518,
          8.793103448275863,
          9.310344827586208,
          9.827586206896552,
          10.344827586206897,
          10.862068965517242,
          11.379310344827587,
          11.896551724137932,
          12.413793103448278,
          12.931034482758621,
          13.448275862068966,
          13.965517241379311,
          14.482758620689657,
          15
         ],
         "xaxis": "x",
         "y": [
          0,
          0,
          0,
          0,
          0,
          0,
          0,
          0,
          0,
          0,
          0,
          0,
          0,
          0,
          0,
          0,
          0,
          0,
          0,
          0,
          0,
          0,
          0,
          0,
          0,
          0,
          0,
          0,
          0,
          0
         ],
         "yaxis": "y"
        }
       ],
       "layout": {
        "legend": {
         "title": {
          "text": "variable"
         },
         "tracegroupgap": 0
        },
        "template": {
         "data": {
          "bar": [
           {
            "error_x": {
             "color": "#2a3f5f"
            },
            "error_y": {
             "color": "#2a3f5f"
            },
            "marker": {
             "line": {
              "color": "#E5ECF6",
              "width": 0.5
             },
             "pattern": {
              "fillmode": "overlay",
              "size": 10,
              "solidity": 0.2
             }
            },
            "type": "bar"
           }
          ],
          "barpolar": [
           {
            "marker": {
             "line": {
              "color": "#E5ECF6",
              "width": 0.5
             },
             "pattern": {
              "fillmode": "overlay",
              "size": 10,
              "solidity": 0.2
             }
            },
            "type": "barpolar"
           }
          ],
          "carpet": [
           {
            "aaxis": {
             "endlinecolor": "#2a3f5f",
             "gridcolor": "white",
             "linecolor": "white",
             "minorgridcolor": "white",
             "startlinecolor": "#2a3f5f"
            },
            "baxis": {
             "endlinecolor": "#2a3f5f",
             "gridcolor": "white",
             "linecolor": "white",
             "minorgridcolor": "white",
             "startlinecolor": "#2a3f5f"
            },
            "type": "carpet"
           }
          ],
          "choropleth": [
           {
            "colorbar": {
             "outlinewidth": 0,
             "ticks": ""
            },
            "type": "choropleth"
           }
          ],
          "contour": [
           {
            "colorbar": {
             "outlinewidth": 0,
             "ticks": ""
            },
            "colorscale": [
             [
              0,
              "#0d0887"
             ],
             [
              0.1111111111111111,
              "#46039f"
             ],
             [
              0.2222222222222222,
              "#7201a8"
             ],
             [
              0.3333333333333333,
              "#9c179e"
             ],
             [
              0.4444444444444444,
              "#bd3786"
             ],
             [
              0.5555555555555556,
              "#d8576b"
             ],
             [
              0.6666666666666666,
              "#ed7953"
             ],
             [
              0.7777777777777778,
              "#fb9f3a"
             ],
             [
              0.8888888888888888,
              "#fdca26"
             ],
             [
              1,
              "#f0f921"
             ]
            ],
            "type": "contour"
           }
          ],
          "contourcarpet": [
           {
            "colorbar": {
             "outlinewidth": 0,
             "ticks": ""
            },
            "type": "contourcarpet"
           }
          ],
          "heatmap": [
           {
            "colorbar": {
             "outlinewidth": 0,
             "ticks": ""
            },
            "colorscale": [
             [
              0,
              "#0d0887"
             ],
             [
              0.1111111111111111,
              "#46039f"
             ],
             [
              0.2222222222222222,
              "#7201a8"
             ],
             [
              0.3333333333333333,
              "#9c179e"
             ],
             [
              0.4444444444444444,
              "#bd3786"
             ],
             [
              0.5555555555555556,
              "#d8576b"
             ],
             [
              0.6666666666666666,
              "#ed7953"
             ],
             [
              0.7777777777777778,
              "#fb9f3a"
             ],
             [
              0.8888888888888888,
              "#fdca26"
             ],
             [
              1,
              "#f0f921"
             ]
            ],
            "type": "heatmap"
           }
          ],
          "heatmapgl": [
           {
            "colorbar": {
             "outlinewidth": 0,
             "ticks": ""
            },
            "colorscale": [
             [
              0,
              "#0d0887"
             ],
             [
              0.1111111111111111,
              "#46039f"
             ],
             [
              0.2222222222222222,
              "#7201a8"
             ],
             [
              0.3333333333333333,
              "#9c179e"
             ],
             [
              0.4444444444444444,
              "#bd3786"
             ],
             [
              0.5555555555555556,
              "#d8576b"
             ],
             [
              0.6666666666666666,
              "#ed7953"
             ],
             [
              0.7777777777777778,
              "#fb9f3a"
             ],
             [
              0.8888888888888888,
              "#fdca26"
             ],
             [
              1,
              "#f0f921"
             ]
            ],
            "type": "heatmapgl"
           }
          ],
          "histogram": [
           {
            "marker": {
             "pattern": {
              "fillmode": "overlay",
              "size": 10,
              "solidity": 0.2
             }
            },
            "type": "histogram"
           }
          ],
          "histogram2d": [
           {
            "colorbar": {
             "outlinewidth": 0,
             "ticks": ""
            },
            "colorscale": [
             [
              0,
              "#0d0887"
             ],
             [
              0.1111111111111111,
              "#46039f"
             ],
             [
              0.2222222222222222,
              "#7201a8"
             ],
             [
              0.3333333333333333,
              "#9c179e"
             ],
             [
              0.4444444444444444,
              "#bd3786"
             ],
             [
              0.5555555555555556,
              "#d8576b"
             ],
             [
              0.6666666666666666,
              "#ed7953"
             ],
             [
              0.7777777777777778,
              "#fb9f3a"
             ],
             [
              0.8888888888888888,
              "#fdca26"
             ],
             [
              1,
              "#f0f921"
             ]
            ],
            "type": "histogram2d"
           }
          ],
          "histogram2dcontour": [
           {
            "colorbar": {
             "outlinewidth": 0,
             "ticks": ""
            },
            "colorscale": [
             [
              0,
              "#0d0887"
             ],
             [
              0.1111111111111111,
              "#46039f"
             ],
             [
              0.2222222222222222,
              "#7201a8"
             ],
             [
              0.3333333333333333,
              "#9c179e"
             ],
             [
              0.4444444444444444,
              "#bd3786"
             ],
             [
              0.5555555555555556,
              "#d8576b"
             ],
             [
              0.6666666666666666,
              "#ed7953"
             ],
             [
              0.7777777777777778,
              "#fb9f3a"
             ],
             [
              0.8888888888888888,
              "#fdca26"
             ],
             [
              1,
              "#f0f921"
             ]
            ],
            "type": "histogram2dcontour"
           }
          ],
          "mesh3d": [
           {
            "colorbar": {
             "outlinewidth": 0,
             "ticks": ""
            },
            "type": "mesh3d"
           }
          ],
          "parcoords": [
           {
            "line": {
             "colorbar": {
              "outlinewidth": 0,
              "ticks": ""
             }
            },
            "type": "parcoords"
           }
          ],
          "pie": [
           {
            "automargin": true,
            "type": "pie"
           }
          ],
          "scatter": [
           {
            "fillpattern": {
             "fillmode": "overlay",
             "size": 10,
             "solidity": 0.2
            },
            "type": "scatter"
           }
          ],
          "scatter3d": [
           {
            "line": {
             "colorbar": {
              "outlinewidth": 0,
              "ticks": ""
             }
            },
            "marker": {
             "colorbar": {
              "outlinewidth": 0,
              "ticks": ""
             }
            },
            "type": "scatter3d"
           }
          ],
          "scattercarpet": [
           {
            "marker": {
             "colorbar": {
              "outlinewidth": 0,
              "ticks": ""
             }
            },
            "type": "scattercarpet"
           }
          ],
          "scattergeo": [
           {
            "marker": {
             "colorbar": {
              "outlinewidth": 0,
              "ticks": ""
             }
            },
            "type": "scattergeo"
           }
          ],
          "scattergl": [
           {
            "marker": {
             "colorbar": {
              "outlinewidth": 0,
              "ticks": ""
             }
            },
            "type": "scattergl"
           }
          ],
          "scattermapbox": [
           {
            "marker": {
             "colorbar": {
              "outlinewidth": 0,
              "ticks": ""
             }
            },
            "type": "scattermapbox"
           }
          ],
          "scatterpolar": [
           {
            "marker": {
             "colorbar": {
              "outlinewidth": 0,
              "ticks": ""
             }
            },
            "type": "scatterpolar"
           }
          ],
          "scatterpolargl": [
           {
            "marker": {
             "colorbar": {
              "outlinewidth": 0,
              "ticks": ""
             }
            },
            "type": "scatterpolargl"
           }
          ],
          "scatterternary": [
           {
            "marker": {
             "colorbar": {
              "outlinewidth": 0,
              "ticks": ""
             }
            },
            "type": "scatterternary"
           }
          ],
          "surface": [
           {
            "colorbar": {
             "outlinewidth": 0,
             "ticks": ""
            },
            "colorscale": [
             [
              0,
              "#0d0887"
             ],
             [
              0.1111111111111111,
              "#46039f"
             ],
             [
              0.2222222222222222,
              "#7201a8"
             ],
             [
              0.3333333333333333,
              "#9c179e"
             ],
             [
              0.4444444444444444,
              "#bd3786"
             ],
             [
              0.5555555555555556,
              "#d8576b"
             ],
             [
              0.6666666666666666,
              "#ed7953"
             ],
             [
              0.7777777777777778,
              "#fb9f3a"
             ],
             [
              0.8888888888888888,
              "#fdca26"
             ],
             [
              1,
              "#f0f921"
             ]
            ],
            "type": "surface"
           }
          ],
          "table": [
           {
            "cells": {
             "fill": {
              "color": "#EBF0F8"
             },
             "line": {
              "color": "white"
             }
            },
            "header": {
             "fill": {
              "color": "#C8D4E3"
             },
             "line": {
              "color": "white"
             }
            },
            "type": "table"
           }
          ]
         },
         "layout": {
          "annotationdefaults": {
           "arrowcolor": "#2a3f5f",
           "arrowhead": 0,
           "arrowwidth": 1
          },
          "autotypenumbers": "strict",
          "coloraxis": {
           "colorbar": {
            "outlinewidth": 0,
            "ticks": ""
           }
          },
          "colorscale": {
           "diverging": [
            [
             0,
             "#8e0152"
            ],
            [
             0.1,
             "#c51b7d"
            ],
            [
             0.2,
             "#de77ae"
            ],
            [
             0.3,
             "#f1b6da"
            ],
            [
             0.4,
             "#fde0ef"
            ],
            [
             0.5,
             "#f7f7f7"
            ],
            [
             0.6,
             "#e6f5d0"
            ],
            [
             0.7,
             "#b8e186"
            ],
            [
             0.8,
             "#7fbc41"
            ],
            [
             0.9,
             "#4d9221"
            ],
            [
             1,
             "#276419"
            ]
           ],
           "sequential": [
            [
             0,
             "#0d0887"
            ],
            [
             0.1111111111111111,
             "#46039f"
            ],
            [
             0.2222222222222222,
             "#7201a8"
            ],
            [
             0.3333333333333333,
             "#9c179e"
            ],
            [
             0.4444444444444444,
             "#bd3786"
            ],
            [
             0.5555555555555556,
             "#d8576b"
            ],
            [
             0.6666666666666666,
             "#ed7953"
            ],
            [
             0.7777777777777778,
             "#fb9f3a"
            ],
            [
             0.8888888888888888,
             "#fdca26"
            ],
            [
             1,
             "#f0f921"
            ]
           ],
           "sequentialminus": [
            [
             0,
             "#0d0887"
            ],
            [
             0.1111111111111111,
             "#46039f"
            ],
            [
             0.2222222222222222,
             "#7201a8"
            ],
            [
             0.3333333333333333,
             "#9c179e"
            ],
            [
             0.4444444444444444,
             "#bd3786"
            ],
            [
             0.5555555555555556,
             "#d8576b"
            ],
            [
             0.6666666666666666,
             "#ed7953"
            ],
            [
             0.7777777777777778,
             "#fb9f3a"
            ],
            [
             0.8888888888888888,
             "#fdca26"
            ],
            [
             1,
             "#f0f921"
            ]
           ]
          },
          "colorway": [
           "#636efa",
           "#EF553B",
           "#00cc96",
           "#ab63fa",
           "#FFA15A",
           "#19d3f3",
           "#FF6692",
           "#B6E880",
           "#FF97FF",
           "#FECB52"
          ],
          "font": {
           "color": "#2a3f5f"
          },
          "geo": {
           "bgcolor": "white",
           "lakecolor": "white",
           "landcolor": "#E5ECF6",
           "showlakes": true,
           "showland": true,
           "subunitcolor": "white"
          },
          "hoverlabel": {
           "align": "left"
          },
          "hovermode": "closest",
          "mapbox": {
           "style": "light"
          },
          "paper_bgcolor": "white",
          "plot_bgcolor": "#E5ECF6",
          "polar": {
           "angularaxis": {
            "gridcolor": "white",
            "linecolor": "white",
            "ticks": ""
           },
           "bgcolor": "#E5ECF6",
           "radialaxis": {
            "gridcolor": "white",
            "linecolor": "white",
            "ticks": ""
           }
          },
          "scene": {
           "xaxis": {
            "backgroundcolor": "#E5ECF6",
            "gridcolor": "white",
            "gridwidth": 2,
            "linecolor": "white",
            "showbackground": true,
            "ticks": "",
            "zerolinecolor": "white"
           },
           "yaxis": {
            "backgroundcolor": "#E5ECF6",
            "gridcolor": "white",
            "gridwidth": 2,
            "linecolor": "white",
            "showbackground": true,
            "ticks": "",
            "zerolinecolor": "white"
           },
           "zaxis": {
            "backgroundcolor": "#E5ECF6",
            "gridcolor": "white",
            "gridwidth": 2,
            "linecolor": "white",
            "showbackground": true,
            "ticks": "",
            "zerolinecolor": "white"
           }
          },
          "shapedefaults": {
           "line": {
            "color": "#2a3f5f"
           }
          },
          "ternary": {
           "aaxis": {
            "gridcolor": "white",
            "linecolor": "white",
            "ticks": ""
           },
           "baxis": {
            "gridcolor": "white",
            "linecolor": "white",
            "ticks": ""
           },
           "bgcolor": "#E5ECF6",
           "caxis": {
            "gridcolor": "white",
            "linecolor": "white",
            "ticks": ""
           }
          },
          "title": {
           "x": 0.05
          },
          "xaxis": {
           "automargin": true,
           "gridcolor": "white",
           "linecolor": "white",
           "ticks": "",
           "title": {
            "standoff": 15
           },
           "zerolinecolor": "white",
           "zerolinewidth": 2
          },
          "yaxis": {
           "automargin": true,
           "gridcolor": "white",
           "linecolor": "white",
           "ticks": "",
           "title": {
            "standoff": 15
           },
           "zerolinecolor": "white",
           "zerolinewidth": 2
          }
         }
        },
        "title": {
         "text": "Evolution du nombre d'individus seins et infectés pour differentes méthodes de résolution"
        },
        "xaxis": {
         "anchor": "y",
         "domain": [
          0,
          1
         ],
         "title": {
          "text": "temps (en jours)"
         }
        },
        "yaxis": {
         "anchor": "x",
         "domain": [
          0,
          1
         ],
         "title": {
          "text": "nombre d'individus"
         }
        }
       }
      }
     },
     "metadata": {},
     "output_type": "display_data"
    }
   ],
   "source": [
    "XEI =Euler_Implicite(derivative_SI, [100.,0], T) # Solution Implicite pour I0 = 0\n",
    "XEE = Euler_Explicite(derivative_SI, [100.,0], T) # Solution Explicite pour I0 = 0\n",
    "\n",
    "# Transformation en pandas\n",
    "df0 = pd.DataFrame({'S_Imp':XEI[:,0] ,'I_Imp':XEI[:,1], 'S_Exp':XEE[:,0], 'I_Exp':XEE[:,1]\n",
    "                   }) \n",
    "df0.insert(0, 'temps (en jours)', T) # ajout du temps en jours en colonne 1\n",
    "\n",
    "# Affichage avec plotly\n",
    "fig = px.line(df0, x='temps (en jours)', y=['S_Imp','I_Imp','S_Exp','I_Exp'], labels=dict(index=\"temps (en jours)\", value=\"nombre d'individus\", title=\"\"), title=\"Evolution du nombre d'individus seins et infectés pour differentes méthodes de résolution\")\n",
    "fig.show()"
   ]
  },
  {
   "attachments": {},
   "cell_type": "markdown",
   "id": "b638b2c3",
   "metadata": {},
   "source": [
    "La solution numérique est bien en accord avec la théorie\n",
    "\n",
    "Remarque : cliquer sur les variables pour les faire disparaitre et voir qu'en dessous on a bien l'autre courbe !"
   ]
  },
  {
   "attachments": {},
   "cell_type": "markdown",
   "id": "361307ff",
   "metadata": {},
   "source": [
    "##### 4.7.2 Beta nulle\n"
   ]
  },
  {
   "cell_type": "code",
   "execution_count": 11,
   "id": "c7b64ea0",
   "metadata": {},
   "outputs": [
    {
     "data": {
      "application/vnd.plotly.v1+json": {
       "config": {
        "plotlyServerURL": "https://plot.ly"
       },
       "data": [
        {
         "hovertemplate": "variable=S_Imp<br>temps (en jours)=%{x}<br>nombre d'individus=%{y}<extra></extra>",
         "legendgroup": "S_Imp",
         "line": {
          "color": "#636efa",
          "dash": "solid"
         },
         "marker": {
          "symbol": "circle"
         },
         "mode": "lines",
         "name": "S_Imp",
         "orientation": "v",
         "showlegend": true,
         "type": "scatter",
         "x": [
          0,
          0.5172413793103449,
          1.0344827586206897,
          1.5517241379310347,
          2.0689655172413794,
          2.586206896551724,
          3.1034482758620694,
          3.620689655172414,
          4.137931034482759,
          4.655172413793104,
          5.172413793103448,
          5.689655172413794,
          6.206896551724139,
          6.724137931034483,
          7.241379310344828,
          7.758620689655173,
          8.275862068965518,
          8.793103448275863,
          9.310344827586208,
          9.827586206896552,
          10.344827586206897,
          10.862068965517242,
          11.379310344827587,
          11.896551724137932,
          12.413793103448278,
          12.931034482758621,
          13.448275862068966,
          13.965517241379311,
          14.482758620689657,
          15
         ],
         "xaxis": "x",
         "y": [
          90,
          90,
          90,
          90,
          90,
          90,
          90,
          90,
          90,
          90,
          90,
          90,
          90,
          90,
          90,
          90,
          90,
          90,
          90,
          90,
          90,
          90,
          90,
          90,
          90,
          90,
          90,
          90,
          90,
          90
         ],
         "yaxis": "y"
        },
        {
         "hovertemplate": "variable=I_Imp<br>temps (en jours)=%{x}<br>nombre d'individus=%{y}<extra></extra>",
         "legendgroup": "I_Imp",
         "line": {
          "color": "#EF553B",
          "dash": "solid"
         },
         "marker": {
          "symbol": "circle"
         },
         "mode": "lines",
         "name": "I_Imp",
         "orientation": "v",
         "showlegend": true,
         "type": "scatter",
         "x": [
          0,
          0.5172413793103449,
          1.0344827586206897,
          1.5517241379310347,
          2.0689655172413794,
          2.586206896551724,
          3.1034482758620694,
          3.620689655172414,
          4.137931034482759,
          4.655172413793104,
          5.172413793103448,
          5.689655172413794,
          6.206896551724139,
          6.724137931034483,
          7.241379310344828,
          7.758620689655173,
          8.275862068965518,
          8.793103448275863,
          9.310344827586208,
          9.827586206896552,
          10.344827586206897,
          10.862068965517242,
          11.379310344827587,
          11.896551724137932,
          12.413793103448278,
          12.931034482758621,
          13.448275862068966,
          13.965517241379311,
          14.482758620689657,
          15
         ],
         "xaxis": "x",
         "y": [
          10,
          10,
          10,
          10,
          10,
          10,
          10,
          10,
          10,
          10,
          10,
          10,
          10,
          10,
          10,
          10,
          10,
          10,
          10,
          10,
          10,
          10,
          10,
          10,
          10,
          10,
          10,
          10,
          10,
          10
         ],
         "yaxis": "y"
        },
        {
         "hovertemplate": "variable=S_Exp<br>temps (en jours)=%{x}<br>nombre d'individus=%{y}<extra></extra>",
         "legendgroup": "S_Exp",
         "line": {
          "color": "#00cc96",
          "dash": "solid"
         },
         "marker": {
          "symbol": "circle"
         },
         "mode": "lines",
         "name": "S_Exp",
         "orientation": "v",
         "showlegend": true,
         "type": "scatter",
         "x": [
          0,
          0.5172413793103449,
          1.0344827586206897,
          1.5517241379310347,
          2.0689655172413794,
          2.586206896551724,
          3.1034482758620694,
          3.620689655172414,
          4.137931034482759,
          4.655172413793104,
          5.172413793103448,
          5.689655172413794,
          6.206896551724139,
          6.724137931034483,
          7.241379310344828,
          7.758620689655173,
          8.275862068965518,
          8.793103448275863,
          9.310344827586208,
          9.827586206896552,
          10.344827586206897,
          10.862068965517242,
          11.379310344827587,
          11.896551724137932,
          12.413793103448278,
          12.931034482758621,
          13.448275862068966,
          13.965517241379311,
          14.482758620689657,
          15
         ],
         "xaxis": "x",
         "y": [
          90,
          90,
          90,
          90,
          90,
          90,
          90,
          90,
          90,
          90,
          90,
          90,
          90,
          90,
          90,
          90,
          90,
          90,
          90,
          90,
          90,
          90,
          90,
          90,
          90,
          90,
          90,
          90,
          90,
          90
         ],
         "yaxis": "y"
        },
        {
         "hovertemplate": "variable=I_Exp<br>temps (en jours)=%{x}<br>nombre d'individus=%{y}<extra></extra>",
         "legendgroup": "I_Exp",
         "line": {
          "color": "#ab63fa",
          "dash": "solid"
         },
         "marker": {
          "symbol": "circle"
         },
         "mode": "lines",
         "name": "I_Exp",
         "orientation": "v",
         "showlegend": true,
         "type": "scatter",
         "x": [
          0,
          0.5172413793103449,
          1.0344827586206897,
          1.5517241379310347,
          2.0689655172413794,
          2.586206896551724,
          3.1034482758620694,
          3.620689655172414,
          4.137931034482759,
          4.655172413793104,
          5.172413793103448,
          5.689655172413794,
          6.206896551724139,
          6.724137931034483,
          7.241379310344828,
          7.758620689655173,
          8.275862068965518,
          8.793103448275863,
          9.310344827586208,
          9.827586206896552,
          10.344827586206897,
          10.862068965517242,
          11.379310344827587,
          11.896551724137932,
          12.413793103448278,
          12.931034482758621,
          13.448275862068966,
          13.965517241379311,
          14.482758620689657,
          15
         ],
         "xaxis": "x",
         "y": [
          0,
          0,
          0,
          0,
          0,
          0,
          0,
          0,
          0,
          0,
          0,
          0,
          0,
          0,
          0,
          0,
          0,
          0,
          0,
          0,
          0,
          0,
          0,
          0,
          0,
          0,
          0,
          0,
          0,
          0
         ],
         "yaxis": "y"
        }
       ],
       "layout": {
        "legend": {
         "title": {
          "text": "variable"
         },
         "tracegroupgap": 0
        },
        "template": {
         "data": {
          "bar": [
           {
            "error_x": {
             "color": "#2a3f5f"
            },
            "error_y": {
             "color": "#2a3f5f"
            },
            "marker": {
             "line": {
              "color": "#E5ECF6",
              "width": 0.5
             },
             "pattern": {
              "fillmode": "overlay",
              "size": 10,
              "solidity": 0.2
             }
            },
            "type": "bar"
           }
          ],
          "barpolar": [
           {
            "marker": {
             "line": {
              "color": "#E5ECF6",
              "width": 0.5
             },
             "pattern": {
              "fillmode": "overlay",
              "size": 10,
              "solidity": 0.2
             }
            },
            "type": "barpolar"
           }
          ],
          "carpet": [
           {
            "aaxis": {
             "endlinecolor": "#2a3f5f",
             "gridcolor": "white",
             "linecolor": "white",
             "minorgridcolor": "white",
             "startlinecolor": "#2a3f5f"
            },
            "baxis": {
             "endlinecolor": "#2a3f5f",
             "gridcolor": "white",
             "linecolor": "white",
             "minorgridcolor": "white",
             "startlinecolor": "#2a3f5f"
            },
            "type": "carpet"
           }
          ],
          "choropleth": [
           {
            "colorbar": {
             "outlinewidth": 0,
             "ticks": ""
            },
            "type": "choropleth"
           }
          ],
          "contour": [
           {
            "colorbar": {
             "outlinewidth": 0,
             "ticks": ""
            },
            "colorscale": [
             [
              0,
              "#0d0887"
             ],
             [
              0.1111111111111111,
              "#46039f"
             ],
             [
              0.2222222222222222,
              "#7201a8"
             ],
             [
              0.3333333333333333,
              "#9c179e"
             ],
             [
              0.4444444444444444,
              "#bd3786"
             ],
             [
              0.5555555555555556,
              "#d8576b"
             ],
             [
              0.6666666666666666,
              "#ed7953"
             ],
             [
              0.7777777777777778,
              "#fb9f3a"
             ],
             [
              0.8888888888888888,
              "#fdca26"
             ],
             [
              1,
              "#f0f921"
             ]
            ],
            "type": "contour"
           }
          ],
          "contourcarpet": [
           {
            "colorbar": {
             "outlinewidth": 0,
             "ticks": ""
            },
            "type": "contourcarpet"
           }
          ],
          "heatmap": [
           {
            "colorbar": {
             "outlinewidth": 0,
             "ticks": ""
            },
            "colorscale": [
             [
              0,
              "#0d0887"
             ],
             [
              0.1111111111111111,
              "#46039f"
             ],
             [
              0.2222222222222222,
              "#7201a8"
             ],
             [
              0.3333333333333333,
              "#9c179e"
             ],
             [
              0.4444444444444444,
              "#bd3786"
             ],
             [
              0.5555555555555556,
              "#d8576b"
             ],
             [
              0.6666666666666666,
              "#ed7953"
             ],
             [
              0.7777777777777778,
              "#fb9f3a"
             ],
             [
              0.8888888888888888,
              "#fdca26"
             ],
             [
              1,
              "#f0f921"
             ]
            ],
            "type": "heatmap"
           }
          ],
          "heatmapgl": [
           {
            "colorbar": {
             "outlinewidth": 0,
             "ticks": ""
            },
            "colorscale": [
             [
              0,
              "#0d0887"
             ],
             [
              0.1111111111111111,
              "#46039f"
             ],
             [
              0.2222222222222222,
              "#7201a8"
             ],
             [
              0.3333333333333333,
              "#9c179e"
             ],
             [
              0.4444444444444444,
              "#bd3786"
             ],
             [
              0.5555555555555556,
              "#d8576b"
             ],
             [
              0.6666666666666666,
              "#ed7953"
             ],
             [
              0.7777777777777778,
              "#fb9f3a"
             ],
             [
              0.8888888888888888,
              "#fdca26"
             ],
             [
              1,
              "#f0f921"
             ]
            ],
            "type": "heatmapgl"
           }
          ],
          "histogram": [
           {
            "marker": {
             "pattern": {
              "fillmode": "overlay",
              "size": 10,
              "solidity": 0.2
             }
            },
            "type": "histogram"
           }
          ],
          "histogram2d": [
           {
            "colorbar": {
             "outlinewidth": 0,
             "ticks": ""
            },
            "colorscale": [
             [
              0,
              "#0d0887"
             ],
             [
              0.1111111111111111,
              "#46039f"
             ],
             [
              0.2222222222222222,
              "#7201a8"
             ],
             [
              0.3333333333333333,
              "#9c179e"
             ],
             [
              0.4444444444444444,
              "#bd3786"
             ],
             [
              0.5555555555555556,
              "#d8576b"
             ],
             [
              0.6666666666666666,
              "#ed7953"
             ],
             [
              0.7777777777777778,
              "#fb9f3a"
             ],
             [
              0.8888888888888888,
              "#fdca26"
             ],
             [
              1,
              "#f0f921"
             ]
            ],
            "type": "histogram2d"
           }
          ],
          "histogram2dcontour": [
           {
            "colorbar": {
             "outlinewidth": 0,
             "ticks": ""
            },
            "colorscale": [
             [
              0,
              "#0d0887"
             ],
             [
              0.1111111111111111,
              "#46039f"
             ],
             [
              0.2222222222222222,
              "#7201a8"
             ],
             [
              0.3333333333333333,
              "#9c179e"
             ],
             [
              0.4444444444444444,
              "#bd3786"
             ],
             [
              0.5555555555555556,
              "#d8576b"
             ],
             [
              0.6666666666666666,
              "#ed7953"
             ],
             [
              0.7777777777777778,
              "#fb9f3a"
             ],
             [
              0.8888888888888888,
              "#fdca26"
             ],
             [
              1,
              "#f0f921"
             ]
            ],
            "type": "histogram2dcontour"
           }
          ],
          "mesh3d": [
           {
            "colorbar": {
             "outlinewidth": 0,
             "ticks": ""
            },
            "type": "mesh3d"
           }
          ],
          "parcoords": [
           {
            "line": {
             "colorbar": {
              "outlinewidth": 0,
              "ticks": ""
             }
            },
            "type": "parcoords"
           }
          ],
          "pie": [
           {
            "automargin": true,
            "type": "pie"
           }
          ],
          "scatter": [
           {
            "fillpattern": {
             "fillmode": "overlay",
             "size": 10,
             "solidity": 0.2
            },
            "type": "scatter"
           }
          ],
          "scatter3d": [
           {
            "line": {
             "colorbar": {
              "outlinewidth": 0,
              "ticks": ""
             }
            },
            "marker": {
             "colorbar": {
              "outlinewidth": 0,
              "ticks": ""
             }
            },
            "type": "scatter3d"
           }
          ],
          "scattercarpet": [
           {
            "marker": {
             "colorbar": {
              "outlinewidth": 0,
              "ticks": ""
             }
            },
            "type": "scattercarpet"
           }
          ],
          "scattergeo": [
           {
            "marker": {
             "colorbar": {
              "outlinewidth": 0,
              "ticks": ""
             }
            },
            "type": "scattergeo"
           }
          ],
          "scattergl": [
           {
            "marker": {
             "colorbar": {
              "outlinewidth": 0,
              "ticks": ""
             }
            },
            "type": "scattergl"
           }
          ],
          "scattermapbox": [
           {
            "marker": {
             "colorbar": {
              "outlinewidth": 0,
              "ticks": ""
             }
            },
            "type": "scattermapbox"
           }
          ],
          "scatterpolar": [
           {
            "marker": {
             "colorbar": {
              "outlinewidth": 0,
              "ticks": ""
             }
            },
            "type": "scatterpolar"
           }
          ],
          "scatterpolargl": [
           {
            "marker": {
             "colorbar": {
              "outlinewidth": 0,
              "ticks": ""
             }
            },
            "type": "scatterpolargl"
           }
          ],
          "scatterternary": [
           {
            "marker": {
             "colorbar": {
              "outlinewidth": 0,
              "ticks": ""
             }
            },
            "type": "scatterternary"
           }
          ],
          "surface": [
           {
            "colorbar": {
             "outlinewidth": 0,
             "ticks": ""
            },
            "colorscale": [
             [
              0,
              "#0d0887"
             ],
             [
              0.1111111111111111,
              "#46039f"
             ],
             [
              0.2222222222222222,
              "#7201a8"
             ],
             [
              0.3333333333333333,
              "#9c179e"
             ],
             [
              0.4444444444444444,
              "#bd3786"
             ],
             [
              0.5555555555555556,
              "#d8576b"
             ],
             [
              0.6666666666666666,
              "#ed7953"
             ],
             [
              0.7777777777777778,
              "#fb9f3a"
             ],
             [
              0.8888888888888888,
              "#fdca26"
             ],
             [
              1,
              "#f0f921"
             ]
            ],
            "type": "surface"
           }
          ],
          "table": [
           {
            "cells": {
             "fill": {
              "color": "#EBF0F8"
             },
             "line": {
              "color": "white"
             }
            },
            "header": {
             "fill": {
              "color": "#C8D4E3"
             },
             "line": {
              "color": "white"
             }
            },
            "type": "table"
           }
          ]
         },
         "layout": {
          "annotationdefaults": {
           "arrowcolor": "#2a3f5f",
           "arrowhead": 0,
           "arrowwidth": 1
          },
          "autotypenumbers": "strict",
          "coloraxis": {
           "colorbar": {
            "outlinewidth": 0,
            "ticks": ""
           }
          },
          "colorscale": {
           "diverging": [
            [
             0,
             "#8e0152"
            ],
            [
             0.1,
             "#c51b7d"
            ],
            [
             0.2,
             "#de77ae"
            ],
            [
             0.3,
             "#f1b6da"
            ],
            [
             0.4,
             "#fde0ef"
            ],
            [
             0.5,
             "#f7f7f7"
            ],
            [
             0.6,
             "#e6f5d0"
            ],
            [
             0.7,
             "#b8e186"
            ],
            [
             0.8,
             "#7fbc41"
            ],
            [
             0.9,
             "#4d9221"
            ],
            [
             1,
             "#276419"
            ]
           ],
           "sequential": [
            [
             0,
             "#0d0887"
            ],
            [
             0.1111111111111111,
             "#46039f"
            ],
            [
             0.2222222222222222,
             "#7201a8"
            ],
            [
             0.3333333333333333,
             "#9c179e"
            ],
            [
             0.4444444444444444,
             "#bd3786"
            ],
            [
             0.5555555555555556,
             "#d8576b"
            ],
            [
             0.6666666666666666,
             "#ed7953"
            ],
            [
             0.7777777777777778,
             "#fb9f3a"
            ],
            [
             0.8888888888888888,
             "#fdca26"
            ],
            [
             1,
             "#f0f921"
            ]
           ],
           "sequentialminus": [
            [
             0,
             "#0d0887"
            ],
            [
             0.1111111111111111,
             "#46039f"
            ],
            [
             0.2222222222222222,
             "#7201a8"
            ],
            [
             0.3333333333333333,
             "#9c179e"
            ],
            [
             0.4444444444444444,
             "#bd3786"
            ],
            [
             0.5555555555555556,
             "#d8576b"
            ],
            [
             0.6666666666666666,
             "#ed7953"
            ],
            [
             0.7777777777777778,
             "#fb9f3a"
            ],
            [
             0.8888888888888888,
             "#fdca26"
            ],
            [
             1,
             "#f0f921"
            ]
           ]
          },
          "colorway": [
           "#636efa",
           "#EF553B",
           "#00cc96",
           "#ab63fa",
           "#FFA15A",
           "#19d3f3",
           "#FF6692",
           "#B6E880",
           "#FF97FF",
           "#FECB52"
          ],
          "font": {
           "color": "#2a3f5f"
          },
          "geo": {
           "bgcolor": "white",
           "lakecolor": "white",
           "landcolor": "#E5ECF6",
           "showlakes": true,
           "showland": true,
           "subunitcolor": "white"
          },
          "hoverlabel": {
           "align": "left"
          },
          "hovermode": "closest",
          "mapbox": {
           "style": "light"
          },
          "paper_bgcolor": "white",
          "plot_bgcolor": "#E5ECF6",
          "polar": {
           "angularaxis": {
            "gridcolor": "white",
            "linecolor": "white",
            "ticks": ""
           },
           "bgcolor": "#E5ECF6",
           "radialaxis": {
            "gridcolor": "white",
            "linecolor": "white",
            "ticks": ""
           }
          },
          "scene": {
           "xaxis": {
            "backgroundcolor": "#E5ECF6",
            "gridcolor": "white",
            "gridwidth": 2,
            "linecolor": "white",
            "showbackground": true,
            "ticks": "",
            "zerolinecolor": "white"
           },
           "yaxis": {
            "backgroundcolor": "#E5ECF6",
            "gridcolor": "white",
            "gridwidth": 2,
            "linecolor": "white",
            "showbackground": true,
            "ticks": "",
            "zerolinecolor": "white"
           },
           "zaxis": {
            "backgroundcolor": "#E5ECF6",
            "gridcolor": "white",
            "gridwidth": 2,
            "linecolor": "white",
            "showbackground": true,
            "ticks": "",
            "zerolinecolor": "white"
           }
          },
          "shapedefaults": {
           "line": {
            "color": "#2a3f5f"
           }
          },
          "ternary": {
           "aaxis": {
            "gridcolor": "white",
            "linecolor": "white",
            "ticks": ""
           },
           "baxis": {
            "gridcolor": "white",
            "linecolor": "white",
            "ticks": ""
           },
           "bgcolor": "#E5ECF6",
           "caxis": {
            "gridcolor": "white",
            "linecolor": "white",
            "ticks": ""
           }
          },
          "title": {
           "x": 0.05
          },
          "xaxis": {
           "automargin": true,
           "gridcolor": "white",
           "linecolor": "white",
           "ticks": "",
           "title": {
            "standoff": 15
           },
           "zerolinecolor": "white",
           "zerolinewidth": 2
          },
          "yaxis": {
           "automargin": true,
           "gridcolor": "white",
           "linecolor": "white",
           "ticks": "",
           "title": {
            "standoff": 15
           },
           "zerolinecolor": "white",
           "zerolinewidth": 2
          }
         }
        },
        "title": {
         "text": "Evolution du nombre d'individus seins et infectés pour differentes méthodes de résolution"
        },
        "xaxis": {
         "anchor": "y",
         "domain": [
          0,
          1
         ],
         "title": {
          "text": "temps (en jours)"
         }
        },
        "yaxis": {
         "anchor": "x",
         "domain": [
          0,
          1
         ],
         "title": {
          "text": "nombre d'individus"
         }
        }
       }
      }
     },
     "metadata": {},
     "output_type": "display_data"
    }
   ],
   "source": [
    "beta = 0 # initialise beta = 0\n",
    "\n",
    "XEI_Beta0 =Euler_Implicite(derivative_SI, [90.,10], T) # Solution Implicite \n",
    "XEE_Beta0 = Euler_Explicite(derivative_SI, [90.,0], T) # Solution Explicite \n",
    "\n",
    "# Transformation en pandas\n",
    "dfb0 = pd.DataFrame({'S_Imp':XEI_Beta0[:,0] ,'I_Imp':XEI_Beta0[:,1], 'S_Exp':XEE_Beta0[:,0], 'I_Exp':XEE_Beta0[:,1]\n",
    "                   }) \n",
    "dfb0.insert(0, 'temps (en jours)', T) # ajout du temps en jours en colonne 1\n",
    "\n",
    "# Affichage avec plotly\n",
    "fig = px.line(dfb0, x='temps (en jours)', y=['S_Imp','I_Imp','S_Exp','I_Exp'], labels=dict(index=\"temps (en jours)\", value=\"nombre d'individus\", title=\"\"), title=\"Evolution du nombre d'individus seins et infectés pour differentes méthodes de résolution\")\n",
    "fig.show()"
   ]
  },
  {
   "attachments": {},
   "cell_type": "markdown",
   "id": "443dba69",
   "metadata": {},
   "source": [
    "La solution numérique est bien en accord avec la théorie, I et S restent constants. \n",
    "\n",
    "Remarque : cliquer sur les variables pour les faire disparaitre et voir qu'en dessous on a bien l'autre courbe !"
   ]
  },
  {
   "cell_type": "code",
   "execution_count": 12,
   "id": "ae8c3153",
   "metadata": {},
   "outputs": [],
   "source": [
    "# On refixe beta comme initialement\n",
    "\n",
    "beta = 0.7\n"
   ]
  },
  {
   "cell_type": "markdown",
   "id": "264e0128-f615-427b-91dd-b5aafda75960",
   "metadata": {},
   "source": [
    "### 5/ Impact des paramètres"
   ]
  },
  {
   "cell_type": "markdown",
   "id": "86be41ad-cc1c-4d12-81b8-11ddac49aae4",
   "metadata": {},
   "source": [
    "#### 5.1 Impact des paramètres de l'équation"
   ]
  },
  {
   "cell_type": "markdown",
   "id": "9cea6802-21cf-4ba8-8b73-959011f1d745",
   "metadata": {},
   "source": [
    "#### Beta"
   ]
  },
  {
   "cell_type": "code",
   "execution_count": 13,
   "id": "175d21b3-6f8f-4f0c-96e0-8bad2dee5717",
   "metadata": {},
   "outputs": [],
   "source": [
    "def solution_beta(X0, t, beta_min, beta_max, nombre_beta):  # on prend beta aussi en parametre\n",
    "    dt = t[1] - t[0]\n",
    "    nt = len(t)\n",
    "    betas = np.linspace(beta_min, beta_max, nombre_beta)\n",
    "    c = len(X0)*len(betas)\n",
    "    X  = np.zeros([nt, c])\n",
    "    \n",
    "    for j in betas:\n",
    "        for i in range(0,nt):\n",
    "            It = (X0[1]*(X0[0]+X0[1])*np.exp(j*t[i]))/(X0[0]+X0[1]*np.exp(j*t[i])) # calcul via la solution réelle\n",
    "            St = N-It\n",
    "            p = betas.tolist().index(j)\n",
    "            X[i,2*p],X[i,2*p+1]  = St, It\n",
    "    return(X)"
   ]
  },
  {
   "cell_type": "code",
   "execution_count": 14,
   "id": "711d7107-ffe5-43c6-a881-32afdde5879a",
   "metadata": {},
   "outputs": [],
   "source": [
    "# On redéfinit T et X0 pour mieux voir\n",
    "T_B = np.linspace(0, 30, 50)\n",
    "X0 = 970., 30.\n",
    "\n",
    "# Calcul de la solution théorique pour differents bétas\n",
    "X_Beta = solution_beta(X0, T_B, 0.3, 1.5, 5) "
   ]
  },
  {
   "cell_type": "code",
   "execution_count": 15,
   "id": "a879499f-fb94-493f-9232-1c2a464442c1",
   "metadata": {},
   "outputs": [
    {
     "data": {
      "application/vnd.plotly.v1+json": {
       "config": {
        "plotlyServerURL": "https://plot.ly"
       },
       "data": [
        {
         "hovertemplate": "variable=S_b_0.3<br>jours=%{x}<br>nombre d'individus=%{y}<extra></extra>",
         "legendgroup": "S_b_0.3",
         "line": {
          "color": "#636efa",
          "dash": "solid"
         },
         "marker": {
          "symbol": "circle"
         },
         "mode": "lines",
         "name": "S_b_0.3",
         "orientation": "v",
         "showlegend": true,
         "type": "scatter",
         "x": [
          0,
          0.6122448979591837,
          1.2244897959183674,
          1.836734693877551,
          2.4489795918367347,
          3.0612244897959187,
          3.673469387755102,
          4.285714285714286,
          4.8979591836734695,
          5.510204081632653,
          6.122448979591837,
          6.73469387755102,
          7.346938775510204,
          7.959183673469388,
          8.571428571428571,
          9.183673469387756,
          9.795918367346939,
          10.408163265306122,
          11.020408163265307,
          11.63265306122449,
          12.244897959183675,
          12.857142857142858,
          13.46938775510204,
          14.081632653061225,
          14.693877551020408,
          15.306122448979592,
          15.918367346938776,
          16.53061224489796,
          17.142857142857142,
          17.755102040816325,
          18.367346938775512,
          18.979591836734695,
          19.591836734693878,
          20.20408163265306,
          20.816326530612244,
          21.42857142857143,
          22.040816326530614,
          22.653061224489797,
          23.26530612244898,
          23.877551020408163,
          24.48979591836735,
          25.102040816326532,
          25.714285714285715,
          26.3265306122449,
          26.93877551020408,
          27.551020408163264,
          28.16326530612245,
          28.775510204081634,
          29.387755102040817,
          30
         ],
         "xaxis": "x",
         "y": [
          970,
          964.1680351031341,
          957.2523061689435,
          949.0723135508836,
          939.4260864917703,
          928.091199234254,
          914.8275749866139,
          899.3826978359957,
          881.4998844143686,
          860.9301997717656,
          837.4483776645059,
          810.8726669952443,
          781.0878393060852,
          748.0696800787728,
          711.9082671147371,
          672.8264482099466,
          631.189501678846,
          587.5023434620452,
          542.3920436914217,
          496.57574640332683,
          450.8168834360707,
          405.875081313437,
          362.456593867572,
          321.1719717702024,
          282.50604468636436,
          246.80268795591041,
          214.26407480575892,
          184.9619028729718,
          158.85683988070764,
          135.82219234680088,
          115.66832193982975,
          98.16526372395697,
          83.06201604965327,
          70.10185518226933,
          59.03367718887898,
          49.619773058786905,
          41.640640034566104,
          34.89748122017113,
          29.213003407874567,
          24.43103471493737,
          20.415380012625178,
          17.0482319064663,
          14.228367642821354,
          11.86929117936404,
          9.897424640832128,
          8.250412596163642,
          6.87557349702206,
          5.728512647014213,
          4.771897947892171,
          3.9743915150728526
         ],
         "yaxis": "y"
        },
        {
         "hovertemplate": "variable=I_b_0.3<br>jours=%{x}<br>nombre d'individus=%{y}<extra></extra>",
         "legendgroup": "I_b_0.3",
         "line": {
          "color": "#EF553B",
          "dash": "solid"
         },
         "marker": {
          "symbol": "circle"
         },
         "mode": "lines",
         "name": "I_b_0.3",
         "orientation": "v",
         "showlegend": true,
         "type": "scatter",
         "x": [
          0,
          0.6122448979591837,
          1.2244897959183674,
          1.836734693877551,
          2.4489795918367347,
          3.0612244897959187,
          3.673469387755102,
          4.285714285714286,
          4.8979591836734695,
          5.510204081632653,
          6.122448979591837,
          6.73469387755102,
          7.346938775510204,
          7.959183673469388,
          8.571428571428571,
          9.183673469387756,
          9.795918367346939,
          10.408163265306122,
          11.020408163265307,
          11.63265306122449,
          12.244897959183675,
          12.857142857142858,
          13.46938775510204,
          14.081632653061225,
          14.693877551020408,
          15.306122448979592,
          15.918367346938776,
          16.53061224489796,
          17.142857142857142,
          17.755102040816325,
          18.367346938775512,
          18.979591836734695,
          19.591836734693878,
          20.20408163265306,
          20.816326530612244,
          21.42857142857143,
          22.040816326530614,
          22.653061224489797,
          23.26530612244898,
          23.877551020408163,
          24.48979591836735,
          25.102040816326532,
          25.714285714285715,
          26.3265306122449,
          26.93877551020408,
          27.551020408163264,
          28.16326530612245,
          28.775510204081634,
          29.387755102040817,
          30
         ],
         "xaxis": "x",
         "y": [
          30,
          35.831964896865834,
          42.74769383105646,
          50.92768644911642,
          60.57391350822966,
          71.90880076574598,
          85.1724250133862,
          100.61730216400434,
          118.50011558563138,
          139.0698002282344,
          162.55162233549413,
          189.12733300475568,
          218.91216069391476,
          251.9303199212273,
          288.09173288526296,
          327.1735517900533,
          368.810498321154,
          412.4976565379547,
          457.6079563085783,
          503.42425359667317,
          549.1831165639293,
          594.124918686563,
          637.543406132428,
          678.8280282297976,
          717.4939553136356,
          753.1973120440896,
          785.7359251942411,
          815.0380971270282,
          841.1431601192924,
          864.1778076531991,
          884.3316780601702,
          901.834736276043,
          916.9379839503467,
          929.8981448177307,
          940.966322811121,
          950.3802269412131,
          958.3593599654339,
          965.1025187798289,
          970.7869965921254,
          975.5689652850626,
          979.5846199873748,
          982.9517680935337,
          985.7716323571786,
          988.130708820636,
          990.1025753591679,
          991.7495874038364,
          993.1244265029779,
          994.2714873529858,
          995.2281020521078,
          996.0256084849271
         ],
         "yaxis": "y"
        },
        {
         "hovertemplate": "variable=S_b_0.6<br>jours=%{x}<br>nombre d'individus=%{y}<extra></extra>",
         "legendgroup": "S_b_0.6",
         "line": {
          "color": "#00cc96",
          "dash": "solid"
         },
         "marker": {
          "symbol": "circle"
         },
         "mode": "lines",
         "name": "S_b_0.6",
         "orientation": "v",
         "showlegend": true,
         "type": "scatter",
         "x": [
          0,
          0.6122448979591837,
          1.2244897959183674,
          1.836734693877551,
          2.4489795918367347,
          3.0612244897959187,
          3.673469387755102,
          4.285714285714286,
          4.8979591836734695,
          5.510204081632653,
          6.122448979591837,
          6.73469387755102,
          7.346938775510204,
          7.959183673469388,
          8.571428571428571,
          9.183673469387756,
          9.795918367346939,
          10.408163265306122,
          11.020408163265307,
          11.63265306122449,
          12.244897959183675,
          12.857142857142858,
          13.46938775510204,
          14.081632653061225,
          14.693877551020408,
          15.306122448979592,
          15.918367346938776,
          16.53061224489796,
          17.142857142857142,
          17.755102040816325,
          18.367346938775512,
          18.979591836734695,
          19.591836734693878,
          20.20408163265306,
          20.816326530612244,
          21.42857142857143,
          22.040816326530614,
          22.653061224489797,
          23.26530612244898,
          23.877551020408163,
          24.48979591836735,
          25.102040816326532,
          25.714285714285715,
          26.3265306122449,
          26.93877551020408,
          27.551020408163264,
          28.16326530612245,
          28.775510204081634,
          29.387755102040817,
          30
         ],
         "xaxis": "x",
         "y": [
          970,
          957.2523061689435,
          939.4260864917703,
          914.8275749866139,
          881.4998844143686,
          837.4483776645059,
          781.0878393060852,
          711.9082671147371,
          631.189501678846,
          542.3920436914217,
          450.8168834360707,
          362.456593867572,
          282.50604468636436,
          214.26407480575892,
          158.85683988070764,
          115.66832193982975,
          83.06201604965327,
          59.03367718887898,
          41.640640034566104,
          29.213003407874567,
          20.415380012625178,
          14.228367642821354,
          9.897424640832128,
          6.87557349702206,
          4.771897947892171,
          3.3097255964445367,
          2.2945491490389713,
          1.5902561437180793,
          1.1019013351915419,
          0.7634016716856422,
          0.5288326932362679,
          0.36631285589362506,
          0.2537256205699805,
          0.17573628953630305,
          0.12171613920702384,
          0.08430001872113735,
          0.05838512012883257,
          0.04043646900083786,
          0.028005406156012214,
          0.019395852208276665,
          0.013433052356049302,
          0.009303358412580565,
          0.006443239077157159,
          0.004462398572627535,
          0.0030905246036354583,
          0.0021404045697863694,
          0.0014823795219172098,
          0.001026651051574845,
          0.0007110272493946468,
          0.0004924357692743797
         ],
         "yaxis": "y"
        },
        {
         "hovertemplate": "variable=I_b_0.6<br>jours=%{x}<br>nombre d'individus=%{y}<extra></extra>",
         "legendgroup": "I_b_0.6",
         "line": {
          "color": "#ab63fa",
          "dash": "solid"
         },
         "marker": {
          "symbol": "circle"
         },
         "mode": "lines",
         "name": "I_b_0.6",
         "orientation": "v",
         "showlegend": true,
         "type": "scatter",
         "x": [
          0,
          0.6122448979591837,
          1.2244897959183674,
          1.836734693877551,
          2.4489795918367347,
          3.0612244897959187,
          3.673469387755102,
          4.285714285714286,
          4.8979591836734695,
          5.510204081632653,
          6.122448979591837,
          6.73469387755102,
          7.346938775510204,
          7.959183673469388,
          8.571428571428571,
          9.183673469387756,
          9.795918367346939,
          10.408163265306122,
          11.020408163265307,
          11.63265306122449,
          12.244897959183675,
          12.857142857142858,
          13.46938775510204,
          14.081632653061225,
          14.693877551020408,
          15.306122448979592,
          15.918367346938776,
          16.53061224489796,
          17.142857142857142,
          17.755102040816325,
          18.367346938775512,
          18.979591836734695,
          19.591836734693878,
          20.20408163265306,
          20.816326530612244,
          21.42857142857143,
          22.040816326530614,
          22.653061224489797,
          23.26530612244898,
          23.877551020408163,
          24.48979591836735,
          25.102040816326532,
          25.714285714285715,
          26.3265306122449,
          26.93877551020408,
          27.551020408163264,
          28.16326530612245,
          28.775510204081634,
          29.387755102040817,
          30
         ],
         "xaxis": "x",
         "y": [
          30,
          42.74769383105646,
          60.57391350822966,
          85.1724250133862,
          118.50011558563138,
          162.55162233549413,
          218.91216069391476,
          288.09173288526296,
          368.810498321154,
          457.6079563085783,
          549.1831165639293,
          637.543406132428,
          717.4939553136356,
          785.7359251942411,
          841.1431601192924,
          884.3316780601702,
          916.9379839503467,
          940.966322811121,
          958.3593599654339,
          970.7869965921254,
          979.5846199873748,
          985.7716323571786,
          990.1025753591679,
          993.1244265029779,
          995.2281020521078,
          996.6902744035555,
          997.705450850961,
          998.4097438562819,
          998.8980986648085,
          999.2365983283144,
          999.4711673067637,
          999.6336871441064,
          999.74627437943,
          999.8242637104637,
          999.878283860793,
          999.9156999812789,
          999.9416148798712,
          999.9595635309992,
          999.971994593844,
          999.9806041477917,
          999.986566947644,
          999.9906966415874,
          999.9935567609228,
          999.9955376014274,
          999.9969094753964,
          999.9978595954302,
          999.9985176204781,
          999.9989733489484,
          999.9992889727506,
          999.9995075642307
         ],
         "yaxis": "y"
        },
        {
         "hovertemplate": "variable=S_b_0.9<br>jours=%{x}<br>nombre d'individus=%{y}<extra></extra>",
         "legendgroup": "S_b_0.9",
         "line": {
          "color": "#FFA15A",
          "dash": "solid"
         },
         "marker": {
          "symbol": "circle"
         },
         "mode": "lines",
         "name": "S_b_0.9",
         "orientation": "v",
         "showlegend": true,
         "type": "scatter",
         "x": [
          0,
          0.6122448979591837,
          1.2244897959183674,
          1.836734693877551,
          2.4489795918367347,
          3.0612244897959187,
          3.673469387755102,
          4.285714285714286,
          4.8979591836734695,
          5.510204081632653,
          6.122448979591837,
          6.73469387755102,
          7.346938775510204,
          7.959183673469388,
          8.571428571428571,
          9.183673469387756,
          9.795918367346939,
          10.408163265306122,
          11.020408163265307,
          11.63265306122449,
          12.244897959183675,
          12.857142857142858,
          13.46938775510204,
          14.081632653061225,
          14.693877551020408,
          15.306122448979592,
          15.918367346938776,
          16.53061224489796,
          17.142857142857142,
          17.755102040816325,
          18.367346938775512,
          18.979591836734695,
          19.591836734693878,
          20.20408163265306,
          20.816326530612244,
          21.42857142857143,
          22.040816326530614,
          22.653061224489797,
          23.26530612244898,
          23.877551020408163,
          24.48979591836735,
          25.102040816326532,
          25.714285714285715,
          26.3265306122449,
          26.93877551020408,
          27.551020408163264,
          28.16326530612245,
          28.775510204081634,
          29.387755102040817,
          30
         ],
         "xaxis": "x",
         "y": [
          970,
          949.0723135508836,
          914.8275749866139,
          860.9301997717656,
          781.0878393060852,
          672.8264482099466,
          542.3920436914218,
          405.87508131343725,
          282.50604468636436,
          184.9619028729718,
          115.66832193982975,
          70.10185518226933,
          41.64064003456599,
          24.43103471493737,
          14.228367642821127,
          8.250412596163642,
          4.771897947892171,
          2.755908952714776,
          1.5902561437180793,
          0.9171801343163679,
          0.5288326932362679,
          0.3048670447896029,
          0.17573628953630305,
          0.10129515275946233,
          0.05838512012905994,
          0.03365176112890822,
          0.019395852208276665,
          0.011179112124978019,
          0.006443239077157159,
          0.003713644343861233,
          0.0021404045697863694,
          0.0012336476638665772,
          0.0007110272493946468,
          0.0004098087745205703,
          0.000236197994468057,
          0.00013613541716495092,
          0.00007846320238513727,
          0.000045223161691865243,
          0.000026064884536936006,
          0.000015022793149910285,
          0.00000865855804477178,
          0.000004990458478459914,
          0.000002876307462429395,
          0.0000016577927226535394,
          9.554876214679098e-7,
          5.507062041942845e-7,
          3.174059202137869e-7,
          1.829405391617911e-7,
          1.0543976713961456e-7,
          6.077141279092757e-8
         ],
         "yaxis": "y"
        },
        {
         "hovertemplate": "variable=I_b_0.9<br>jours=%{x}<br>nombre d'individus=%{y}<extra></extra>",
         "legendgroup": "I_b_0.9",
         "line": {
          "color": "#19d3f3",
          "dash": "solid"
         },
         "marker": {
          "symbol": "circle"
         },
         "mode": "lines",
         "name": "I_b_0.9",
         "orientation": "v",
         "showlegend": true,
         "type": "scatter",
         "x": [
          0,
          0.6122448979591837,
          1.2244897959183674,
          1.836734693877551,
          2.4489795918367347,
          3.0612244897959187,
          3.673469387755102,
          4.285714285714286,
          4.8979591836734695,
          5.510204081632653,
          6.122448979591837,
          6.73469387755102,
          7.346938775510204,
          7.959183673469388,
          8.571428571428571,
          9.183673469387756,
          9.795918367346939,
          10.408163265306122,
          11.020408163265307,
          11.63265306122449,
          12.244897959183675,
          12.857142857142858,
          13.46938775510204,
          14.081632653061225,
          14.693877551020408,
          15.306122448979592,
          15.918367346938776,
          16.53061224489796,
          17.142857142857142,
          17.755102040816325,
          18.367346938775512,
          18.979591836734695,
          19.591836734693878,
          20.20408163265306,
          20.816326530612244,
          21.42857142857143,
          22.040816326530614,
          22.653061224489797,
          23.26530612244898,
          23.877551020408163,
          24.48979591836735,
          25.102040816326532,
          25.714285714285715,
          26.3265306122449,
          26.93877551020408,
          27.551020408163264,
          28.16326530612245,
          28.775510204081634,
          29.387755102040817,
          30
         ],
         "xaxis": "x",
         "y": [
          30,
          50.92768644911642,
          85.1724250133862,
          139.06980022823439,
          218.91216069391476,
          327.1735517900533,
          457.6079563085782,
          594.1249186865628,
          717.4939553136356,
          815.0380971270282,
          884.3316780601702,
          929.8981448177307,
          958.359359965434,
          975.5689652850626,
          985.7716323571789,
          991.7495874038364,
          995.2281020521078,
          997.2440910472852,
          998.4097438562819,
          999.0828198656836,
          999.4711673067637,
          999.6951329552104,
          999.8242637104637,
          999.8987048472405,
          999.9416148798709,
          999.9663482388711,
          999.9806041477917,
          999.988820887875,
          999.9935567609228,
          999.9962863556561,
          999.9978595954302,
          999.9987663523361,
          999.9992889727506,
          999.9995901912255,
          999.9997638020055,
          999.9998638645828,
          999.9999215367976,
          999.9999547768383,
          999.9999739351155,
          999.9999849772069,
          999.999991341442,
          999.9999950095415,
          999.9999971236925,
          999.9999983422073,
          999.9999990445124,
          999.9999994492938,
          999.9999996825941,
          999.9999998170595,
          999.9999998945602,
          999.9999999392286
         ],
         "yaxis": "y"
        },
        {
         "hovertemplate": "variable=S_b_1.2<br>jours=%{x}<br>nombre d'individus=%{y}<extra></extra>",
         "legendgroup": "S_b_1.2",
         "line": {
          "color": "#FF6692",
          "dash": "solid"
         },
         "marker": {
          "symbol": "circle"
         },
         "mode": "lines",
         "name": "S_b_1.2",
         "orientation": "v",
         "showlegend": true,
         "type": "scatter",
         "x": [
          0,
          0.6122448979591837,
          1.2244897959183674,
          1.836734693877551,
          2.4489795918367347,
          3.0612244897959187,
          3.673469387755102,
          4.285714285714286,
          4.8979591836734695,
          5.510204081632653,
          6.122448979591837,
          6.73469387755102,
          7.346938775510204,
          7.959183673469388,
          8.571428571428571,
          9.183673469387756,
          9.795918367346939,
          10.408163265306122,
          11.020408163265307,
          11.63265306122449,
          12.244897959183675,
          12.857142857142858,
          13.46938775510204,
          14.081632653061225,
          14.693877551020408,
          15.306122448979592,
          15.918367346938776,
          16.53061224489796,
          17.142857142857142,
          17.755102040816325,
          18.367346938775512,
          18.979591836734695,
          19.591836734693878,
          20.20408163265306,
          20.816326530612244,
          21.42857142857143,
          22.040816326530614,
          22.653061224489797,
          23.26530612244898,
          23.877551020408163,
          24.48979591836735,
          25.102040816326532,
          25.714285714285715,
          26.3265306122449,
          26.93877551020408,
          27.551020408163264,
          28.16326530612245,
          28.775510204081634,
          29.387755102040817,
          30
         ],
         "xaxis": "x",
         "y": [
          970,
          939.4260864917703,
          881.4998844143686,
          781.0878393060852,
          631.189501678846,
          450.8168834360707,
          282.50604468636436,
          158.85683988070764,
          83.06201604965327,
          41.640640034566104,
          20.415380012625178,
          9.897424640832128,
          4.771897947892171,
          2.2945491490389713,
          1.1019013351915419,
          0.5288326932362679,
          0.2537256205699805,
          0.12171613920702384,
          0.05838512012883257,
          0.028005406156012214,
          0.013433052356049302,
          0.006443239077157159,
          0.0030905246036354583,
          0.0014823795219172098,
          0.0007110272493946468,
          0.000341045959658004,
          0.00016358349728307076,
          0.00007846320238513727,
          0.00003763505458209693,
          0.000018051739516522503,
          0.00000865855804477178,
          0.000004153097052039811,
          0.000001992042484744161,
          9.554876214679098e-7,
          4.5830176986783044e-7,
          2.1982532416586764e-7,
          1.0543988082645228e-7,
          5.057438556832494e-8,
          2.4258270059362985e-8,
          1.1635620467131957e-8,
          5.5810005505918525e-9,
          2.6769839678308927e-9,
          1.2838654583902098e-9,
          6.159552867757156e-10,
          2.9535840440075845e-10,
          1.4165379980113357e-10,
          6.8098415795248e-11,
          3.2741809263825417e-11,
          1.5575096767861396e-11,
          7.617018127348274e-12
         ],
         "yaxis": "y"
        },
        {
         "hovertemplate": "variable=I_b_1.2<br>jours=%{x}<br>nombre d'individus=%{y}<extra></extra>",
         "legendgroup": "I_b_1.2",
         "line": {
          "color": "#B6E880",
          "dash": "solid"
         },
         "marker": {
          "symbol": "circle"
         },
         "mode": "lines",
         "name": "I_b_1.2",
         "orientation": "v",
         "showlegend": true,
         "type": "scatter",
         "x": [
          0,
          0.6122448979591837,
          1.2244897959183674,
          1.836734693877551,
          2.4489795918367347,
          3.0612244897959187,
          3.673469387755102,
          4.285714285714286,
          4.8979591836734695,
          5.510204081632653,
          6.122448979591837,
          6.73469387755102,
          7.346938775510204,
          7.959183673469388,
          8.571428571428571,
          9.183673469387756,
          9.795918367346939,
          10.408163265306122,
          11.020408163265307,
          11.63265306122449,
          12.244897959183675,
          12.857142857142858,
          13.46938775510204,
          14.081632653061225,
          14.693877551020408,
          15.306122448979592,
          15.918367346938776,
          16.53061224489796,
          17.142857142857142,
          17.755102040816325,
          18.367346938775512,
          18.979591836734695,
          19.591836734693878,
          20.20408163265306,
          20.816326530612244,
          21.42857142857143,
          22.040816326530614,
          22.653061224489797,
          23.26530612244898,
          23.877551020408163,
          24.48979591836735,
          25.102040816326532,
          25.714285714285715,
          26.3265306122449,
          26.93877551020408,
          27.551020408163264,
          28.16326530612245,
          28.775510204081634,
          29.387755102040817,
          30
         ],
         "xaxis": "x",
         "y": [
          30,
          60.57391350822966,
          118.50011558563138,
          218.91216069391476,
          368.810498321154,
          549.1831165639293,
          717.4939553136356,
          841.1431601192924,
          916.9379839503467,
          958.3593599654339,
          979.5846199873748,
          990.1025753591679,
          995.2281020521078,
          997.705450850961,
          998.8980986648085,
          999.4711673067637,
          999.74627437943,
          999.878283860793,
          999.9416148798712,
          999.971994593844,
          999.986566947644,
          999.9935567609228,
          999.9969094753964,
          999.9985176204781,
          999.9992889727506,
          999.9996589540403,
          999.9998364165027,
          999.9999215367976,
          999.9999623649454,
          999.9999819482605,
          999.999991341442,
          999.999995846903,
          999.9999980079575,
          999.9999990445124,
          999.9999995416982,
          999.9999997801747,
          999.9999998945601,
          999.9999999494256,
          999.9999999757417,
          999.9999999883644,
          999.999999994419,
          999.999999997323,
          999.9999999987161,
          999.999999999384,
          999.9999999997046,
          999.9999999998583,
          999.9999999999319,
          999.9999999999673,
          999.9999999999844,
          999.9999999999924
         ],
         "yaxis": "y"
        },
        {
         "hovertemplate": "variable=S_b_1.5<br>jours=%{x}<br>nombre d'individus=%{y}<extra></extra>",
         "legendgroup": "S_b_1.5",
         "line": {
          "color": "#FF97FF",
          "dash": "solid"
         },
         "marker": {
          "symbol": "circle"
         },
         "mode": "lines",
         "name": "S_b_1.5",
         "orientation": "v",
         "showlegend": true,
         "type": "scatter",
         "x": [
          0,
          0.6122448979591837,
          1.2244897959183674,
          1.836734693877551,
          2.4489795918367347,
          3.0612244897959187,
          3.673469387755102,
          4.285714285714286,
          4.8979591836734695,
          5.510204081632653,
          6.122448979591837,
          6.73469387755102,
          7.346938775510204,
          7.959183673469388,
          8.571428571428571,
          9.183673469387756,
          9.795918367346939,
          10.408163265306122,
          11.020408163265307,
          11.63265306122449,
          12.244897959183675,
          12.857142857142858,
          13.46938775510204,
          14.081632653061225,
          14.693877551020408,
          15.306122448979592,
          15.918367346938776,
          16.53061224489796,
          17.142857142857142,
          17.755102040816325,
          18.367346938775512,
          18.979591836734695,
          19.591836734693878,
          20.20408163265306,
          20.816326530612244,
          21.42857142857143,
          22.040816326530614,
          22.653061224489797,
          23.26530612244898,
          23.877551020408163,
          24.48979591836735,
          25.102040816326532,
          25.714285714285715,
          26.3265306122449,
          26.93877551020408,
          27.551020408163264,
          28.16326530612245,
          28.775510204081634,
          29.387755102040817,
          30
         ],
         "xaxis": "x",
         "y": [
          970,
          928.091199234254,
          837.4483776645059,
          672.8264482099466,
          450.8168834360707,
          246.8026879559103,
          115.66832193982975,
          49.619773058786905,
          20.415380012625178,
          8.250412596163642,
          3.309725596444423,
          1.3237763180972024,
          0.5288326932362679,
          0.21116135438194306,
          0.08430001872113735,
          0.03365176112890822,
          0.013433052356049302,
          0.00536211768587691,
          0.0021404045697863694,
          0.0008543868530068721,
          0.00034104595954431716,
          0.00013613541716495092,
          0.00005434120839709067,
          0.000021691392475986504,
          0.00000865855804477178,
          0.000003456238459875749,
          0.000001379627519781934,
          5.507060905074468e-7,
          2.1982532416586764e-7,
          8.77479351402144e-8,
          3.502634626784129e-8,
          1.3981434676679783e-8,
          5.5810005505918525e-9,
          2.2278072719927877e-9,
          8.892584446584806e-10,
          3.5493030736688524e-10,
          1.4165379980113357e-10,
          5.661604518536478e-11,
          2.2509993868879974e-11,
          9.094947017729282e-12,
          3.637978807091713e-12,
          1.4779288903810084e-12,
          6.821210263296962e-13,
          2.2737367544323206e-13,
          1.1368683772161603e-13,
          -1.1368683772161603e-13,
          0,
          0,
          1.1368683772161603e-13,
          0
         ],
         "yaxis": "y"
        },
        {
         "hovertemplate": "variable=I_b_1.5<br>jours=%{x}<br>nombre d'individus=%{y}<extra></extra>",
         "legendgroup": "I_b_1.5",
         "line": {
          "color": "#FECB52",
          "dash": "solid"
         },
         "marker": {
          "symbol": "circle"
         },
         "mode": "lines",
         "name": "I_b_1.5",
         "orientation": "v",
         "showlegend": true,
         "type": "scatter",
         "x": [
          0,
          0.6122448979591837,
          1.2244897959183674,
          1.836734693877551,
          2.4489795918367347,
          3.0612244897959187,
          3.673469387755102,
          4.285714285714286,
          4.8979591836734695,
          5.510204081632653,
          6.122448979591837,
          6.73469387755102,
          7.346938775510204,
          7.959183673469388,
          8.571428571428571,
          9.183673469387756,
          9.795918367346939,
          10.408163265306122,
          11.020408163265307,
          11.63265306122449,
          12.244897959183675,
          12.857142857142858,
          13.46938775510204,
          14.081632653061225,
          14.693877551020408,
          15.306122448979592,
          15.918367346938776,
          16.53061224489796,
          17.142857142857142,
          17.755102040816325,
          18.367346938775512,
          18.979591836734695,
          19.591836734693878,
          20.20408163265306,
          20.816326530612244,
          21.42857142857143,
          22.040816326530614,
          22.653061224489797,
          23.26530612244898,
          23.877551020408163,
          24.48979591836735,
          25.102040816326532,
          25.714285714285715,
          26.3265306122449,
          26.93877551020408,
          27.551020408163264,
          28.16326530612245,
          28.775510204081634,
          29.387755102040817,
          30
         ],
         "xaxis": "x",
         "y": [
          30,
          71.90880076574598,
          162.55162233549413,
          327.1735517900533,
          549.1831165639293,
          753.1973120440897,
          884.3316780601702,
          950.3802269412131,
          979.5846199873748,
          991.7495874038364,
          996.6902744035556,
          998.6762236819028,
          999.4711673067637,
          999.7888386456181,
          999.9156999812789,
          999.9663482388711,
          999.986566947644,
          999.9946378823141,
          999.9978595954302,
          999.999145613147,
          999.9996589540405,
          999.9998638645828,
          999.9999456587916,
          999.9999783086075,
          999.999991341442,
          999.9999965437615,
          999.9999986203725,
          999.9999994492939,
          999.9999997801747,
          999.9999999122521,
          999.9999999649737,
          999.9999999860186,
          999.999999994419,
          999.9999999977722,
          999.9999999991107,
          999.9999999996451,
          999.9999999998583,
          999.9999999999434,
          999.9999999999775,
          999.9999999999909,
          999.9999999999964,
          999.9999999999985,
          999.9999999999993,
          999.9999999999998,
          999.9999999999999,
          1000.0000000000001,
          1000,
          1000,
          999.9999999999999,
          1000
         ],
         "yaxis": "y"
        }
       ],
       "layout": {
        "legend": {
         "title": {
          "text": "variable"
         },
         "tracegroupgap": 0
        },
        "template": {
         "data": {
          "bar": [
           {
            "error_x": {
             "color": "#2a3f5f"
            },
            "error_y": {
             "color": "#2a3f5f"
            },
            "marker": {
             "line": {
              "color": "#E5ECF6",
              "width": 0.5
             },
             "pattern": {
              "fillmode": "overlay",
              "size": 10,
              "solidity": 0.2
             }
            },
            "type": "bar"
           }
          ],
          "barpolar": [
           {
            "marker": {
             "line": {
              "color": "#E5ECF6",
              "width": 0.5
             },
             "pattern": {
              "fillmode": "overlay",
              "size": 10,
              "solidity": 0.2
             }
            },
            "type": "barpolar"
           }
          ],
          "carpet": [
           {
            "aaxis": {
             "endlinecolor": "#2a3f5f",
             "gridcolor": "white",
             "linecolor": "white",
             "minorgridcolor": "white",
             "startlinecolor": "#2a3f5f"
            },
            "baxis": {
             "endlinecolor": "#2a3f5f",
             "gridcolor": "white",
             "linecolor": "white",
             "minorgridcolor": "white",
             "startlinecolor": "#2a3f5f"
            },
            "type": "carpet"
           }
          ],
          "choropleth": [
           {
            "colorbar": {
             "outlinewidth": 0,
             "ticks": ""
            },
            "type": "choropleth"
           }
          ],
          "contour": [
           {
            "colorbar": {
             "outlinewidth": 0,
             "ticks": ""
            },
            "colorscale": [
             [
              0,
              "#0d0887"
             ],
             [
              0.1111111111111111,
              "#46039f"
             ],
             [
              0.2222222222222222,
              "#7201a8"
             ],
             [
              0.3333333333333333,
              "#9c179e"
             ],
             [
              0.4444444444444444,
              "#bd3786"
             ],
             [
              0.5555555555555556,
              "#d8576b"
             ],
             [
              0.6666666666666666,
              "#ed7953"
             ],
             [
              0.7777777777777778,
              "#fb9f3a"
             ],
             [
              0.8888888888888888,
              "#fdca26"
             ],
             [
              1,
              "#f0f921"
             ]
            ],
            "type": "contour"
           }
          ],
          "contourcarpet": [
           {
            "colorbar": {
             "outlinewidth": 0,
             "ticks": ""
            },
            "type": "contourcarpet"
           }
          ],
          "heatmap": [
           {
            "colorbar": {
             "outlinewidth": 0,
             "ticks": ""
            },
            "colorscale": [
             [
              0,
              "#0d0887"
             ],
             [
              0.1111111111111111,
              "#46039f"
             ],
             [
              0.2222222222222222,
              "#7201a8"
             ],
             [
              0.3333333333333333,
              "#9c179e"
             ],
             [
              0.4444444444444444,
              "#bd3786"
             ],
             [
              0.5555555555555556,
              "#d8576b"
             ],
             [
              0.6666666666666666,
              "#ed7953"
             ],
             [
              0.7777777777777778,
              "#fb9f3a"
             ],
             [
              0.8888888888888888,
              "#fdca26"
             ],
             [
              1,
              "#f0f921"
             ]
            ],
            "type": "heatmap"
           }
          ],
          "heatmapgl": [
           {
            "colorbar": {
             "outlinewidth": 0,
             "ticks": ""
            },
            "colorscale": [
             [
              0,
              "#0d0887"
             ],
             [
              0.1111111111111111,
              "#46039f"
             ],
             [
              0.2222222222222222,
              "#7201a8"
             ],
             [
              0.3333333333333333,
              "#9c179e"
             ],
             [
              0.4444444444444444,
              "#bd3786"
             ],
             [
              0.5555555555555556,
              "#d8576b"
             ],
             [
              0.6666666666666666,
              "#ed7953"
             ],
             [
              0.7777777777777778,
              "#fb9f3a"
             ],
             [
              0.8888888888888888,
              "#fdca26"
             ],
             [
              1,
              "#f0f921"
             ]
            ],
            "type": "heatmapgl"
           }
          ],
          "histogram": [
           {
            "marker": {
             "pattern": {
              "fillmode": "overlay",
              "size": 10,
              "solidity": 0.2
             }
            },
            "type": "histogram"
           }
          ],
          "histogram2d": [
           {
            "colorbar": {
             "outlinewidth": 0,
             "ticks": ""
            },
            "colorscale": [
             [
              0,
              "#0d0887"
             ],
             [
              0.1111111111111111,
              "#46039f"
             ],
             [
              0.2222222222222222,
              "#7201a8"
             ],
             [
              0.3333333333333333,
              "#9c179e"
             ],
             [
              0.4444444444444444,
              "#bd3786"
             ],
             [
              0.5555555555555556,
              "#d8576b"
             ],
             [
              0.6666666666666666,
              "#ed7953"
             ],
             [
              0.7777777777777778,
              "#fb9f3a"
             ],
             [
              0.8888888888888888,
              "#fdca26"
             ],
             [
              1,
              "#f0f921"
             ]
            ],
            "type": "histogram2d"
           }
          ],
          "histogram2dcontour": [
           {
            "colorbar": {
             "outlinewidth": 0,
             "ticks": ""
            },
            "colorscale": [
             [
              0,
              "#0d0887"
             ],
             [
              0.1111111111111111,
              "#46039f"
             ],
             [
              0.2222222222222222,
              "#7201a8"
             ],
             [
              0.3333333333333333,
              "#9c179e"
             ],
             [
              0.4444444444444444,
              "#bd3786"
             ],
             [
              0.5555555555555556,
              "#d8576b"
             ],
             [
              0.6666666666666666,
              "#ed7953"
             ],
             [
              0.7777777777777778,
              "#fb9f3a"
             ],
             [
              0.8888888888888888,
              "#fdca26"
             ],
             [
              1,
              "#f0f921"
             ]
            ],
            "type": "histogram2dcontour"
           }
          ],
          "mesh3d": [
           {
            "colorbar": {
             "outlinewidth": 0,
             "ticks": ""
            },
            "type": "mesh3d"
           }
          ],
          "parcoords": [
           {
            "line": {
             "colorbar": {
              "outlinewidth": 0,
              "ticks": ""
             }
            },
            "type": "parcoords"
           }
          ],
          "pie": [
           {
            "automargin": true,
            "type": "pie"
           }
          ],
          "scatter": [
           {
            "fillpattern": {
             "fillmode": "overlay",
             "size": 10,
             "solidity": 0.2
            },
            "type": "scatter"
           }
          ],
          "scatter3d": [
           {
            "line": {
             "colorbar": {
              "outlinewidth": 0,
              "ticks": ""
             }
            },
            "marker": {
             "colorbar": {
              "outlinewidth": 0,
              "ticks": ""
             }
            },
            "type": "scatter3d"
           }
          ],
          "scattercarpet": [
           {
            "marker": {
             "colorbar": {
              "outlinewidth": 0,
              "ticks": ""
             }
            },
            "type": "scattercarpet"
           }
          ],
          "scattergeo": [
           {
            "marker": {
             "colorbar": {
              "outlinewidth": 0,
              "ticks": ""
             }
            },
            "type": "scattergeo"
           }
          ],
          "scattergl": [
           {
            "marker": {
             "colorbar": {
              "outlinewidth": 0,
              "ticks": ""
             }
            },
            "type": "scattergl"
           }
          ],
          "scattermapbox": [
           {
            "marker": {
             "colorbar": {
              "outlinewidth": 0,
              "ticks": ""
             }
            },
            "type": "scattermapbox"
           }
          ],
          "scatterpolar": [
           {
            "marker": {
             "colorbar": {
              "outlinewidth": 0,
              "ticks": ""
             }
            },
            "type": "scatterpolar"
           }
          ],
          "scatterpolargl": [
           {
            "marker": {
             "colorbar": {
              "outlinewidth": 0,
              "ticks": ""
             }
            },
            "type": "scatterpolargl"
           }
          ],
          "scatterternary": [
           {
            "marker": {
             "colorbar": {
              "outlinewidth": 0,
              "ticks": ""
             }
            },
            "type": "scatterternary"
           }
          ],
          "surface": [
           {
            "colorbar": {
             "outlinewidth": 0,
             "ticks": ""
            },
            "colorscale": [
             [
              0,
              "#0d0887"
             ],
             [
              0.1111111111111111,
              "#46039f"
             ],
             [
              0.2222222222222222,
              "#7201a8"
             ],
             [
              0.3333333333333333,
              "#9c179e"
             ],
             [
              0.4444444444444444,
              "#bd3786"
             ],
             [
              0.5555555555555556,
              "#d8576b"
             ],
             [
              0.6666666666666666,
              "#ed7953"
             ],
             [
              0.7777777777777778,
              "#fb9f3a"
             ],
             [
              0.8888888888888888,
              "#fdca26"
             ],
             [
              1,
              "#f0f921"
             ]
            ],
            "type": "surface"
           }
          ],
          "table": [
           {
            "cells": {
             "fill": {
              "color": "#EBF0F8"
             },
             "line": {
              "color": "white"
             }
            },
            "header": {
             "fill": {
              "color": "#C8D4E3"
             },
             "line": {
              "color": "white"
             }
            },
            "type": "table"
           }
          ]
         },
         "layout": {
          "annotationdefaults": {
           "arrowcolor": "#2a3f5f",
           "arrowhead": 0,
           "arrowwidth": 1
          },
          "autotypenumbers": "strict",
          "coloraxis": {
           "colorbar": {
            "outlinewidth": 0,
            "ticks": ""
           }
          },
          "colorscale": {
           "diverging": [
            [
             0,
             "#8e0152"
            ],
            [
             0.1,
             "#c51b7d"
            ],
            [
             0.2,
             "#de77ae"
            ],
            [
             0.3,
             "#f1b6da"
            ],
            [
             0.4,
             "#fde0ef"
            ],
            [
             0.5,
             "#f7f7f7"
            ],
            [
             0.6,
             "#e6f5d0"
            ],
            [
             0.7,
             "#b8e186"
            ],
            [
             0.8,
             "#7fbc41"
            ],
            [
             0.9,
             "#4d9221"
            ],
            [
             1,
             "#276419"
            ]
           ],
           "sequential": [
            [
             0,
             "#0d0887"
            ],
            [
             0.1111111111111111,
             "#46039f"
            ],
            [
             0.2222222222222222,
             "#7201a8"
            ],
            [
             0.3333333333333333,
             "#9c179e"
            ],
            [
             0.4444444444444444,
             "#bd3786"
            ],
            [
             0.5555555555555556,
             "#d8576b"
            ],
            [
             0.6666666666666666,
             "#ed7953"
            ],
            [
             0.7777777777777778,
             "#fb9f3a"
            ],
            [
             0.8888888888888888,
             "#fdca26"
            ],
            [
             1,
             "#f0f921"
            ]
           ],
           "sequentialminus": [
            [
             0,
             "#0d0887"
            ],
            [
             0.1111111111111111,
             "#46039f"
            ],
            [
             0.2222222222222222,
             "#7201a8"
            ],
            [
             0.3333333333333333,
             "#9c179e"
            ],
            [
             0.4444444444444444,
             "#bd3786"
            ],
            [
             0.5555555555555556,
             "#d8576b"
            ],
            [
             0.6666666666666666,
             "#ed7953"
            ],
            [
             0.7777777777777778,
             "#fb9f3a"
            ],
            [
             0.8888888888888888,
             "#fdca26"
            ],
            [
             1,
             "#f0f921"
            ]
           ]
          },
          "colorway": [
           "#636efa",
           "#EF553B",
           "#00cc96",
           "#ab63fa",
           "#FFA15A",
           "#19d3f3",
           "#FF6692",
           "#B6E880",
           "#FF97FF",
           "#FECB52"
          ],
          "font": {
           "color": "#2a3f5f"
          },
          "geo": {
           "bgcolor": "white",
           "lakecolor": "white",
           "landcolor": "#E5ECF6",
           "showlakes": true,
           "showland": true,
           "subunitcolor": "white"
          },
          "hoverlabel": {
           "align": "left"
          },
          "hovermode": "closest",
          "mapbox": {
           "style": "light"
          },
          "paper_bgcolor": "white",
          "plot_bgcolor": "#E5ECF6",
          "polar": {
           "angularaxis": {
            "gridcolor": "white",
            "linecolor": "white",
            "ticks": ""
           },
           "bgcolor": "#E5ECF6",
           "radialaxis": {
            "gridcolor": "white",
            "linecolor": "white",
            "ticks": ""
           }
          },
          "scene": {
           "xaxis": {
            "backgroundcolor": "#E5ECF6",
            "gridcolor": "white",
            "gridwidth": 2,
            "linecolor": "white",
            "showbackground": true,
            "ticks": "",
            "zerolinecolor": "white"
           },
           "yaxis": {
            "backgroundcolor": "#E5ECF6",
            "gridcolor": "white",
            "gridwidth": 2,
            "linecolor": "white",
            "showbackground": true,
            "ticks": "",
            "zerolinecolor": "white"
           },
           "zaxis": {
            "backgroundcolor": "#E5ECF6",
            "gridcolor": "white",
            "gridwidth": 2,
            "linecolor": "white",
            "showbackground": true,
            "ticks": "",
            "zerolinecolor": "white"
           }
          },
          "shapedefaults": {
           "line": {
            "color": "#2a3f5f"
           }
          },
          "ternary": {
           "aaxis": {
            "gridcolor": "white",
            "linecolor": "white",
            "ticks": ""
           },
           "baxis": {
            "gridcolor": "white",
            "linecolor": "white",
            "ticks": ""
           },
           "bgcolor": "#E5ECF6",
           "caxis": {
            "gridcolor": "white",
            "linecolor": "white",
            "ticks": ""
           }
          },
          "title": {
           "x": 0.05
          },
          "xaxis": {
           "automargin": true,
           "gridcolor": "white",
           "linecolor": "white",
           "ticks": "",
           "title": {
            "standoff": 15
           },
           "zerolinecolor": "white",
           "zerolinewidth": 2
          },
          "yaxis": {
           "automargin": true,
           "gridcolor": "white",
           "linecolor": "white",
           "ticks": "",
           "title": {
            "standoff": 15
           },
           "zerolinecolor": "white",
           "zerolinewidth": 2
          }
         }
        },
        "title": {
         "text": "Evolution du nombre d'individus seins et infectés pour differentes valeurs de betas"
        },
        "xaxis": {
         "anchor": "y",
         "domain": [
          0,
          1
         ],
         "title": {
          "text": "jours"
         }
        },
        "yaxis": {
         "anchor": "x",
         "domain": [
          0,
          1
         ],
         "title": {
          "text": "nombre d'individus"
         }
        }
       }
      }
     },
     "metadata": {},
     "output_type": "display_data"
    }
   ],
   "source": [
    "# Creation dictionnaire pour renommer les courbes avec les valeurs des betas\n",
    "dictionnaire = {0: 'S_b_0.3',1: 'I_b_0.3',2: 'S_b_0.6',3: 'I_b_0.6',4: 'S_b_0.9',5: 'I_b_0.9',6: 'S_b_1.2',7: 'I_b_1.2', 8: 'S_b_1.5', 9: 'I_b_1.5' }    \n",
    "\n",
    "# Transformation données en pandas\n",
    "dbeta = pd.DataFrame(X_Beta)\n",
    "dbeta.rename(columns=dictionnaire, inplace=True)\n",
    "dbeta.insert(0, 'jours', T_B) # ajout du temps en jours en colonne 1\n",
    "\n",
    "# Affichage du graphique\n",
    "figure = px.line(dbeta, x='jours', y=['S_b_0.3','I_b_0.3','S_b_0.6','I_b_0.6','S_b_0.9','I_b_0.9','S_b_1.2','I_b_1.2','S_b_1.5','I_b_1.5'], labels=dict(index=\"temps (en jours)\", value=\"nombre d'individus\", title=\"\"), title=\"Evolution du nombre d'individus seins et infectés pour differentes valeurs de betas\")\n",
    "figure.show()"
   ]
  },
  {
   "cell_type": "markdown",
   "id": "36f6f97a-f9b0-455b-83f2-1d35855de7f4",
   "metadata": {},
   "source": [
    "Nous voyons que plus beta augmente et plus le nombre d'individu contaminé augmente rapidement. En effet, le beta est une des caractéristique majeurs pour comprendre à quel point la maladie va se transmettre. Les valeurs utilisées sont celles que l'on peut retrouver pour des épidémies qui se propagent moyennement rapidements (SIDA, VIH, Ebola, Rubeole ...). [4]"
   ]
  },
  {
   "cell_type": "markdown",
   "id": "4ece3f1f-c605-4268-b342-fd72eccc3701",
   "metadata": {},
   "source": [
    "### 6/ Erreur"
   ]
  },
  {
   "cell_type": "markdown",
   "id": "4619153c-17af-4da1-a233-73fc24323f13",
   "metadata": {},
   "source": [
    "Regardons comment evolue l'erreur chaque jours (t)  en fonction du nombre de noeuds pour le maillage (Nt). \n",
    "L'erreur est définie de la manière suivante: \n",
    "\n",
    "$ erreur(t,Nt)= \\left | S_{theorique}(t_{Nt})- S_{numerique}(t_{Nt}) \\right |$"
   ]
  },
  {
   "cell_type": "markdown",
   "id": "79a09de5-74fa-4860-90ac-4bad4d4e7caf",
   "metadata": {},
   "source": [
    "### 6.1 Erreur Euler Explicite"
   ]
  },
  {
   "cell_type": "code",
   "execution_count": 16,
   "id": "409940b1-219f-4ffa-a9b7-8be89fc3312a",
   "metadata": {},
   "outputs": [
    {
     "data": {
      "image/png": "[encoded data removed]",
      "text/plain": [
       "<Figure size 432x288 with 1 Axes>"
      ]
     },
     "metadata": {
      "needs_background": "light"
     },
     "output_type": "display_data"
    }
   ],
   "source": [
    "Nt_values = np.array([5, 10, 20, 100, 1000]) # choix du nombres de noeuds pour le maillage\n",
    "tmax = 20\n",
    "\n",
    "\n",
    "markers = \"osv*<>\"\n",
    "plt.figure()\n",
    "for i in range(len(Nt_values)):\n",
    "    tvi = np.linspace(0., tmax, Nt_values[i])\n",
    "    Xei = Euler_Explicite(derivative_SI, X0, tvi)\n",
    "    Xsi = solution(X0, tvi)\n",
    "    plt.plot(tvi, np.abs((Xei[:, 1] - Xsi[:, 1])), markers[i] + \"-\", label = \"Euler, Nt = {0}\".format(Nt_values[i]))\n",
    "\n",
    "# affichage du graphique\n",
    "plt.grid()\n",
    "plt.xlabel(\"Temps (en jours)\")\n",
    "plt.yscale('log')\n",
    "plt.ylabel(\"Erreur Absolue\")\n",
    "plt.legend(loc = \"best\");\n",
    "plt.show()\n"
   ]
  },
  {
   "cell_type": "markdown",
   "id": "3c99274f-b599-496a-ade6-0bee757472f3",
   "metadata": {},
   "source": [
    "On remarque que l'erreur diminue lors Nt augmente.\n",
    "L'erreur est maximale au environ de 10 jours lorsque l'on a les plus grosses variations sur nos valeurs. On peut aussi noter que lorsque l'on fait 10 fois plus de points de maillage l'erreur est divisée par 10. "
   ]
  },
  {
   "cell_type": "markdown",
   "id": "1fd4c2d1-7fd2-44d4-9f1f-a2f7d5ed97aa",
   "metadata": {},
   "source": [
    "### 6.2 Erreur Euler Implicite"
   ]
  },
  {
   "cell_type": "code",
   "execution_count": 17,
   "id": "7ff16b12-e5fa-48b3-b6c2-35b5c6ee5b68",
   "metadata": {},
   "outputs": [
    {
     "name": "stderr",
     "output_type": "stream",
     "text": [
      "/opt/anaconda3/lib/python3.9/site-packages/scipy/optimize/minpack.py:175: RuntimeWarning:\n",
      "\n",
      "The iteration is not making good progress, as measured by the \n",
      "  improvement from the last ten iterations.\n",
      "\n"
     ]
    },
    {
     "data": {
      "image/png": "[encoded data removed]",
      "text/plain": [
       "<Figure size 432x288 with 1 Axes>"
      ]
     },
     "metadata": {
      "needs_background": "light"
     },
     "output_type": "display_data"
    }
   ],
   "source": [
    "Nt_values = np.array([5, 10, 20, 100, 1000]) # choix du nombres de noeuds pour le maillage\n",
    "tmax = 20\n",
    "\n",
    "markers = \"osv*<>\"\n",
    "plt.figure()\n",
    "for i in range(len(Nt_values)):\n",
    "    tvi = np.linspace(0., tmax, Nt_values[i])\n",
    "    Xii = Euler_Implicite(derivative_SI, X0, tvi)\n",
    "    Xsi = solution(X0, tvi)\n",
    "    plt.plot(tvi, np.abs(Xii[:, 1] - Xsi[:, 1]), markers[i] + \"-\", label = \"Euler, Nt = {0}\".format(Nt_values[i]))\n",
    "\n",
    "# affichage du graphique\n",
    "plt.grid()\n",
    "plt.xlabel(\"Temps (en jours)\")\n",
    "plt.yscale('log')\n",
    "plt.ylabel(\"Erreur Absolue\")\n",
    "plt.legend(loc = \"best\");\n",
    "plt.show()\n"
   ]
  },
  {
   "cell_type": "markdown",
   "id": "336a75e8-9081-4a1b-9255-26cd869f879c",
   "metadata": {},
   "source": [
    "### 6.3 Conclusion\n",
    "\n",
    "On remarque que l'erreur est un peu plus élevé pour l'Euler implicite, ce qui ne devrait pas etre le cas normalement. Euler implicite est plus proche de la solution réelle normalement. [3]"
   ]
  },
  {
   "cell_type": "markdown",
   "id": "72e2113e-fdc8-4d67-aa2d-abb4ab380bdc",
   "metadata": {},
   "source": [
    "### 7/ Ordre de Convergence"
   ]
  },
  {
   "cell_type": "markdown",
   "id": "9fa2a0b6-f7db-4ee6-8530-1ac39d9842ff",
   "metadata": {},
   "source": [
    "### 7.1 Convergence Euler Explicite\n",
    "\n",
    "D'apèrs le cours pour un schéma d'Euler Explicite nous avons une consistance en  $ \\Delta   t$\n",
    "\n",
    "En supposant la consistance de la forme $\\;e = Cte (\\Delta t) ^{p}$ on a en passant en au logarithme (ie passer en echelle logarithmique)  $\\;log(e) = p \\, log(\\Delta t)+ log(Cte)$. En tracant $\\;log(e)$ en fonction de $log(\\Delta t)$ et en comparant la droite identité on pourra déduire la valeur de $p$. "
   ]
  },
  {
   "cell_type": "code",
   "execution_count": 18,
   "id": "3c66c683-ac7b-42b6-9c1d-8298b61f0a67",
   "metadata": {},
   "outputs": [
    {
     "data": {
      "image/png": "[encoded data removed]",
      "text/plain": [
       "<Figure size 432x288 with 1 Axes>"
      ]
     },
     "metadata": {
      "needs_background": "light"
     },
     "output_type": "display_data"
    }
   ],
   "source": [
    "markers = \"osv*<>\"\n",
    "tmax=20.\n",
    "X0 = [100., 10.]\n",
    "\n",
    "Nt_values = np.linspace(5., 40., 100).astype(np.int32)\n",
    "dt_values = tmax / (Nt_values -1)\n",
    "Erreur = []\n",
    "for i in range(len(Nt_values)):\n",
    "    tvi = np.linspace(0., tmax, Nt_values[i])\n",
    "    Xei = Euler_Explicite(derivative_SI, X0, tvi)\n",
    "    xsi = odeint(derivative_SI, X0, tvi)\n",
    "    e = (Xei[:, 0] - xsi[:, 0]).std() # calcul de l'erreur\n",
    "    Erreur.append(e)\n",
    "\n",
    "plt.figure()\n",
    "plt.plot(dt_values, Erreur, \"or-\", label = \"Erreur Euler Explicite\")\n",
    "plt.plot(dt_values, dt_values, label = \"$\\Delta t$\", linestyle =\"--\")\n",
    "plt.legend()\n",
    "plt.xlabel(\"pas de temps, $\\Delta t$ [jours]\")\n",
    "plt.xscale('log')\n",
    "plt.ylabel(\"Erreur Absolue\")\n",
    "plt.yscale(\"log\")\n",
    "plt.xscale(\"log\")\n",
    "plt.grid()\n",
    "plt.show()"
   ]
  },
  {
   "cell_type": "markdown",
   "id": "44794cc3-6dc0-4f13-b3f7-b17a2f39d195",
   "metadata": {},
   "source": [
    "Nous remarquons que les deux droites sont parallèles, en reprenant le paragraphe au dessus nous pouvons donc conclure que $p$ est égal à 1. "
   ]
  },
  {
   "cell_type": "markdown",
   "id": "b510cbf1-5b6a-4fbc-8b74-7ca8dc95dd37",
   "metadata": {},
   "source": [
    "### 7.1 Convergence Euler Explicite\n",
    "\n",
    "D'apèrs le cours pour un schéma d'Euler Implicite nous avons une consistance en  $ \\Delta   t$\n",
    "\n",
    "Procédons de meme que précédement."
   ]
  },
  {
   "cell_type": "code",
   "execution_count": 19,
   "id": "a460c0ff-dfff-4dd5-bb26-f9659075179b",
   "metadata": {},
   "outputs": [
    {
     "data": {
      "image/png": "[encoded data removed]",
      "text/plain": [
       "<Figure size 432x288 with 1 Axes>"
      ]
     },
     "metadata": {
      "needs_background": "light"
     },
     "output_type": "display_data"
    }
   ],
   "source": [
    "markers = \"osv*<>\"\n",
    "tmax=20.\n",
    "X0 = [100., 10.]\n",
    "\n",
    "Nt_values = np.linspace(5., 40., 100).astype(np.int32)\n",
    "dt_values = tmax / (Nt_values -1)\n",
    "Error = []\n",
    "for i in range(len(Nt_values)):\n",
    "    tvi = np.linspace(0., tmax, Nt_values[i])\n",
    "    Xei = Euler_Implicite(derivative_SI, X0, tvi)\n",
    "    xsi = odeint(derivative_SI, X0, tvi)\n",
    "    e = (Xei[:, 0] - xsi[:, 0]).std()\n",
    "    Error.append(e)\n",
    "\n",
    "plt.figure()\n",
    "plt.plot(dt_values, Error, \"or-\", label = \"Erreur Euler Implicite\")\n",
    "plt.plot(dt_values, dt_values, label = \"$\\Delta t$\", linestyle =\"--\")\n",
    "plt.legend()\n",
    "plt.xlabel(\"pas de temps, $\\Delta t$ [jours]\")\n",
    "plt.xscale('log')\n",
    "plt.ylabel(\"Erreur absolue\")\n",
    "plt.yscale(\"log\")\n",
    "plt.xscale(\"log\")\n",
    "plt.grid()\n",
    "plt.show()"
   ]
  },
  {
   "cell_type": "markdown",
   "id": "1c0e1a0e-e8da-413e-b2e4-f9978416a384",
   "metadata": {},
   "source": [
    "Nous retrouvons bien le meme résultat que celui énoncé en cours, c'est à dire une consistance en $ \\Delta   t$"
   ]
  },
  {
   "attachments": {},
   "cell_type": "markdown",
   "id": "147e7fd9-0272-4951-bfb3-f8c039985682",
   "metadata": {},
   "source": [
    "### 8/ Conclusion modèle SI\n",
    "\n",
    "Nous voyons qu'avec les méthodes les plus basiques de résolutions numériques nous arrivons à approcher de manière fiable la solution théorique à condition d'avoir un maillage de taille minimale le jour. "
   ]
  },
  {
   "cell_type": "markdown",
   "id": "25dd8198-55b7-4e28-a087-f81ec06705a1",
   "metadata": {},
   "source": [
    "## B. Modèle SIR"
   ]
  },
  {
   "cell_type": "markdown",
   "id": "f9363939-2bc9-4c29-b173-2f249be42aa3",
   "metadata": {},
   "source": [
    "### 1/ Contexte\n",
    "\n",
    "Dans ce modèle on ne divise plus la population en deux mais trois catégories. Comme précédement nous avons les personnes saines S, les infectés I et enfin les personnes qui sont guéries R. Ce modèle est adapté pour des maladies où l'on peut etre immunisé avec une memoire immunitaire de l'ordre de grandeur au moins de la durée temporaille sesoniaire de l'épidémie. Ainsi les personnes rétablies ne peuvent pas retomber malade."
   ]
  },
  {
   "attachments": {},
   "cell_type": "markdown",
   "id": "a3332d31-9089-453f-bb07-9da2a91fc01a",
   "metadata": {},
   "source": [
    "### 2/ Modélisation\n",
    "\n",
    "\n",
    "On traduit le schéma ci-dessus. On obtient\n",
    "\n",
    "![Schéma SIR](../../Capture%20d%E2%80%99e%CC%81cran%202023-03-06%20a%CC%80%2011.26.03.png)\n",
    "\n",
    "On obtient le système differentiel suivant.\n",
    "\n",
    "$\\left\\{\\begin{matrix}\n",
    "\\frac{\\mathrm{d}S(t))}{\\mathrm{d} t}= -\\frac{\\beta}{N} S(t)I(t) \\; \\; (1)  \\\\ \\\\\n",
    "\\frac{\\mathrm{d}I(t))}{\\mathrm{d} t}= \\frac{\\beta}{N} S(t)I(t)-\\gamma I(t) \\; \\;(2) \\\\ \\\\\n",
    "\\frac{\\mathrm{d}R(t))}{\\mathrm{d} t}= \\gamma I(t) \\; \\;(3) \\\\ \\\\\n",
    "\\forall \\: t \\; S(t) + I(t) + R(t) = N \\; \\; (4)\\\\ \\\\\n",
    "\\ S(0) = S_{0} \\; , \\; I(0) = I_{0} \\; et \\;R(0) = R_{0} \\; \\; (5)\n",
    "\\end{matrix}\\right.$"
   ]
  },
  {
   "cell_type": "markdown",
   "id": "e38efed4-c4e4-4cdf-98bf-903fd77a4b22",
   "metadata": {},
   "source": [
    "### 3/ Résolution théorique"
   ]
  },
  {
   "cell_type": "markdown",
   "id": "300a8948-1ca2-4ccb-8af6-78cbe7fa54b9",
   "metadata": {},
   "source": [
    "#### 3.1 Solution du système differentiel\n",
    "\n",
    "Il n'existe pas de solution générale à ce système. On peut exprimer des solutions en fonctions des autres types d'individus mais cela n'est pas possible en fonction du temps. "
   ]
  },
  {
   "cell_type": "markdown",
   "id": "02500e34-f528-4a70-bbc4-00dffe6981fc",
   "metadata": {},
   "source": [
    "### 4/ Résolution numérique"
   ]
  },
  {
   "cell_type": "markdown",
   "id": "b6fa6c82-c228-466a-b5eb-656338e7f06b",
   "metadata": {},
   "source": [
    "Ici la résolution numérique prend tout son sens car il n'existe pas de solution théorique contrairement au modèle SI."
   ]
  },
  {
   "cell_type": "markdown",
   "id": "6f192234-64d9-424d-8b52-b222ff5b31f8",
   "metadata": {},
   "source": [
    "#### 4.1 Initialisation des paramètres"
   ]
  },
  {
   "cell_type": "code",
   "execution_count": 20,
   "id": "ae27f017-f171-4f34-83df-46b0d90c6c36",
   "metadata": {},
   "outputs": [],
   "source": [
    "# CONDITIONS INITIALES SUR LES COMPARTIMENTS\n",
    "N = 1000. # nombre total d'individu dans notre population\n",
    "I0, R0 = 30., 0. # nombre d'infecté initialement, nombre rétabli initialement\n",
    "S0 = N - I0 - R0 #Susceptible individuals to infection initially is deduced\n",
    "X0 = S0, I0, R0\n",
    "\n",
    "# PARAMETRES DU VIRUS\n",
    "beta = 0.7\n",
    "gamma =  0.1\n",
    "\n",
    "# PARAMETRES TEMPORELLES\n",
    "tmax = 40 # durée de la modélisation en jours\n",
    "Nt = 70 # nombres de noeuds pour le maillage\n",
    "T = np.linspace(0, tmax, Nt+1)\n"
   ]
  },
  {
   "cell_type": "markdown",
   "id": "c4ded174-671b-4169-81be-19100619ead7",
   "metadata": {},
   "source": [
    "#### 4.2 Fonction traduisant le système\n",
    "\n",
    "On réecrit notre système sous la forme requise pour les schémas numériques."
   ]
  },
  {
   "cell_type": "code",
   "execution_count": 21,
   "id": "57cd43f3-1a52-4e6d-9eb3-3d28f3c03edb",
   "metadata": {},
   "outputs": [],
   "source": [
    "def derivative_SIR(X, t):\n",
    "    S, I, R = X\n",
    "    dS = -beta * S * I / N\n",
    "    dI = beta * S * I / N - gamma * I\n",
    "    dR = gamma * I\n",
    "    return np.array([dS, dI, dR])"
   ]
  },
  {
   "cell_type": "markdown",
   "id": "4bd17584-853a-4727-a0e5-17687c71f65e",
   "metadata": {},
   "source": [
    "#### 4.4 Euler Explicite\n",
    "\n",
    "Le schéma pour Euler Explicite est le suivant: \n",
    "\n",
    "$\\begin{cases}\n",
    "        z^{n+1} = z^{n}+\\Delta tf(t^{n},z^{n}) \\\\\n",
    "        z^{0} = y^{0}\n",
    "    \\end{cases}$"
   ]
  },
  {
   "cell_type": "code",
   "execution_count": 22,
   "id": "a267d1da-9a44-4ff1-9e5f-545b505f9f97",
   "metadata": {},
   "outputs": [],
   "source": [
    "def EulerExp(func, X0, t):\n",
    "    dt = t[1] - t[0] # pas de temps\n",
    "    nt = len(t)\n",
    "    X  = np.zeros([nt, len(X0)])\n",
    "    X[0] = X0 # conditions à t = 0\n",
    "    for i in range(nt-1):\n",
    "        X[i+1] = X[i] + func(X[i], t[i]) * dt #schéma\n",
    "    return X"
   ]
  },
  {
   "cell_type": "markdown",
   "id": "03429b64-525b-4311-800e-04bb32668cf5",
   "metadata": {},
   "source": [
    "#### 4.5 Euler Implicite\n",
    "\n",
    "Le schéma pour Euler Implicite est le suivant: \n",
    "\n",
    "$\\begin{cases}\n",
    "        z^{n+1} = z^{n}+\\Delta tf(t^{n+1},z^{n+1}) \\\\\n",
    "        z^{0} = y^{0}\n",
    "    \\end{cases}$\n",
    "    \n",
    "Nous allons devoir utiliser la fonction lambda qui permet de trouver le zéro d'une fonction afin de déterminer z(t+1). Il faut annuler la fonction en x ci-dessous dont on connait tous les éléments : \n",
    "\n",
    "$g_{n}(x)=-x+z^{n}+\\Delta t.derivative(t^{n+1},x)$"
   ]
  },
  {
   "cell_type": "code",
   "execution_count": 23,
   "id": "34ef317f-fa76-4727-8c25-2db78bc04eeb",
   "metadata": {},
   "outputs": [],
   "source": [
    "def EulerImp(func, X0, t):\n",
    "    dt = t[1] - t[0]\n",
    "    nt = len(t)\n",
    "    X  = np.zeros([nt, len(X0)])\n",
    "    X[0] = X0\n",
    "    for i in range(nt-1):\n",
    "        func_eq = lambda Xnp : -Xnp + X[i] + dt * func(Xnp, t[i+1])\n",
    "        X[i+1] = fsolve(func_eq, X[i])\n",
    "    return X"
   ]
  },
  {
   "cell_type": "markdown",
   "id": "1d5aea6b-f98f-4304-947d-aa63a77ef392",
   "metadata": {},
   "source": [
    "#### 4.6 Comparaision des méthodes graphiquement\n",
    "\n",
    "On obtient les valeurs pour chacune des classes (S, I et R) à differents instants pour chacune des méthodes."
   ]
  },
  {
   "cell_type": "code",
   "execution_count": 24,
   "id": "6fd99efc-91f8-4d22-a34f-cde7d6245d79",
   "metadata": {},
   "outputs": [],
   "source": [
    "XEI_SIR =EulerImp(derivative_SIR, X0, T) # Solution Implicite\n",
    "XEE_SIR = EulerExp(derivative_SIR, X0, T) # Solution Explicite"
   ]
  },
  {
   "cell_type": "code",
   "execution_count": 25,
   "id": "a88430cf-e9fe-4d61-88b3-455d6bb13408",
   "metadata": {},
   "outputs": [
    {
     "data": {
      "application/vnd.plotly.v1+json": {
       "config": {
        "plotlyServerURL": "https://plot.ly"
       },
       "data": [
        {
         "hovertemplate": "variable=S_Imp<br>temps (en jours)=%{x}<br>Nombre d'individus=%{y}<extra></extra>",
         "legendgroup": "S_Imp",
         "line": {
          "color": "#636efa",
          "dash": "solid"
         },
         "marker": {
          "symbol": "circle"
         },
         "mode": "lines",
         "name": "S_Imp",
         "orientation": "v",
         "showlegend": true,
         "type": "scatter",
         "x": [
          0,
          0.5714285714285714,
          1.1428571428571428,
          1.7142857142857142,
          2.2857142857142856,
          2.8571428571428568,
          3.4285714285714284,
          4,
          4.571428571428571,
          5.142857142857142,
          5.7142857142857135,
          6.285714285714286,
          6.857142857142857,
          7.428571428571428,
          8,
          8.571428571428571,
          9.142857142857142,
          9.714285714285714,
          10.285714285714285,
          10.857142857142856,
          11.428571428571427,
          12,
          12.571428571428571,
          13.142857142857142,
          13.714285714285714,
          14.285714285714285,
          14.857142857142856,
          15.428571428571427,
          16,
          16.57142857142857,
          17.142857142857142,
          17.71428571428571,
          18.285714285714285,
          18.857142857142858,
          19.428571428571427,
          20,
          20.57142857142857,
          21.142857142857142,
          21.71428571428571,
          22.285714285714285,
          22.857142857142854,
          23.428571428571427,
          24,
          24.57142857142857,
          25.142857142857142,
          25.71428571428571,
          26.285714285714285,
          26.857142857142854,
          27.428571428571427,
          28,
          28.57142857142857,
          29.142857142857142,
          29.71428571428571,
          30.285714285714285,
          30.857142857142854,
          31.428571428571427,
          32,
          32.57142857142857,
          33.14285714285714,
          33.714285714285715,
          34.285714285714285,
          34.857142857142854,
          35.42857142857142,
          36,
          36.57142857142857,
          37.14285714285714,
          37.714285714285715,
          38.285714285714285,
          38.857142857142854,
          39.42857142857142,
          40
         ],
         "xaxis": "x",
         "y": [
          970,
          953.0792107188983,
          929.0196928232722,
          895.8209728835903,
          851.7614950124339,
          796.022552659755,
          729.3047076878812,
          654.0864239939144,
          574.2733811891726,
          494.33171939013926,
          418.30803524812535,
          349.1468693281315,
          288.4707036313204,
          236.733956295769,
          193.55752691653342,
          158.07915494577688,
          129.23223389407127,
          105.93078384033099,
          87.17320993256497,
          72.0885094768669,
          59.947089703001865,
          50.152600203287875,
          42.22534717793478,
          35.78339212065315,
          30.524479259201772,
          26.21016019535467,
          22.65250667657518,
          19.70331539586879,
          17.245501577793103,
          15.186319566086791,
          13.452062090104112,
          11.983933209217453,
          10.734841353811909,
          9.66690810262035,
          8.749531205783423,
          7.957875830921984,
          7.271696461766318,
          6.674414263195787,
          6.152392118427886,
          5.69436295028501,
          5.290977222746124,
          4.934443387808414,
          4.618241057267011,
          4.3368912770740495,
          4.085771800708239,
          3.8609679554587433,
          3.6591517678824976,
          3.477483610942739,
          3.3135318683724493,
          3.165207067192397,
          3.0307076719548216,
          2.908475313485608,
          2.797157678160051,
          2.6955776396772047,
          2.602707495770185,
          2.5176473940648263,
          2.4396072072704973,
          2.367891257995582,
          2.301885405414334,
          2.2410460957376563,
          2.1848910506073618,
          2.13299132576292,
          2.0849645194697084,
          2.0404689484789453,
          1.9991986404733293,
          1.9608790174346484,
          1.925263165252722,
          1.8921286020614323,
          1.8612744719382057,
          1.8325191023016405,
          1.805697873039557
         ],
         "yaxis": "y"
        },
        {
         "hovertemplate": "variable=I_Imp<br>temps (en jours)=%{x}<br>Nombre d'individus=%{y}<extra></extra>",
         "legendgroup": "I_Imp",
         "line": {
          "color": "#EF553B",
          "dash": "solid"
         },
         "marker": {
          "symbol": "circle"
         },
         "mode": "lines",
         "name": "I_Imp",
         "orientation": "v",
         "showlegend": true,
         "type": "scatter",
         "x": [
          0,
          0.5714285714285714,
          1.1428571428571428,
          1.7142857142857142,
          2.2857142857142856,
          2.8571428571428568,
          3.4285714285714284,
          4,
          4.571428571428571,
          5.142857142857142,
          5.7142857142857135,
          6.285714285714286,
          6.857142857142857,
          7.428571428571428,
          8,
          8.571428571428571,
          9.142857142857142,
          9.714285714285714,
          10.285714285714285,
          10.857142857142856,
          11.428571428571427,
          12,
          12.571428571428571,
          13.142857142857142,
          13.714285714285714,
          14.285714285714285,
          14.857142857142856,
          15.428571428571427,
          16,
          16.57142857142857,
          17.142857142857142,
          17.71428571428571,
          18.285714285714285,
          18.857142857142858,
          19.428571428571427,
          20,
          20.57142857142857,
          21.142857142857142,
          21.71428571428571,
          22.285714285714285,
          22.857142857142854,
          23.428571428571427,
          24,
          24.57142857142857,
          25.142857142857142,
          25.71428571428571,
          26.285714285714285,
          26.857142857142854,
          27.428571428571427,
          28,
          28.57142857142857,
          29.142857142857142,
          29.71428571428571,
          30.285714285714285,
          30.857142857142854,
          31.428571428571427,
          32,
          32.57142857142857,
          33.14285714285714,
          33.714285714285715,
          34.285714285714285,
          34.857142857142854,
          35.42857142857142,
          36,
          36.57142857142857,
          37.14285714285714,
          37.714285714285715,
          38.285714285714285,
          38.857142857142854,
          39.42857142857142,
          40
         ],
         "xaxis": "x",
         "y": [
          30,
          44.38453040104221,
          64.7443700103619,
          92.648868871663,
          129.31870637834274,
          175.05453258339892,
          228.70360039012286,
          287.49367413359835,
          347.45229980653806,
          404.29158530256757,
          454.35228190703657,
          495.2154236201639,
          525.8433952998412,
          546.3595943848309,
          557.6692116687115,
          561.0855520913886,
          558.0442313515756,
          549.9215905185421,
          537.9397501329942,
          523.1312370433575,
          506.3389996919673,
          488.2343816678066,
          469.3420868719078,
          450.0659856086927,
          430.71274179608224,
          411.51208459723046,
          392.63353605568506,
          374.1998772101,
          356.2978158374635,
          338.98634931678225,
          322.3032766958587,
          306.2702485185429,
          290.896673326708,
          276.18273595206716,
          262.12172837058495,
          248.70184948893578,
          235.90759486576218,
          223.72082965544985,
          212.12161656777354,
          201.08885407451552,
          190.60076738032174,
          180.63528493335355,
          171.1703257901709,
          162.18401743142527,
          153.65485923709969,
          145.56184345627625,
          137.88454290634695,
          130.60317262743337,
          123.69863116081427,
          117.15252590999464,
          110.94718609954398,
          105.06566610893141,
          99.49174137970253,
          94.209898638824,
          89.20532182150231,
          84.46387479222346,
          79.97208173690872,
          75.7171059193629,
          71.68672735183905,
          67.86931981494732,
          64.25382757034369,
          60.82974203598877,
          57.587078634591066,
          54.51635397825308,
          51.608563514028496,
          48.85515972425274,
          46.24803095068144,
          43.77948089150123,
          41.44220880423935,
          39.22929043474749,
          37.134159682171216
         ],
         "yaxis": "y"
        },
        {
         "hovertemplate": "variable=R_Imp<br>temps (en jours)=%{x}<br>Nombre d'individus=%{y}<extra></extra>",
         "legendgroup": "R_Imp",
         "line": {
          "color": "#00cc96",
          "dash": "solid"
         },
         "marker": {
          "symbol": "circle"
         },
         "mode": "lines",
         "name": "R_Imp",
         "orientation": "v",
         "showlegend": true,
         "type": "scatter",
         "x": [
          0,
          0.5714285714285714,
          1.1428571428571428,
          1.7142857142857142,
          2.2857142857142856,
          2.8571428571428568,
          3.4285714285714284,
          4,
          4.571428571428571,
          5.142857142857142,
          5.7142857142857135,
          6.285714285714286,
          6.857142857142857,
          7.428571428571428,
          8,
          8.571428571428571,
          9.142857142857142,
          9.714285714285714,
          10.285714285714285,
          10.857142857142856,
          11.428571428571427,
          12,
          12.571428571428571,
          13.142857142857142,
          13.714285714285714,
          14.285714285714285,
          14.857142857142856,
          15.428571428571427,
          16,
          16.57142857142857,
          17.142857142857142,
          17.71428571428571,
          18.285714285714285,
          18.857142857142858,
          19.428571428571427,
          20,
          20.57142857142857,
          21.142857142857142,
          21.71428571428571,
          22.285714285714285,
          22.857142857142854,
          23.428571428571427,
          24,
          24.57142857142857,
          25.142857142857142,
          25.71428571428571,
          26.285714285714285,
          26.857142857142854,
          27.428571428571427,
          28,
          28.57142857142857,
          29.142857142857142,
          29.71428571428571,
          30.285714285714285,
          30.857142857142854,
          31.428571428571427,
          32,
          32.57142857142857,
          33.14285714285714,
          33.714285714285715,
          34.285714285714285,
          34.857142857142854,
          35.42857142857142,
          36,
          36.57142857142857,
          37.14285714285714,
          37.714285714285715,
          38.285714285714285,
          38.857142857142854,
          39.42857142857142,
          40
         ],
         "xaxis": "x",
         "y": [
          0,
          2.5362588800595547,
          6.235937166365949,
          11.530158244746692,
          18.91979860922342,
          28.922914756846215,
          41.99169192199609,
          58.41990187248743,
          78.27431900428961,
          101.37669530729347,
          127.33968284483842,
          155.63770705170492,
          185.68590106883872,
          216.90644931940048,
          248.7732614147554,
          280.8352929628348,
          312.7235347543534,
          344.14762564112726,
          374.8870399344412,
          404.7802534797759,
          433.7139106050312,
          461.6130181289058,
          488.4325659501577,
          514.1506222706545,
          538.7627789447163,
          562.2777552074151,
          584.7139572677399,
          606.0968073940314,
          626.4566825847436,
          645.8273311171312,
          664.2446612140374,
          681.7458182722398,
          698.3684853194803,
          714.1503559453128,
          729.1287404236319,
          743.3402746801426,
          756.8207086724718,
          769.6047560813547,
          781.7259913137989,
          793.2167829751997,
          804.1082553969325,
          814.4302716788384,
          824.2114331525624,
          833.479091291501,
          842.2593689621924,
          850.5771885882654,
          858.4563053257709,
          865.9193437616243,
          872.9878369708136,
          879.6822670228133,
          886.0221062285016,
          892.0258585775833,
          897.7111009421378,
          903.0945237214992,
          908.1919706827279,
          913.018477813712,
          917.5883110558211,
          921.9150028226419,
          926.011387242747,
          929.8896340893155,
          933.5612813790493,
          937.0372666382486,
          940.3279568459395,
          943.4431770732683,
          946.3922378454985,
          949.1839612583129,
          951.8267058840662,
          954.3283905064377,
          956.6965167238228,
          958.9381904629512,
          961.0601424447896
         ],
         "yaxis": "y"
        },
        {
         "hovertemplate": "variable=S_Exp<br>temps (en jours)=%{x}<br>Nombre d'individus=%{y}<extra></extra>",
         "legendgroup": "S_Exp",
         "line": {
          "color": "#ab63fa",
          "dash": "solid"
         },
         "marker": {
          "symbol": "circle"
         },
         "mode": "lines",
         "name": "S_Exp",
         "orientation": "v",
         "showlegend": true,
         "type": "scatter",
         "x": [
          0,
          0.5714285714285714,
          1.1428571428571428,
          1.7142857142857142,
          2.2857142857142856,
          2.8571428571428568,
          3.4285714285714284,
          4,
          4.571428571428571,
          5.142857142857142,
          5.7142857142857135,
          6.285714285714286,
          6.857142857142857,
          7.428571428571428,
          8,
          8.571428571428571,
          9.142857142857142,
          9.714285714285714,
          10.285714285714285,
          10.857142857142856,
          11.428571428571427,
          12,
          12.571428571428571,
          13.142857142857142,
          13.714285714285714,
          14.285714285714285,
          14.857142857142856,
          15.428571428571427,
          16,
          16.57142857142857,
          17.142857142857142,
          17.71428571428571,
          18.285714285714285,
          18.857142857142858,
          19.428571428571427,
          20,
          20.57142857142857,
          21.142857142857142,
          21.71428571428571,
          22.285714285714285,
          22.857142857142854,
          23.428571428571427,
          24,
          24.57142857142857,
          25.142857142857142,
          25.71428571428571,
          26.285714285714285,
          26.857142857142854,
          27.428571428571427,
          28,
          28.57142857142857,
          29.142857142857142,
          29.71428571428571,
          30.285714285714285,
          30.857142857142854,
          31.428571428571427,
          32,
          32.57142857142857,
          33.14285714285714,
          33.714285714285715,
          34.285714285714285,
          34.857142857142854,
          35.42857142857142,
          36,
          36.57142857142857,
          37.14285714285714,
          37.714285714285715,
          38.285714285714285,
          38.857142857142854,
          39.42857142857142,
          40
         ],
         "xaxis": "x",
         "y": [
          970,
          958.36,
          943.0547169828571,
          923.0809961579162,
          897.272551904166,
          864.3563382845074,
          823.0790375623534,
          772.429203366543,
          711.9630158781865,
          642.1950143807234,
          564.9380499366695,
          483.40063857825083,
          401.852220533775,
          324.82643636437825,
          256.11452326825133,
          197.99411293598334,
          151.02753480369097,
          114.41186752807144,
          86.5827828503387,
          65.76235689523764,
          50.304550037273145,
          38.84482515801388,
          30.323308576839096,
          23.947946127150733,
          19.139621461967913,
          15.479505840344874,
          12.665813488327771,
          10.480864927468858,
          8.766992357593374,
          7.409289581537494,
          6.323392088429674,
          5.44685305479932,
          4.7330536123826885,
          4.146888091978596,
          3.6616909561580937,
          3.2570341283931787,
          2.917136981586287,
          2.629709949802252,
          2.385107010746778,
          2.175699704682601,
          1.995411201219111,
          1.8393668464834625,
          1.7036301119454675,
          1.585001619859279,
          1.4808650946604929,
          1.389068473485085,
          1.3078315425545273,
          1.2356737213395699,
          1.1713572504553809,
          1.1138422312066458,
          1.0622508399641184,
          1.015838687446505,
          0.973971774133518,
          0.9361078531349808,
          0.9017812829730424,
          0.8705906580812215,
          0.8421886612357876,
          0.8162737019342953,
          0.7925829969870487,
          0.7708868209956383,
          0.7509837099473197,
          0.7326964445867851,
          0.715868674344293,
          0.7003620695226948,
          0.6860539107874767,
          0.6728350419941248,
          0.6606081259699796,
          0.649286153770852,
          0.6387911667192925,
          0.6290531576395456,
          0.6200091234758873
         ],
         "yaxis": "y"
        },
        {
         "hovertemplate": "variable=I_Exp<br>temps (en jours)=%{x}<br>Nombre d'individus=%{y}<extra></extra>",
         "legendgroup": "I_Exp",
         "line": {
          "color": "#FFA15A",
          "dash": "solid"
         },
         "marker": {
          "symbol": "circle"
         },
         "mode": "lines",
         "name": "I_Exp",
         "orientation": "v",
         "showlegend": true,
         "type": "scatter",
         "x": [
          0,
          0.5714285714285714,
          1.1428571428571428,
          1.7142857142857142,
          2.2857142857142856,
          2.8571428571428568,
          3.4285714285714284,
          4,
          4.571428571428571,
          5.142857142857142,
          5.7142857142857135,
          6.285714285714286,
          6.857142857142857,
          7.428571428571428,
          8,
          8.571428571428571,
          9.142857142857142,
          9.714285714285714,
          10.285714285714285,
          10.857142857142856,
          11.428571428571427,
          12,
          12.571428571428571,
          13.142857142857142,
          13.714285714285714,
          14.285714285714285,
          14.857142857142856,
          15.428571428571427,
          16,
          16.57142857142857,
          17.142857142857142,
          17.71428571428571,
          18.285714285714285,
          18.857142857142858,
          19.428571428571427,
          20,
          20.57142857142857,
          21.142857142857142,
          21.71428571428571,
          22.285714285714285,
          22.857142857142854,
          23.428571428571427,
          24,
          24.57142857142857,
          25.142857142857142,
          25.71428571428571,
          26.285714285714285,
          26.857142857142854,
          27.428571428571427,
          28,
          28.57142857142857,
          29.142857142857142,
          29.71428571428571,
          30.285714285714285,
          30.857142857142854,
          31.428571428571427,
          32,
          32.57142857142857,
          33.14285714285714,
          33.714285714285715,
          34.285714285714285,
          34.857142857142854,
          35.42857142857142,
          36,
          36.57142857142857,
          37.14285714285714,
          37.714285714285715,
          38.285714285714285,
          38.857142857142854,
          39.42857142857142,
          40
         ],
         "xaxis": "x",
         "y": [
          30,
          39.925714285714285,
          52.94952791510204,
          69.89756143060862,
          91.7118593168954,
          119.38739526130287,
          153.84255911138237,
          195.7013899293995,
          244.98464085036176,
          300.75352001351854,
          360.8245690282285,
          421.7434335850341,
          479.1922268532223,
          528.8355980595777,
          567.3283341237287,
          593.0299825060694,
          606.1091330665863,
          608.089992738401,
          601.1710778310822,
          587.6388707672643,
          569.5173135813851,
          548.4331919702795,
          525.6156690102955,
          501.95585037368124,
          478.08098358893943,
          454.42218586262305,
          431.2688961653474,
          408.8099078024722,
          387.1632142122064,
          366.39730474756476,
          346.5462133979546,
          327.62011166598757,
          309.61276187034775,
          292.5067695695891,
          276.27729415857596,
          260.8946770344222,
          246.32630692211927,
          232.53794498692505,
          219.4946653552991,
          207.1615203553462,
          195.50400769564706,
          184.4883944677743,
          174.08193723272518,
          164.25302645436994,
          154.97127575360474,
          146.2075709031456,
          137.93408949675356,
          130.12429934672545,
          122.75294156922533,
          115.79600278451832,
          109.23067973093123,
          103.03533875596706,
          97.18947202608193,
          91.67365183130435,
          86.46948401110605,
          81.55956126393467,
          76.92741690284097,
          72.5574794676944,
          68.4350284887734,
          64.54615160826347,
          60.87770319883959,
          57.417264567123574,
          54.153105790673294,
          51.074149207456415,
          48.16993455433698,
          45.43058573431108,
          42.846779179803164,
          40.409713770299255,
          38.111082256190855,
          35.94304413634541,
          33.89819993414647
         ],
         "yaxis": "y"
        },
        {
         "hovertemplate": "variable=R_Exp<br>temps (en jours)=%{x}<br>Nombre d'individus=%{y}<extra></extra>",
         "legendgroup": "R_Exp",
         "line": {
          "color": "#19d3f3",
          "dash": "solid"
         },
         "marker": {
          "symbol": "circle"
         },
         "mode": "lines",
         "name": "R_Exp",
         "orientation": "v",
         "showlegend": true,
         "type": "scatter",
         "x": [
          0,
          0.5714285714285714,
          1.1428571428571428,
          1.7142857142857142,
          2.2857142857142856,
          2.8571428571428568,
          3.4285714285714284,
          4,
          4.571428571428571,
          5.142857142857142,
          5.7142857142857135,
          6.285714285714286,
          6.857142857142857,
          7.428571428571428,
          8,
          8.571428571428571,
          9.142857142857142,
          9.714285714285714,
          10.285714285714285,
          10.857142857142856,
          11.428571428571427,
          12,
          12.571428571428571,
          13.142857142857142,
          13.714285714285714,
          14.285714285714285,
          14.857142857142856,
          15.428571428571427,
          16,
          16.57142857142857,
          17.142857142857142,
          17.71428571428571,
          18.285714285714285,
          18.857142857142858,
          19.428571428571427,
          20,
          20.57142857142857,
          21.142857142857142,
          21.71428571428571,
          22.285714285714285,
          22.857142857142854,
          23.428571428571427,
          24,
          24.57142857142857,
          25.142857142857142,
          25.71428571428571,
          26.285714285714285,
          26.857142857142854,
          27.428571428571427,
          28,
          28.57142857142857,
          29.142857142857142,
          29.71428571428571,
          30.285714285714285,
          30.857142857142854,
          31.428571428571427,
          32,
          32.57142857142857,
          33.14285714285714,
          33.714285714285715,
          34.285714285714285,
          34.857142857142854,
          35.42857142857142,
          36,
          36.57142857142857,
          37.14285714285714,
          37.714285714285715,
          38.285714285714285,
          38.857142857142854,
          39.42857142857142,
          40
         ],
         "xaxis": "x",
         "y": [
          0,
          1.7142857142857142,
          3.9957551020408166,
          7.021442411475219,
          11.015588778938568,
          16.256266454189735,
          23.078403326264183,
          31.86940670405746,
          43.05234327145172,
          57.0514656057581,
          74.23738103510202,
          94.85592783671507,
          118.95555261300274,
          146.337965576044,
          176.5571426080199,
          208.97590455794725,
          242.86333212972264,
          277.4981397335276,
          312.2461393185791,
          346.5987723374981,
          380.17813638134174,
          412.7219828717066,
          444.06102241286544,
          474.09620349916804,
          502.7793949490927,
          530.0983082970321,
          556.0652903463248,
          580.7092272700589,
          604.0697934302002,
          626.1934056708977,
          647.1303945136157,
          666.9330352792131,
          685.6541845172695,
          703.3463423384322,
          720.0610148852659,
          735.8482888371846,
          750.7565560962944,
          764.8323450632727,
          778.1202276339541,
          790.6627799399712,
          802.5005811031339,
          813.6722386857423,
          824.2144326553293,
          834.1619719257708,
          843.5478591517348,
          852.4033606233693,
          860.7580789606919,
          868.640026931935,
          876.0757011803194,
          883.090154984275,
          889.7070694291046,
          895.9488225565864,
          901.8365561997845,
          907.3902403155606,
          912.6287347059209,
          917.5698480779841,
          922.2303944359232,
          926.6262468303713,
          930.7723885142395,
          934.6829615707409,
          938.3713130912131,
          941.8500389882896,
          945.1310255349824,
          948.2254887230209,
          951.1440115348756,
          953.8965792236949,
          956.4926126942269,
          958.9410000759299,
          961.2501265770899,
          963.4279027060151,
          965.4817909423776
         ],
         "yaxis": "y"
        }
       ],
       "layout": {
        "legend": {
         "title": {
          "text": "variable"
         },
         "tracegroupgap": 0
        },
        "template": {
         "data": {
          "bar": [
           {
            "error_x": {
             "color": "#2a3f5f"
            },
            "error_y": {
             "color": "#2a3f5f"
            },
            "marker": {
             "line": {
              "color": "#E5ECF6",
              "width": 0.5
             },
             "pattern": {
              "fillmode": "overlay",
              "size": 10,
              "solidity": 0.2
             }
            },
            "type": "bar"
           }
          ],
          "barpolar": [
           {
            "marker": {
             "line": {
              "color": "#E5ECF6",
              "width": 0.5
             },
             "pattern": {
              "fillmode": "overlay",
              "size": 10,
              "solidity": 0.2
             }
            },
            "type": "barpolar"
           }
          ],
          "carpet": [
           {
            "aaxis": {
             "endlinecolor": "#2a3f5f",
             "gridcolor": "white",
             "linecolor": "white",
             "minorgridcolor": "white",
             "startlinecolor": "#2a3f5f"
            },
            "baxis": {
             "endlinecolor": "#2a3f5f",
             "gridcolor": "white",
             "linecolor": "white",
             "minorgridcolor": "white",
             "startlinecolor": "#2a3f5f"
            },
            "type": "carpet"
           }
          ],
          "choropleth": [
           {
            "colorbar": {
             "outlinewidth": 0,
             "ticks": ""
            },
            "type": "choropleth"
           }
          ],
          "contour": [
           {
            "colorbar": {
             "outlinewidth": 0,
             "ticks": ""
            },
            "colorscale": [
             [
              0,
              "#0d0887"
             ],
             [
              0.1111111111111111,
              "#46039f"
             ],
             [
              0.2222222222222222,
              "#7201a8"
             ],
             [
              0.3333333333333333,
              "#9c179e"
             ],
             [
              0.4444444444444444,
              "#bd3786"
             ],
             [
              0.5555555555555556,
              "#d8576b"
             ],
             [
              0.6666666666666666,
              "#ed7953"
             ],
             [
              0.7777777777777778,
              "#fb9f3a"
             ],
             [
              0.8888888888888888,
              "#fdca26"
             ],
             [
              1,
              "#f0f921"
             ]
            ],
            "type": "contour"
           }
          ],
          "contourcarpet": [
           {
            "colorbar": {
             "outlinewidth": 0,
             "ticks": ""
            },
            "type": "contourcarpet"
           }
          ],
          "heatmap": [
           {
            "colorbar": {
             "outlinewidth": 0,
             "ticks": ""
            },
            "colorscale": [
             [
              0,
              "#0d0887"
             ],
             [
              0.1111111111111111,
              "#46039f"
             ],
             [
              0.2222222222222222,
              "#7201a8"
             ],
             [
              0.3333333333333333,
              "#9c179e"
             ],
             [
              0.4444444444444444,
              "#bd3786"
             ],
             [
              0.5555555555555556,
              "#d8576b"
             ],
             [
              0.6666666666666666,
              "#ed7953"
             ],
             [
              0.7777777777777778,
              "#fb9f3a"
             ],
             [
              0.8888888888888888,
              "#fdca26"
             ],
             [
              1,
              "#f0f921"
             ]
            ],
            "type": "heatmap"
           }
          ],
          "heatmapgl": [
           {
            "colorbar": {
             "outlinewidth": 0,
             "ticks": ""
            },
            "colorscale": [
             [
              0,
              "#0d0887"
             ],
             [
              0.1111111111111111,
              "#46039f"
             ],
             [
              0.2222222222222222,
              "#7201a8"
             ],
             [
              0.3333333333333333,
              "#9c179e"
             ],
             [
              0.4444444444444444,
              "#bd3786"
             ],
             [
              0.5555555555555556,
              "#d8576b"
             ],
             [
              0.6666666666666666,
              "#ed7953"
             ],
             [
              0.7777777777777778,
              "#fb9f3a"
             ],
             [
              0.8888888888888888,
              "#fdca26"
             ],
             [
              1,
              "#f0f921"
             ]
            ],
            "type": "heatmapgl"
           }
          ],
          "histogram": [
           {
            "marker": {
             "pattern": {
              "fillmode": "overlay",
              "size": 10,
              "solidity": 0.2
             }
            },
            "type": "histogram"
           }
          ],
          "histogram2d": [
           {
            "colorbar": {
             "outlinewidth": 0,
             "ticks": ""
            },
            "colorscale": [
             [
              0,
              "#0d0887"
             ],
             [
              0.1111111111111111,
              "#46039f"
             ],
             [
              0.2222222222222222,
              "#7201a8"
             ],
             [
              0.3333333333333333,
              "#9c179e"
             ],
             [
              0.4444444444444444,
              "#bd3786"
             ],
             [
              0.5555555555555556,
              "#d8576b"
             ],
             [
              0.6666666666666666,
              "#ed7953"
             ],
             [
              0.7777777777777778,
              "#fb9f3a"
             ],
             [
              0.8888888888888888,
              "#fdca26"
             ],
             [
              1,
              "#f0f921"
             ]
            ],
            "type": "histogram2d"
           }
          ],
          "histogram2dcontour": [
           {
            "colorbar": {
             "outlinewidth": 0,
             "ticks": ""
            },
            "colorscale": [
             [
              0,
              "#0d0887"
             ],
             [
              0.1111111111111111,
              "#46039f"
             ],
             [
              0.2222222222222222,
              "#7201a8"
             ],
             [
              0.3333333333333333,
              "#9c179e"
             ],
             [
              0.4444444444444444,
              "#bd3786"
             ],
             [
              0.5555555555555556,
              "#d8576b"
             ],
             [
              0.6666666666666666,
              "#ed7953"
             ],
             [
              0.7777777777777778,
              "#fb9f3a"
             ],
             [
              0.8888888888888888,
              "#fdca26"
             ],
             [
              1,
              "#f0f921"
             ]
            ],
            "type": "histogram2dcontour"
           }
          ],
          "mesh3d": [
           {
            "colorbar": {
             "outlinewidth": 0,
             "ticks": ""
            },
            "type": "mesh3d"
           }
          ],
          "parcoords": [
           {
            "line": {
             "colorbar": {
              "outlinewidth": 0,
              "ticks": ""
             }
            },
            "type": "parcoords"
           }
          ],
          "pie": [
           {
            "automargin": true,
            "type": "pie"
           }
          ],
          "scatter": [
           {
            "fillpattern": {
             "fillmode": "overlay",
             "size": 10,
             "solidity": 0.2
            },
            "type": "scatter"
           }
          ],
          "scatter3d": [
           {
            "line": {
             "colorbar": {
              "outlinewidth": 0,
              "ticks": ""
             }
            },
            "marker": {
             "colorbar": {
              "outlinewidth": 0,
              "ticks": ""
             }
            },
            "type": "scatter3d"
           }
          ],
          "scattercarpet": [
           {
            "marker": {
             "colorbar": {
              "outlinewidth": 0,
              "ticks": ""
             }
            },
            "type": "scattercarpet"
           }
          ],
          "scattergeo": [
           {
            "marker": {
             "colorbar": {
              "outlinewidth": 0,
              "ticks": ""
             }
            },
            "type": "scattergeo"
           }
          ],
          "scattergl": [
           {
            "marker": {
             "colorbar": {
              "outlinewidth": 0,
              "ticks": ""
             }
            },
            "type": "scattergl"
           }
          ],
          "scattermapbox": [
           {
            "marker": {
             "colorbar": {
              "outlinewidth": 0,
              "ticks": ""
             }
            },
            "type": "scattermapbox"
           }
          ],
          "scatterpolar": [
           {
            "marker": {
             "colorbar": {
              "outlinewidth": 0,
              "ticks": ""
             }
            },
            "type": "scatterpolar"
           }
          ],
          "scatterpolargl": [
           {
            "marker": {
             "colorbar": {
              "outlinewidth": 0,
              "ticks": ""
             }
            },
            "type": "scatterpolargl"
           }
          ],
          "scatterternary": [
           {
            "marker": {
             "colorbar": {
              "outlinewidth": 0,
              "ticks": ""
             }
            },
            "type": "scatterternary"
           }
          ],
          "surface": [
           {
            "colorbar": {
             "outlinewidth": 0,
             "ticks": ""
            },
            "colorscale": [
             [
              0,
              "#0d0887"
             ],
             [
              0.1111111111111111,
              "#46039f"
             ],
             [
              0.2222222222222222,
              "#7201a8"
             ],
             [
              0.3333333333333333,
              "#9c179e"
             ],
             [
              0.4444444444444444,
              "#bd3786"
             ],
             [
              0.5555555555555556,
              "#d8576b"
             ],
             [
              0.6666666666666666,
              "#ed7953"
             ],
             [
              0.7777777777777778,
              "#fb9f3a"
             ],
             [
              0.8888888888888888,
              "#fdca26"
             ],
             [
              1,
              "#f0f921"
             ]
            ],
            "type": "surface"
           }
          ],
          "table": [
           {
            "cells": {
             "fill": {
              "color": "#EBF0F8"
             },
             "line": {
              "color": "white"
             }
            },
            "header": {
             "fill": {
              "color": "#C8D4E3"
             },
             "line": {
              "color": "white"
             }
            },
            "type": "table"
           }
          ]
         },
         "layout": {
          "annotationdefaults": {
           "arrowcolor": "#2a3f5f",
           "arrowhead": 0,
           "arrowwidth": 1
          },
          "autotypenumbers": "strict",
          "coloraxis": {
           "colorbar": {
            "outlinewidth": 0,
            "ticks": ""
           }
          },
          "colorscale": {
           "diverging": [
            [
             0,
             "#8e0152"
            ],
            [
             0.1,
             "#c51b7d"
            ],
            [
             0.2,
             "#de77ae"
            ],
            [
             0.3,
             "#f1b6da"
            ],
            [
             0.4,
             "#fde0ef"
            ],
            [
             0.5,
             "#f7f7f7"
            ],
            [
             0.6,
             "#e6f5d0"
            ],
            [
             0.7,
             "#b8e186"
            ],
            [
             0.8,
             "#7fbc41"
            ],
            [
             0.9,
             "#4d9221"
            ],
            [
             1,
             "#276419"
            ]
           ],
           "sequential": [
            [
             0,
             "#0d0887"
            ],
            [
             0.1111111111111111,
             "#46039f"
            ],
            [
             0.2222222222222222,
             "#7201a8"
            ],
            [
             0.3333333333333333,
             "#9c179e"
            ],
            [
             0.4444444444444444,
             "#bd3786"
            ],
            [
             0.5555555555555556,
             "#d8576b"
            ],
            [
             0.6666666666666666,
             "#ed7953"
            ],
            [
             0.7777777777777778,
             "#fb9f3a"
            ],
            [
             0.8888888888888888,
             "#fdca26"
            ],
            [
             1,
             "#f0f921"
            ]
           ],
           "sequentialminus": [
            [
             0,
             "#0d0887"
            ],
            [
             0.1111111111111111,
             "#46039f"
            ],
            [
             0.2222222222222222,
             "#7201a8"
            ],
            [
             0.3333333333333333,
             "#9c179e"
            ],
            [
             0.4444444444444444,
             "#bd3786"
            ],
            [
             0.5555555555555556,
             "#d8576b"
            ],
            [
             0.6666666666666666,
             "#ed7953"
            ],
            [
             0.7777777777777778,
             "#fb9f3a"
            ],
            [
             0.8888888888888888,
             "#fdca26"
            ],
            [
             1,
             "#f0f921"
            ]
           ]
          },
          "colorway": [
           "#636efa",
           "#EF553B",
           "#00cc96",
           "#ab63fa",
           "#FFA15A",
           "#19d3f3",
           "#FF6692",
           "#B6E880",
           "#FF97FF",
           "#FECB52"
          ],
          "font": {
           "color": "#2a3f5f"
          },
          "geo": {
           "bgcolor": "white",
           "lakecolor": "white",
           "landcolor": "#E5ECF6",
           "showlakes": true,
           "showland": true,
           "subunitcolor": "white"
          },
          "hoverlabel": {
           "align": "left"
          },
          "hovermode": "closest",
          "mapbox": {
           "style": "light"
          },
          "paper_bgcolor": "white",
          "plot_bgcolor": "#E5ECF6",
          "polar": {
           "angularaxis": {
            "gridcolor": "white",
            "linecolor": "white",
            "ticks": ""
           },
           "bgcolor": "#E5ECF6",
           "radialaxis": {
            "gridcolor": "white",
            "linecolor": "white",
            "ticks": ""
           }
          },
          "scene": {
           "xaxis": {
            "backgroundcolor": "#E5ECF6",
            "gridcolor": "white",
            "gridwidth": 2,
            "linecolor": "white",
            "showbackground": true,
            "ticks": "",
            "zerolinecolor": "white"
           },
           "yaxis": {
            "backgroundcolor": "#E5ECF6",
            "gridcolor": "white",
            "gridwidth": 2,
            "linecolor": "white",
            "showbackground": true,
            "ticks": "",
            "zerolinecolor": "white"
           },
           "zaxis": {
            "backgroundcolor": "#E5ECF6",
            "gridcolor": "white",
            "gridwidth": 2,
            "linecolor": "white",
            "showbackground": true,
            "ticks": "",
            "zerolinecolor": "white"
           }
          },
          "shapedefaults": {
           "line": {
            "color": "#2a3f5f"
           }
          },
          "ternary": {
           "aaxis": {
            "gridcolor": "white",
            "linecolor": "white",
            "ticks": ""
           },
           "baxis": {
            "gridcolor": "white",
            "linecolor": "white",
            "ticks": ""
           },
           "bgcolor": "#E5ECF6",
           "caxis": {
            "gridcolor": "white",
            "linecolor": "white",
            "ticks": ""
           }
          },
          "title": {
           "x": 0.05
          },
          "xaxis": {
           "automargin": true,
           "gridcolor": "white",
           "linecolor": "white",
           "ticks": "",
           "title": {
            "standoff": 15
           },
           "zerolinecolor": "white",
           "zerolinewidth": 2
          },
          "yaxis": {
           "automargin": true,
           "gridcolor": "white",
           "linecolor": "white",
           "ticks": "",
           "title": {
            "standoff": 15
           },
           "zerolinecolor": "white",
           "zerolinewidth": 2
          }
         }
        },
        "title": {
         "text": "Evolution du nombre d'individus de chacune des catégories pour differentes méthodes de résolution"
        },
        "xaxis": {
         "anchor": "y",
         "domain": [
          0,
          1
         ],
         "title": {
          "text": "temps (en jours)"
         }
        },
        "yaxis": {
         "anchor": "x",
         "domain": [
          0,
          1
         ],
         "title": {
          "text": "Nombre d'individus"
         }
        }
       }
      }
     },
     "metadata": {},
     "output_type": "display_data"
    }
   ],
   "source": [
    "# Transformation en pandas\n",
    "dh = pd.DataFrame({'S_Imp':XEI_SIR[:,0] ,'I_Imp':XEI_SIR[:,1], 'R_Imp':XEI_SIR[:,2], 'S_Exp':XEE_SIR[:,0], 'I_Exp':XEE_SIR[:,1], 'R_Exp':XEE_SIR[:,2],\n",
    "                   }) \n",
    "dh.insert(0, 'temps (en jours)', T) # ajout du temps en jours en colonne 1\n",
    "\n",
    "# Affichage avec plotly\n",
    "fig = px.line(dh, x='temps (en jours)', y=['S_Imp','I_Imp','R_Imp','S_Exp','I_Exp','R_Exp'], labels=dict(index=\"temps (en jours)\", value=\"Nombre d'individus\", title=\"\"), title=\"Evolution du nombre d'individus de chacune des catégories pour differentes méthodes de résolution\")\n",
    "fig.show()"
   ]
  },
  {
   "cell_type": "markdown",
   "id": "71f2891e-fb5a-4029-8991-68fc3168b91f",
   "metadata": {},
   "source": [
    "### 5/ Impact des paramètres"
   ]
  },
  {
   "cell_type": "markdown",
   "id": "d7408f8e-2bbe-46d2-a0a2-9daa3d259e31",
   "metadata": {},
   "source": [
    "#### 5.1 Beta"
   ]
  },
  {
   "attachments": {},
   "cell_type": "markdown",
   "id": "6d9f3286",
   "metadata": {},
   "source": [
    "On a choisi ici de faire une méthode un peu plus compliqué que juste prendre notre fonction derivative_SIR initiale et calculer pour differentes valeurs de beta. Le projet compagnon est surtout la pour monter en compétence en python, on en profite donc !"
   ]
  },
  {
   "cell_type": "code",
   "execution_count": 26,
   "id": "7ce3d662-ece3-4bc4-b3c9-ae43c5c70a65",
   "metadata": {},
   "outputs": [
    {
     "data": {
      "image/png": "[encoded data removed]",
      "text/plain": [
       "<Figure size 432x288 with 1 Axes>"
      ]
     },
     "metadata": {
      "needs_background": "light"
     },
     "output_type": "display_data"
    }
   ],
   "source": [
    "def derivative1(X, t, beti): # fonction prenant aussi beta en paramètre \n",
    "    S, I, R = X\n",
    "    dotS = -beti * S * I / N\n",
    "    dotI = beti * S * I / N - gamma * I\n",
    "    dotR = gamma * I\n",
    "    return np.array([dotS, dotI, dotR])\n",
    "\n",
    "\n",
    "beti =0.9\n",
    "X01 = odeint(derivative1, X0, T, args=(beti,))\n",
    "beti =2\n",
    "X03 = odeint(derivative1, X0, T, args=(beti,))\n",
    "\n",
    "plt.plot(T,X01[:,0],'r-',linewidth=2,label='beta=0.9')\n",
    "plt.plot(T,X03[:,0],'b-',linewidth=2,label='beta=2')\n",
    "plt.title('Impact du paramètre beta sur les inidividus sains')\n",
    "plt.xlabel('temps (en jours)')\n",
    "plt.ylabel('nombre individus')\n",
    "plt.legend()\n",
    "plt.show()\n"
   ]
  },
  {
   "cell_type": "markdown",
   "id": "f22ddf21-eae8-4b82-bc81-e7eac021b0d5",
   "metadata": {},
   "source": [
    "#### 5.2 Gamma"
   ]
  },
  {
   "cell_type": "code",
   "execution_count": 35,
   "id": "2b4500b4-5256-4d8f-aae8-7a1fa27acb7f",
   "metadata": {},
   "outputs": [
    {
     "data": {
      "image/png": "[encoded data removed]",
      "text/plain": [
       "<Figure size 432x288 with 1 Axes>"
      ]
     },
     "metadata": {
      "needs_background": "light"
     },
     "output_type": "display_data"
    }
   ],
   "source": [
    "beta = 0.7 # refixe une valeur de beta, on s'interesse à gamma maintenant\n",
    "\n",
    "def derivative2(X, t, gamma): # fonction prenant gamma en paramètre aussi\n",
    "    S, I, R = X\n",
    "    dotS = -beta * S * I / N\n",
    "    dotI = beta * S * I / N - gamma * I\n",
    "    dotR = gamma * I\n",
    "    return np.array([dotS, dotI, dotR])\n",
    "\n",
    "gamma =0.05\n",
    "X07 = odeint(derivative1, X0, T, args=(gamma,))\n",
    "gamma =0.7\n",
    "X05 = odeint(derivative1, X0, T, args=(gamma,))\n",
    "\n",
    "plt.plot(T,X07[:,2],'r-',linewidth=2,label='gamma=0.05')\n",
    "plt.plot(T,X05[:,2],'b-',linewidth=2,label='gamma=0.7')\n",
    "plt.title('Impact du paramètre gamma sur les inidividus remis')\n",
    "plt.xlabel('temps (en jours)')\n",
    "plt.ylabel('nombre d individus')\n",
    "plt.legend()\n",
    "plt.show()"
   ]
  },
  {
   "attachments": {},
   "cell_type": "markdown",
   "id": "fe4a7f66",
   "metadata": {},
   "source": [
    "#### 5.2 Beta & Gamma\n",
    "\n",
    "On va faire varier les deux paramètres ensemble. Nous allons tester differents couples de valeurs que l'on peut retrouver pour des épidémies. [5] "
   ]
  },
  {
   "cell_type": "code",
   "execution_count": 28,
   "id": "7d120f37",
   "metadata": {},
   "outputs": [],
   "source": [
    "def derivative_R0(X, t, beta, gamma):\n",
    "    S, I, R = X\n",
    "    dotS = -beta * S * I / N\n",
    "    dotI = beta * S * I / N - gamma * I\n",
    "    dotR = gamma * I\n",
    "    return np.array([dotS, dotI, dotR])\n",
    "\n",
    "\n",
    "def Euler_R0(func, X0, t, betas, gammas): # rajout des paramètres beta et gamma en entré de la fonctop,\n",
    "    dt = t[1] - t[0]\n",
    "    nt = len(t)\n",
    "    X  = np.zeros([nt, len(X0)*len(betas)])\n",
    "    for j in range(len(betas)): \n",
    "        X[0,3*j]= X0[0]\n",
    "        X[0,3*j+1]= X0[1]\n",
    "        X[0,3*j+2]= X0[2]\n",
    "        \n",
    "    for i in range(0,nt-1):\n",
    "        for p in betas:\n",
    "            j = betas.index(p)\n",
    "            beta_local = betas[j] # on fait varier par couple beta et gamma\n",
    "            gamma_local =  gammas[j]\n",
    "            Y = [X[i,3*j], X[i,3*j+1],X[i,3*j+2]]\n",
    "            Z = Y + func(Y, t[i],beta_local,gamma_local) * dt \n",
    "            X[i+1,3*j], X[i+1,3*j+1], X[i+1,3*j+2] = Z[0], Z[1], Z[2]\n",
    "    \n",
    "    X = pd.DataFrame(X)\n",
    "    return(X)"
   ]
  },
  {
   "cell_type": "code",
   "execution_count": 29,
   "id": "2664cab2",
   "metadata": {},
   "outputs": [
    {
     "data": {
      "application/vnd.plotly.v1+json": {
       "config": {
        "plotlyServerURL": "https://plot.ly"
       },
       "data": [
        {
         "hovertemplate": "variable=S_b_0.6_g_0.1<br>temps (en jours)=%{x}<br>nombre d'individu=%{y}<extra></extra>",
         "legendgroup": "S_b_0.6_g_0.1",
         "line": {
          "color": "#636efa",
          "dash": "solid"
         },
         "marker": {
          "symbol": "circle"
         },
         "mode": "lines",
         "name": "S_b_0.6_g_0.1",
         "showlegend": true,
         "type": "scattergl",
         "x": [
          0,
          0.13377926421404682,
          0.26755852842809363,
          0.4013377926421404,
          0.5351170568561873,
          0.6688963210702341,
          0.8026755852842808,
          0.9364548494983277,
          1.0702341137123745,
          1.2040133779264213,
          1.3377926421404682,
          1.471571906354515,
          1.6053511705685617,
          1.7391304347826086,
          1.8729096989966554,
          2.0066889632107023,
          2.140468227424749,
          2.274247491638796,
          2.4080267558528425,
          2.5418060200668897,
          2.6755852842809364,
          2.809364548494983,
          2.94314381270903,
          3.0769230769230766,
          3.2107023411371234,
          3.3444816053511706,
          3.4782608695652173,
          3.612040133779264,
          3.7458193979933108,
          3.8795986622073575,
          4.013377926421405,
          4.147157190635451,
          4.280936454849498,
          4.414715719063545,
          4.548494983277592,
          4.682274247491638,
          4.816053511705685,
          4.949832775919732,
          5.083612040133779,
          5.217391304347826,
          5.351170568561873,
          5.48494983277592,
          5.618729096989966,
          5.752508361204013,
          5.88628762541806,
          6.020066889632107,
          6.153846153846153,
          6.2876254180602,
          6.421404682274247,
          6.555183946488294,
          6.688963210702341,
          6.822742474916388,
          6.956521739130435,
          7.090301003344481,
          7.224080267558528,
          7.357859531772575,
          7.4916387959866215,
          7.625418060200668,
          7.759197324414715,
          7.892976588628763,
          8.02675585284281,
          8.160535117056856,
          8.294314381270903,
          8.42809364548495,
          8.561872909698996,
          8.695652173913043,
          8.82943143812709,
          8.963210702341136,
          9.096989966555183,
          9.23076923076923,
          9.364548494983277,
          9.498327759197323,
          9.63210702341137,
          9.765886287625417,
          9.899665551839464,
          10.033444816053512,
          10.167224080267559,
          10.301003344481606,
          10.434782608695652,
          10.568561872909699,
          10.702341137123746,
          10.836120401337793,
          10.96989966555184,
          11.103678929765886,
          11.237458193979933,
          11.37123745819398,
          11.505016722408026,
          11.638795986622073,
          11.77257525083612,
          11.906354515050166,
          12.040133779264213,
          12.17391304347826,
          12.307692307692307,
          12.441471571906353,
          12.5752508361204,
          12.709030100334447,
          12.842809364548494,
          12.976588628762542,
          13.110367892976589,
          13.244147157190636,
          13.377926421404682,
          13.511705685618729,
          13.645484949832776,
          13.779264214046822,
          13.91304347826087,
          14.046822742474916,
          14.180602006688963,
          14.31438127090301,
          14.448160535117056,
          14.581939799331103,
          14.71571906354515,
          14.849498327759196,
          14.983277591973243,
          15.11705685618729,
          15.250836120401337,
          15.384615384615383,
          15.51839464882943,
          15.652173913043477,
          15.785953177257525,
          15.919732441471572,
          16.05351170568562,
          16.187290969899664,
          16.321070234113712,
          16.454849498327757,
          16.588628762541806,
          16.72240802675585,
          16.8561872909699,
          16.989966555183944,
          17.123745819397993,
          17.25752508361204,
          17.391304347826086,
          17.525083612040135,
          17.65886287625418,
          17.792642140468228,
          17.926421404682273,
          18.06020066889632,
          18.193979933110366,
          18.327759197324415,
          18.46153846153846,
          18.59531772575251,
          18.729096989966553,
          18.862876254180602,
          18.996655518394647,
          19.130434782608695,
          19.26421404682274,
          19.39799331103679,
          19.531772575250834,
          19.665551839464882,
          19.799331103678927,
          19.933110367892976,
          20.066889632107024,
          20.20066889632107,
          20.334448160535118,
          20.468227424749163,
          20.60200668896321,
          20.735785953177256,
          20.869565217391305,
          21.00334448160535,
          21.137123745819398,
          21.270903010033443,
          21.40468227424749,
          21.538461538461537,
          21.672240802675585,
          21.80602006688963,
          21.93979933110368,
          22.073578595317723,
          22.207357859531772,
          22.341137123745817,
          22.474916387959865,
          22.60869565217391,
          22.74247491638796,
          22.876254180602007,
          23.010033444816052,
          23.1438127090301,
          23.277591973244146,
          23.411371237458194,
          23.54515050167224,
          23.678929765886288,
          23.812709030100333,
          23.94648829431438,
          24.080267558528426,
          24.214046822742475,
          24.34782608695652,
          24.48160535117057,
          24.615384615384613,
          24.74916387959866,
          24.882943143812707,
          25.016722408026755,
          25.1505016722408,
          25.28428093645485,
          25.418060200668894,
          25.551839464882942,
          25.685618729096987,
          25.819397993311036,
          25.953177257525084,
          26.08695652173913,
          26.220735785953178,
          26.354515050167223,
          26.48829431438127,
          26.622073578595316,
          26.755852842809364,
          26.88963210702341,
          27.023411371237458,
          27.157190635451503,
          27.29096989966555,
          27.424749163879596,
          27.558528428093645,
          27.69230769230769,
          27.82608695652174,
          27.959866220735783,
          28.093645484949832,
          28.227424749163877,
          28.361204013377925,
          28.49498327759197,
          28.62876254180602,
          28.762541806020067,
          28.896321070234112,
          29.03010033444816,
          29.163879598662206,
          29.297658862876254,
          29.4314381270903,
          29.565217391304348,
          29.698996655518393,
          29.83277591973244,
          29.966555183946486,
          30.100334448160535,
          30.23411371237458,
          30.367892976588628,
          30.501672240802673,
          30.63545150501672,
          30.769230769230766,
          30.903010033444815,
          31.03678929765886,
          31.17056856187291,
          31.304347826086953,
          31.438127090301002,
          31.57190635451505,
          31.705685618729095,
          31.839464882943144,
          31.97324414715719,
          32.10702341137124,
          32.240802675585286,
          32.37458193979933,
          32.508361204013376,
          32.642140468227424,
          32.77591973244147,
          32.909698996655514,
          33.04347826086956,
          33.17725752508361,
          33.31103678929766,
          33.4448160535117,
          33.57859531772575,
          33.7123745819398,
          33.84615384615385,
          33.97993311036789,
          34.11371237458194,
          34.247491638795985,
          34.381270903010034,
          34.51505016722408,
          34.64882943143812,
          34.78260869565217,
          34.91638795986622,
          35.05016722408027,
          35.18394648829431,
          35.31772575250836,
          35.45150501672241,
          35.585284280936456,
          35.7190635451505,
          35.852842809364546,
          35.986622073578594,
          36.12040133779264,
          36.254180602006684,
          36.38795986622073,
          36.52173913043478,
          36.65551839464883,
          36.78929765886287,
          36.92307692307692,
          37.05685618729097,
          37.19063545150502,
          37.324414715719065,
          37.45819397993311,
          37.591973244147155,
          37.725752508361204,
          37.85953177257525,
          37.993311036789294,
          38.12709030100334,
          38.26086956521739,
          38.39464882943144,
          38.52842809364548,
          38.66220735785953,
          38.79598662207358,
          38.929765886287626,
          39.06354515050167,
          39.197324414715716,
          39.331103678929765,
          39.46488294314381,
          39.598662207357854,
          39.7324414715719,
          39.86622073578595,
          40
         ],
         "xaxis": "x",
         "y": [
          340,
          338.77190635451507,
          337.49979342377674,
          336.1824599499847,
          334.81870228207714,
          333.40731721294287,
          331.947105047838,
          330.4368729097455,
          328.8754382863444,
          327.2616328220053,
          325.59430635679274,
          323.8723312128258,
          322.0946067265178,
          320.260064023179,
          318.3676710282226,
          316.41643770676177,
          314.40542152073044,
          312.3337330898098,
          310.20054203940526,
          308.00508301571654,
          305.74666184459284,
          303.4246618073957,
          301.0385500035361,
          298.5878837657464,
          296.07231709053934,
          293.4916070427414,
          290.8456200895277,
          288.134338316085,
          285.3578654719616,
          282.51643279439105,
          279.6104045524789,
          276.64028325418985,
          273.6067144566444,
          270.5104911193996,
          267.352557440225,
          264.1340121134507,
          260.8561109523263,
          257.5202688190295,
          254.1280608090477,
          250.68122264064093,
          247.18165020499964,
          243.63139823851677,
          240.0326780852852,
          236.38785452545497,
          232.69944165337665,
          228.97009779843088,
          225.20261949099233,
          221.39993448597394,
          217.56509386670174,
          213.70126326232452,
          209.81171322239834,
          205.89980880252384,
          201.96899842477615,
          198.0228020859692,
          194.06479899536222,
          190.09861473107992,
          186.12790801112243,
          182.1563571802538,
          178.18764651816176,
          174.2254524769898,
          170.27342995759273,
          166.33519873362883,
          162.4143301308746,
          158.5143340659625,
          154.6386465441594,
          150.79061770991296,
          146.97350053681,
          143.19044023545507,
          139.44446444874464,
          135.73847429425564,
          132.07523630316965,
          128.4573752945021,
          124.88736821258928,
          121.36753894498754,
          117.90005412733679,
          114.48691993149632,
          111.12997982352579,
          107.83091326898679,
          104.59123535469344,
          101.41229728853173,
          98.29528773236568,
          95.24123491739864,
          92.25100948668563,
          89.32532800579992,
          86.46475707993217,
          83.66971801390957,
          80.94049195072182,
          78.27722542407136,
          75.67993626115994,
          73.14851977330636,
          70.68275517398206,
          68.28231216636738,
          65.94675764548973,
          63.675562463320766,
          61.4681082088039,
          59.32369395857902,
          57.24154295809672,
          55.22080919680352,
          53.260583845073704,
          51.35990152450933,
          49.517746387081864,
          47.73305798230803,
          46.004736895206534,
          44.331650141145246,
          42.71263630684084,
          41.14651042970023,
          39.63206861038653,
          38.16809235594711,
          36.75335265305678,
          35.38661377290875,
          34.06663681103473,
          32.792182966862306,
          31.562016569132187,
          30.374907854412218,
          29.22963550687107,
          28.12498896822679,
          27.059770527376855,
          26.03279719966144,
          25.042902406024336,
          24.088937462529454,
          23.169772890779043,
          22.284299559774436,
          21.43142966967411,
          20.61009758774767,
          19.819260546608977,
          19.057899214546342,
          18.32501814746182,
          17.619646131592614,
          16.94083642582344,
          16.287666912015165,
          15.659240161378632,
          15.054683424517926,
          14.473148552359064,
          13.91381185477217,
          13.37587390329076,
          12.858559283933733,
          12.361116305746418,
          11.882816670298297,
          11.422955107008692,
          10.980848978818594,
          10.555837862388227,
          10.147283106676223,
          9.754567373448097,
          9.377094162969103,
          9.014287327859781,
          8.665590577831262,
          8.330466977771694,
          8.00839844142456,
          7.698885222683776,
          7.401445406328946,
          7.115614399836405,
          6.840944427727139,
          6.577004029750924,
          6.323377564056216,
          6.07966471635716,
          5.845480015981692,
          5.62045235956762,
          5.404224543066254,
          5.196452802614798,
          4.996806364749052,
          4.804967006346188,
          4.620628624613089,
          4.443496817368401,
          4.273288473805575,
          4.109731375869301,
          3.9525638103283884,
          3.8015341915839906,
          3.656400695212589,
          3.516930902208088,
          3.3829014538563,
          3.2540977171477072,
          3.130313460610402,
          3.0113505404241723,
          2.8970185966586275,
          2.7871347594627256,
          2.681523365019883,
          2.5800156810717985,
          2.4824496418049744,
          2.3886695918865377,
          2.298526039430115,
          2.21187541766812,
          2.128579855103638,
          2.0485069539130865,
          1.9715295763698146,
          1.8975256390586852,
          1.8263779146523764,
          1.7579738410215122,
          1.6922053374527344,
          1.62896862775136,
          1.5681640700082733,
          1.5096959928140998,
          1.453472537707457,
          1.3994055076481127,
          1.3474102213101564,
          1.2974053729947723,
          1.249312897966827,
          1.2030578430242602,
          1.1585682421141088,
          1.1157749968139261,
          1.0746117615023127,
          1.0350148330472586,
          0.9969230448459744,
          0.9602776650548543,
          0.9250222988531365,
          0.8911027945887108,
          0.858467153659348,
          0.8270654439873772,
          0.7968497169505188,
          0.767773927636173,
          0.7397938582909731,
          0.712867044841815,
          0.6869527063688929,
          0.6620116774154748,
          0.6380063430232549,
          0.6149005763861191,
          0.5926596790190469,
          0.5712503233426536,
          0.5506404975875465,
          0.5307994529262352,
          0.5116976527437856,
          0.4933067239617584,
          0.47559941033321174,
          0.4585495276296852,
          0.4421319206441141,
          0.4263224219365568,
          0.41109781225244785,
          0.39643578254582745,
          0.38231489754263404,
          0.3687145607816966,
          0.35561498107351724,
          0.3429971403193019,
          0.33084276263497997,
          0.319134284727149,
          0.30785482746999887,
          0.29698816863430594,
          0.28651871672154927,
          0.27643148585808747,
          0.26671207170614947,
          0.25734662835013844,
          0.24832184611842578,
          0.2396249303024257,
          0.23124358073629112,
          0.22316597220206175,
          0.21538073562652685,
          0.20787694003743942,
          0.20064407524804,
          0.19367203524011584,
          0.18695110221703923,
          0.18047193129939748,
          0.17422553583694914,
          0.16820327331171814,
          0.16239683180807118,
          0.15679821702661528,
          0.15139973981970412,
          0.14619400422725487,
          0.1411738959924532,
          0.1363325715377639,
          0.13166344738247104,
          0.1271601899837441,
          0.12281670598396789,
          0.11862713284778525,
          0.11458582987298271,
          0.11068736956000354,
          0.10692652932549897,
          0.10329828354592961,
          0.09979779591780513,
          0.09642041212170262,
          0.09316165277773386,
          0.09001720668063924,
          0.08698292430317273,
          0.08405481155690905,
          0.08122902380005137,
          0.0785018600822463,
          0.07586975761682448,
          0.07332928647127837,
          0.0708771444671668,
          0.0685101522809976,
          0.06622524873798677,
          0.06401948629092463,
          0.06189002667669895,
          0.05983413674332964,
          0.05784918444066314,
          0.05593263496815489,
          0.05408204707343741,
          0.05229506949562946,
          0.0505694375475888,
          0.0489029698315481,
          0.0472935650828005,
          0.045739199136319186,
          0.04423792201140391,
          0.04278785510964732,
          0.04138718852170591,
          0.04003417843854401,
          0.03872714466299547,
          0.03746446821765669,
          0.03624458904528643,
          0.03506600379804311,
          0.03392726371203921,
          0.03282697256383489,
          0.03176378470562981
         ],
         "yaxis": "y"
        },
        {
         "hovertemplate": "variable=I_b_0.6_g_0.1<br>temps (en jours)=%{x}<br>nombre d'individu=%{y}<extra></extra>",
         "legendgroup": "I_b_0.6_g_0.1",
         "line": {
          "color": "#EF553B",
          "dash": "solid"
         },
         "marker": {
          "symbol": "circle"
         },
         "mode": "lines",
         "name": "I_b_0.6_g_0.1",
         "showlegend": true,
         "type": "scattergl",
         "x": [
          0,
          0.13377926421404682,
          0.26755852842809363,
          0.4013377926421404,
          0.5351170568561873,
          0.6688963210702341,
          0.8026755852842808,
          0.9364548494983277,
          1.0702341137123745,
          1.2040133779264213,
          1.3377926421404682,
          1.471571906354515,
          1.6053511705685617,
          1.7391304347826086,
          1.8729096989966554,
          2.0066889632107023,
          2.140468227424749,
          2.274247491638796,
          2.4080267558528425,
          2.5418060200668897,
          2.6755852842809364,
          2.809364548494983,
          2.94314381270903,
          3.0769230769230766,
          3.2107023411371234,
          3.3444816053511706,
          3.4782608695652173,
          3.612040133779264,
          3.7458193979933108,
          3.8795986622073575,
          4.013377926421405,
          4.147157190635451,
          4.280936454849498,
          4.414715719063545,
          4.548494983277592,
          4.682274247491638,
          4.816053511705685,
          4.949832775919732,
          5.083612040133779,
          5.217391304347826,
          5.351170568561873,
          5.48494983277592,
          5.618729096989966,
          5.752508361204013,
          5.88628762541806,
          6.020066889632107,
          6.153846153846153,
          6.2876254180602,
          6.421404682274247,
          6.555183946488294,
          6.688963210702341,
          6.822742474916388,
          6.956521739130435,
          7.090301003344481,
          7.224080267558528,
          7.357859531772575,
          7.4916387959866215,
          7.625418060200668,
          7.759197324414715,
          7.892976588628763,
          8.02675585284281,
          8.160535117056856,
          8.294314381270903,
          8.42809364548495,
          8.561872909698996,
          8.695652173913043,
          8.82943143812709,
          8.963210702341136,
          9.096989966555183,
          9.23076923076923,
          9.364548494983277,
          9.498327759197323,
          9.63210702341137,
          9.765886287625417,
          9.899665551839464,
          10.033444816053512,
          10.167224080267559,
          10.301003344481606,
          10.434782608695652,
          10.568561872909699,
          10.702341137123746,
          10.836120401337793,
          10.96989966555184,
          11.103678929765886,
          11.237458193979933,
          11.37123745819398,
          11.505016722408026,
          11.638795986622073,
          11.77257525083612,
          11.906354515050166,
          12.040133779264213,
          12.17391304347826,
          12.307692307692307,
          12.441471571906353,
          12.5752508361204,
          12.709030100334447,
          12.842809364548494,
          12.976588628762542,
          13.110367892976589,
          13.244147157190636,
          13.377926421404682,
          13.511705685618729,
          13.645484949832776,
          13.779264214046822,
          13.91304347826087,
          14.046822742474916,
          14.180602006688963,
          14.31438127090301,
          14.448160535117056,
          14.581939799331103,
          14.71571906354515,
          14.849498327759196,
          14.983277591973243,
          15.11705685618729,
          15.250836120401337,
          15.384615384615383,
          15.51839464882943,
          15.652173913043477,
          15.785953177257525,
          15.919732441471572,
          16.05351170568562,
          16.187290969899664,
          16.321070234113712,
          16.454849498327757,
          16.588628762541806,
          16.72240802675585,
          16.8561872909699,
          16.989966555183944,
          17.123745819397993,
          17.25752508361204,
          17.391304347826086,
          17.525083612040135,
          17.65886287625418,
          17.792642140468228,
          17.926421404682273,
          18.06020066889632,
          18.193979933110366,
          18.327759197324415,
          18.46153846153846,
          18.59531772575251,
          18.729096989966553,
          18.862876254180602,
          18.996655518394647,
          19.130434782608695,
          19.26421404682274,
          19.39799331103679,
          19.531772575250834,
          19.665551839464882,
          19.799331103678927,
          19.933110367892976,
          20.066889632107024,
          20.20066889632107,
          20.334448160535118,
          20.468227424749163,
          20.60200668896321,
          20.735785953177256,
          20.869565217391305,
          21.00334448160535,
          21.137123745819398,
          21.270903010033443,
          21.40468227424749,
          21.538461538461537,
          21.672240802675585,
          21.80602006688963,
          21.93979933110368,
          22.073578595317723,
          22.207357859531772,
          22.341137123745817,
          22.474916387959865,
          22.60869565217391,
          22.74247491638796,
          22.876254180602007,
          23.010033444816052,
          23.1438127090301,
          23.277591973244146,
          23.411371237458194,
          23.54515050167224,
          23.678929765886288,
          23.812709030100333,
          23.94648829431438,
          24.080267558528426,
          24.214046822742475,
          24.34782608695652,
          24.48160535117057,
          24.615384615384613,
          24.74916387959866,
          24.882943143812707,
          25.016722408026755,
          25.1505016722408,
          25.28428093645485,
          25.418060200668894,
          25.551839464882942,
          25.685618729096987,
          25.819397993311036,
          25.953177257525084,
          26.08695652173913,
          26.220735785953178,
          26.354515050167223,
          26.48829431438127,
          26.622073578595316,
          26.755852842809364,
          26.88963210702341,
          27.023411371237458,
          27.157190635451503,
          27.29096989966555,
          27.424749163879596,
          27.558528428093645,
          27.69230769230769,
          27.82608695652174,
          27.959866220735783,
          28.093645484949832,
          28.227424749163877,
          28.361204013377925,
          28.49498327759197,
          28.62876254180602,
          28.762541806020067,
          28.896321070234112,
          29.03010033444816,
          29.163879598662206,
          29.297658862876254,
          29.4314381270903,
          29.565217391304348,
          29.698996655518393,
          29.83277591973244,
          29.966555183946486,
          30.100334448160535,
          30.23411371237458,
          30.367892976588628,
          30.501672240802673,
          30.63545150501672,
          30.769230769230766,
          30.903010033444815,
          31.03678929765886,
          31.17056856187291,
          31.304347826086953,
          31.438127090301002,
          31.57190635451505,
          31.705685618729095,
          31.839464882943144,
          31.97324414715719,
          32.10702341137124,
          32.240802675585286,
          32.37458193979933,
          32.508361204013376,
          32.642140468227424,
          32.77591973244147,
          32.909698996655514,
          33.04347826086956,
          33.17725752508361,
          33.31103678929766,
          33.4448160535117,
          33.57859531772575,
          33.7123745819398,
          33.84615384615385,
          33.97993311036789,
          34.11371237458194,
          34.247491638795985,
          34.381270903010034,
          34.51505016722408,
          34.64882943143812,
          34.78260869565217,
          34.91638795986622,
          35.05016722408027,
          35.18394648829431,
          35.31772575250836,
          35.45150501672241,
          35.585284280936456,
          35.7190635451505,
          35.852842809364546,
          35.986622073578594,
          36.12040133779264,
          36.254180602006684,
          36.38795986622073,
          36.52173913043478,
          36.65551839464883,
          36.78929765886287,
          36.92307692307692,
          37.05685618729097,
          37.19063545150502,
          37.324414715719065,
          37.45819397993311,
          37.591973244147155,
          37.725752508361204,
          37.85953177257525,
          37.993311036789294,
          38.12709030100334,
          38.26086956521739,
          38.39464882943144,
          38.52842809364548,
          38.66220735785953,
          38.79598662207358,
          38.929765886287626,
          39.06354515050167,
          39.197324414715716,
          39.331103678929765,
          39.46488294314381,
          39.598662207357854,
          39.7324414715719,
          39.86622073578595,
          40
         ],
         "xaxis": "x",
         "y": [
          30,
          31.187959866220737,
          32.41834977372665,
          33.692314217721034,
          35.01099855557146,
          36.375546168444075,
          37.78709539553095,
          39.246776235435476,
          40.755706810361076,
          42.31498959000401,
          43.9257073734908,
          45.58891902933267,
          47.305654995200115,
          49.07691254135468,
          50.903650803814244,
          52.78678559577166,
          54.727184008430726,
          56.725658815259834,
          58.78296269668077,
          60.899782305390666,
          63.07673219583828,
          65.31434864481356,
          67.61308339362995,
          69.97329734594321,
          72.39525425881457,
          74.87911446813915,
          77.42492869296738,
          80.03263196648639,
          82.7020377444339,
          85.43283224441993,
          88.22456907195831,
          91.07666419088687,
          93.98839129720707,
          96.95887765612785,
          99.98710046218393,
          103.07188378165095,
          106.2118961350407,
          109.40564877518021,
          112.65149471322201,
          115.9476285408753,
          119.29208709218096,
          122.68275098228634,
          126.11734705393624,
          129.59345175483142,
          133.10849546068255,
          136.65976774979464,
          140.24442362546088,
          143.8594906724519,
          147.50187712360042,
          151.1683808020598,
          154.8556988944247,
          158.56043849972474,
          162.27912788951292,
          166.00822840505631,
          169.74414690916822,
          173.48324870266904,
          177.22187080897749,
          180.95633552505151,
          184.68296413292944,
          188.39809066355565,
          192.09807560346968,
          195.77931943532192,
          199.43827590505234,
          203.0714649118975,
          206.67548492211276,
          210.24702481331957,
          213.78287506359536,
          217.27993820767458,
          220.73523849176604,
          224.14593066833962,
          227.50930788261178,
          230.82280861317548,
          234.0840226400874,
          237.2906960245586,
          240.4407350950193,
          243.5322094445788,
          246.56335395463014,
          249.53256986842717,
          252.43842494677614,
          255.2796527454505,
          258.0551510604855,
          260.76397959309736,
          263.40535689057543,
          265.97865662311256,
          268.4834032591835,
          270.9192672037891,
          273.28605946469753,
          275.58372591179653,
          277.8123411938895,
          279.97210237579804,
          282.0633223565594,
          284.0864231269078,
          286.04192892119426,
          287.93045931550876,
          289.7527223201052,
          291.50950751037004,
          293.20167923659096,
          294.8301699487382,
          296.3959736684296,
          297.9001396362603,
          299.3437661587898,
          300.72799467572577,
          302.0540040642644,
          303.32300519415946,
          304.5362357439232,
          305.69495528562044,
          306.8004406430136,
          307.8539815253553,
          308.8568764369074,
          309.81042886028365,
          310.71594370997,
          311.5747240508515,
          312.3880680752694,
          313.1572663310258,
          313.8835991918365,
          314.5683345609934,
          315.21272579841724,
          315.8180098608505,
          316.38540564464034,
          316.9161125203832,
          317.4113090486281,
          317.87215186585524,
          318.29977473004806,
          318.69528771534567,
          319.05977654549395,
          319.394302056091,
          319.6998997759433,
          319.97757961819923,
          320.22832567230523,
          320.45309608822413,
          320.6528230447627,
          320.8284127942726,
          320.9807457764057,
          321.11067679402413,
          321.21903524477773,
          321.3066254022688,
          321.374226741122,
          321.4225943006623,
          321.4524590822788,
          321.46452847591064,
          321.4594867114368,
          321.43799533108,
          321.40069367924985,
          321.3481994065459,
          321.28110898492406,
          321.1999982312938,
          321.10542283706405,
          320.99791890138835,
          320.87800346608043,
          320.7461750503736,
          320.6029141838891,
          320.44868393635437,
          320.2839304427769,
          320.1090834229295,
          319.924556694143,
          319.730748676533,
          319.52804288990154,
          319.31680844166726,
          319.0974005052737,
          318.87016078861734,
          318.635417992119,
          318.3934882561369,
          318.1446755974871,
          317.88927233489943,
          317.6275595032907,
          317.35980725678706,
          317.08627526047223,
          316.80721307087646,
          316.5228605052577,
          316.2334479997563,
          315.93919695653216,
          315.64032008001726,
          315.3370217024376,
          315.02949809877515,
          314.7179377913573,
          314.4025218442733,
          314.0834241478277,
          313.7608116932513,
          313.4348448378945,
          313.10567756113636,
          312.77345771124465,
          312.4383272434262,
          312.1004224493078,
          311.7598741780895,
          311.41680804961055,
          311.0713446595692,
          310.72359977713376,
          310.37368453518127,
          310.02170561339744,
          309.6677654144671,
          309.3119622335817,
          308.9543904214862,
          308.5951405412827,
          308.2342995192042,
          307.8719507895675,
          307.50817443410773,
          307.1430473158943,
          306.77664320802063,
          306.4090329172566,
          306.0402844028461,
          305.67046289062847,
          305.299630982655,
          304.92784876246935,
          304.5551738962129,
          304.1816617297132,
          303.8073653817065,
          303.43233583334273,
          303.0566220141142,
          302.68027088434616,
          302.3033275143812,
          301.92583516058704,
          301.54783533831,
          301.1693678918944,
          300.7904710618828,
          300.4111815495074,
          300.0315345785808,
          299.6515639548879,
          299.27130212317826,
          298.8907802218554,
          298.5100281354534,
          298.12907454499066,
          297.74794697628477,
          297.36667184631096,
          296.98527450768273,
          296.60377929132983,
          296.22220954744694,
          295.8405876847824,
          295.45893520833437,
          295.07727275551895,
          294.69562013087193,
          294.31399633934404,
          293.9324196182466,
          293.5509074679026,
          293.1694766810555,
          292.78814337108713,
          292.4069229990921,
          292.02583039985643,
          291.6448798067845,
          291.26408487581705,
          290.88345870838214,
          290.5030138734177,
          290.1227624285043,
          289.7427159401442,
          289.3628855032212,
          288.98328175967555,
          288.60391491642525,
          288.22479476256507,
          287.84593068587236,
          287.46733168864836,
          287.089006402922,
          286.71096310504197,
          286.33320972968266,
          285.9557538832873,
          285.57860285697143,
          285.2017636389091,
          284.82524292622224,
          284.44904713639437,
          284.07318241822674,
          283.6976546623569,
          283.32246951135687,
          282.9476323694277,
          282.5731484117076,
          282.19902259320895,
          281.82525965739904,
          281.45186414443964,
          281.0788403990986,
          280.70619257834744,
          280.3339246586568,
          279.9620404430032,
          279.5905435675974,
          279.2194375083469,
          278.8487255870625,
          278.4784109774197,
          278.10849671068456,
          277.7389856812138,
          277.3698806517381,
          277.001184258437,
          276.63289901581487,
          276.2650273213846,
          275.8975714601675,
          275.530533609017,
          275.1639158407725,
          274.79772012825066,
          274.4319483480808,
          274.0666022843903,
          273.7016836323458,
          273.337194001557,
          272.97313491934716,
          272.60950783389654,
          272.24631411726375,
          271.8835550682896,
          271.52123191538817,
          271.15934581923,
          270.797897875321,
          270.4368891164816,
          270.0763205152306,
          269.7161929860762,
          269.35650738771926,
          268.99726452517154,
          268.63846515179205
         ],
         "yaxis": "y"
        },
        {
         "hovertemplate": "variable=R_b_0.6_g_0.1<br>temps (en jours)=%{x}<br>nombre d'individu=%{y}<extra></extra>",
         "legendgroup": "R_b_0.6_g_0.1",
         "line": {
          "color": "#00cc96",
          "dash": "solid"
         },
         "marker": {
          "symbol": "circle"
         },
         "mode": "lines",
         "name": "R_b_0.6_g_0.1",
         "showlegend": true,
         "type": "scattergl",
         "x": [
          0,
          0.13377926421404682,
          0.26755852842809363,
          0.4013377926421404,
          0.5351170568561873,
          0.6688963210702341,
          0.8026755852842808,
          0.9364548494983277,
          1.0702341137123745,
          1.2040133779264213,
          1.3377926421404682,
          1.471571906354515,
          1.6053511705685617,
          1.7391304347826086,
          1.8729096989966554,
          2.0066889632107023,
          2.140468227424749,
          2.274247491638796,
          2.4080267558528425,
          2.5418060200668897,
          2.6755852842809364,
          2.809364548494983,
          2.94314381270903,
          3.0769230769230766,
          3.2107023411371234,
          3.3444816053511706,
          3.4782608695652173,
          3.612040133779264,
          3.7458193979933108,
          3.8795986622073575,
          4.013377926421405,
          4.147157190635451,
          4.280936454849498,
          4.414715719063545,
          4.548494983277592,
          4.682274247491638,
          4.816053511705685,
          4.949832775919732,
          5.083612040133779,
          5.217391304347826,
          5.351170568561873,
          5.48494983277592,
          5.618729096989966,
          5.752508361204013,
          5.88628762541806,
          6.020066889632107,
          6.153846153846153,
          6.2876254180602,
          6.421404682274247,
          6.555183946488294,
          6.688963210702341,
          6.822742474916388,
          6.956521739130435,
          7.090301003344481,
          7.224080267558528,
          7.357859531772575,
          7.4916387959866215,
          7.625418060200668,
          7.759197324414715,
          7.892976588628763,
          8.02675585284281,
          8.160535117056856,
          8.294314381270903,
          8.42809364548495,
          8.561872909698996,
          8.695652173913043,
          8.82943143812709,
          8.963210702341136,
          9.096989966555183,
          9.23076923076923,
          9.364548494983277,
          9.498327759197323,
          9.63210702341137,
          9.765886287625417,
          9.899665551839464,
          10.033444816053512,
          10.167224080267559,
          10.301003344481606,
          10.434782608695652,
          10.568561872909699,
          10.702341137123746,
          10.836120401337793,
          10.96989966555184,
          11.103678929765886,
          11.237458193979933,
          11.37123745819398,
          11.505016722408026,
          11.638795986622073,
          11.77257525083612,
          11.906354515050166,
          12.040133779264213,
          12.17391304347826,
          12.307692307692307,
          12.441471571906353,
          12.5752508361204,
          12.709030100334447,
          12.842809364548494,
          12.976588628762542,
          13.110367892976589,
          13.244147157190636,
          13.377926421404682,
          13.511705685618729,
          13.645484949832776,
          13.779264214046822,
          13.91304347826087,
          14.046822742474916,
          14.180602006688963,
          14.31438127090301,
          14.448160535117056,
          14.581939799331103,
          14.71571906354515,
          14.849498327759196,
          14.983277591973243,
          15.11705685618729,
          15.250836120401337,
          15.384615384615383,
          15.51839464882943,
          15.652173913043477,
          15.785953177257525,
          15.919732441471572,
          16.05351170568562,
          16.187290969899664,
          16.321070234113712,
          16.454849498327757,
          16.588628762541806,
          16.72240802675585,
          16.8561872909699,
          16.989966555183944,
          17.123745819397993,
          17.25752508361204,
          17.391304347826086,
          17.525083612040135,
          17.65886287625418,
          17.792642140468228,
          17.926421404682273,
          18.06020066889632,
          18.193979933110366,
          18.327759197324415,
          18.46153846153846,
          18.59531772575251,
          18.729096989966553,
          18.862876254180602,
          18.996655518394647,
          19.130434782608695,
          19.26421404682274,
          19.39799331103679,
          19.531772575250834,
          19.665551839464882,
          19.799331103678927,
          19.933110367892976,
          20.066889632107024,
          20.20066889632107,
          20.334448160535118,
          20.468227424749163,
          20.60200668896321,
          20.735785953177256,
          20.869565217391305,
          21.00334448160535,
          21.137123745819398,
          21.270903010033443,
          21.40468227424749,
          21.538461538461537,
          21.672240802675585,
          21.80602006688963,
          21.93979933110368,
          22.073578595317723,
          22.207357859531772,
          22.341137123745817,
          22.474916387959865,
          22.60869565217391,
          22.74247491638796,
          22.876254180602007,
          23.010033444816052,
          23.1438127090301,
          23.277591973244146,
          23.411371237458194,
          23.54515050167224,
          23.678929765886288,
          23.812709030100333,
          23.94648829431438,
          24.080267558528426,
          24.214046822742475,
          24.34782608695652,
          24.48160535117057,
          24.615384615384613,
          24.74916387959866,
          24.882943143812707,
          25.016722408026755,
          25.1505016722408,
          25.28428093645485,
          25.418060200668894,
          25.551839464882942,
          25.685618729096987,
          25.819397993311036,
          25.953177257525084,
          26.08695652173913,
          26.220735785953178,
          26.354515050167223,
          26.48829431438127,
          26.622073578595316,
          26.755852842809364,
          26.88963210702341,
          27.023411371237458,
          27.157190635451503,
          27.29096989966555,
          27.424749163879596,
          27.558528428093645,
          27.69230769230769,
          27.82608695652174,
          27.959866220735783,
          28.093645484949832,
          28.227424749163877,
          28.361204013377925,
          28.49498327759197,
          28.62876254180602,
          28.762541806020067,
          28.896321070234112,
          29.03010033444816,
          29.163879598662206,
          29.297658862876254,
          29.4314381270903,
          29.565217391304348,
          29.698996655518393,
          29.83277591973244,
          29.966555183946486,
          30.100334448160535,
          30.23411371237458,
          30.367892976588628,
          30.501672240802673,
          30.63545150501672,
          30.769230769230766,
          30.903010033444815,
          31.03678929765886,
          31.17056856187291,
          31.304347826086953,
          31.438127090301002,
          31.57190635451505,
          31.705685618729095,
          31.839464882943144,
          31.97324414715719,
          32.10702341137124,
          32.240802675585286,
          32.37458193979933,
          32.508361204013376,
          32.642140468227424,
          32.77591973244147,
          32.909698996655514,
          33.04347826086956,
          33.17725752508361,
          33.31103678929766,
          33.4448160535117,
          33.57859531772575,
          33.7123745819398,
          33.84615384615385,
          33.97993311036789,
          34.11371237458194,
          34.247491638795985,
          34.381270903010034,
          34.51505016722408,
          34.64882943143812,
          34.78260869565217,
          34.91638795986622,
          35.05016722408027,
          35.18394648829431,
          35.31772575250836,
          35.45150501672241,
          35.585284280936456,
          35.7190635451505,
          35.852842809364546,
          35.986622073578594,
          36.12040133779264,
          36.254180602006684,
          36.38795986622073,
          36.52173913043478,
          36.65551839464883,
          36.78929765886287,
          36.92307692307692,
          37.05685618729097,
          37.19063545150502,
          37.324414715719065,
          37.45819397993311,
          37.591973244147155,
          37.725752508361204,
          37.85953177257525,
          37.993311036789294,
          38.12709030100334,
          38.26086956521739,
          38.39464882943144,
          38.52842809364548,
          38.66220735785953,
          38.79598662207358,
          38.929765886287626,
          39.06354515050167,
          39.197324414715716,
          39.331103678929765,
          39.46488294314381,
          39.598662207357854,
          39.7324414715719,
          39.86622073578595,
          40
         ],
         "xaxis": "x",
         "y": [
          0,
          0.04013377926421404,
          0.08185680249661637,
          0.125225832294244,
          0.1702991623513959,
          0.21713661861302996,
          0.26579955663101534,
          0.3163508548190166,
          0.36885490329451553,
          0.42337758799065073,
          0.4799862697164086,
          0.5387497578414799,
          0.5997382782820587,
          0.663023435466273,
          0.7286781679630685,
          0.7967766974664989,
          0.8673944708387686,
          0.9406080949303147,
          1.01649526391394,
          1.0951346788927772,
          1.1766059595688851,
          1.2609895477907425,
          1.3483666028339714,
          1.4388188883103994,
          1.5324286506461093,
          1.6292784891194398,
          1.7294512175049104,
          1.8330297174286125,
          1.940096783604514,
          2.050734961189041,
          2.165026375562847,
          2.2830525549233265,
          2.404894246148593,
          2.530631224472616,
          2.660342097591182,
          2.794104104898451,
          2.9319929126331012,
          3.0740824057903464,
          3.220444477730387,
          3.371148818483861,
          3.52626270281948,
          3.6858507791969797,
          3.8499748607786337,
          4.018693719713665,
          4.192062885940865,
          4.370134451774554,
          4.552956883546854,
          4.740574841574227,
          4.933029009697909,
          5.130355935615769,
          5.332587883177053,
          5.539752697751534,
          5.751873685711032,
          5.968969508974594,
          6.191054095469653,
          6.418136566251149,
          6.650221179900204,
          6.887307294694823,
          7.129389348908939,
          7.376456859454664,
          7.628494438937682,
          7.885481831049347,
          8.147393964073188,
          8.414201022140148,
          8.685868533727971,
          8.962357476767586,
          9.24362439959477,
          9.529621556870483,
          9.820297059489445,
          10.11559503740485,
          10.415455814218681,
          10.71981609232251,
          11.028609147323413,
          11.341765030453965,
          11.65921077764401,
          11.980870623924972,
          12.306666221844141,
          12.636516862586122,
          12.970339698530506,
          13.308049966017832,
          13.649561207148869,
          13.994785489504034,
          14.343633622738947,
          14.696015371087544,
          15.05183966088435,
          15.411014782301317,
          15.773448584580633,
          16.13904866413207,
          16.507722544950525,
          16.879377850895526,
          17.253922469458466,
          17.631264706724767,
          18.011313433315948,
          18.39397822117039,
          18.779169471090803,
          19.16679853105081,
          19.556777805312173,
          19.949020854458112,
          20.343442486496556,
          20.73995883923024,
          21.13848745412825,
          21.538947341966097,
          21.94125904052894,
          22.34534466469518,
          22.751127949235862,
          23.158534284679238,
          23.567490746599802,
          23.97792611869748,
          24.389770910035747,
          24.80295736680753,
          25.2174194789952,
          25.63309298228613,
          26.049915355598305,
          26.467825814561877,
          26.886765301292346,
          27.306676470779752,
          27.72750367420583,
          28.149192939487996,
          28.57169194933529,
          28.994950017087316,
          29.418918060592844,
          29.843548574370274,
          30.268795600277773,
          30.6946146969066,
          31.12096290789703,
          31.547798729362576,
          31.975082076594806,
          32.40277425020811,
          32.830837901871256,
          33.259236999760624,
          33.68793679385858,
          34.11690378120944,
          34.54610567123522,
          34.97551135120365,
          35.40509085193144,
          35.834815313797364,
          36.2646569531315,
          36.694589029039356,
          37.12458581071248,
          37.55462254527072,
          37.984675426174945,
          38.414721562243756,
          38.844738947302055,
          39.274706430485,
          39.704603687216164,
          40.13441119087493,
          40.56411018516428,
          40.99368265718711,
          41.423111311235786,
          41.85237954329743,
          42.28147141627452,
          42.71037163591852,
          43.13906552747217,
          43.56753901301435,
          43.99577858949987,
          44.423771307485346,
          44.85150475053087,
          45.278967015266524,
          45.70614669211157,
          46.133032846633675,
          46.55961500153484,
          46.98588311925005,
          47.41182758514454,
          47.837439191295026,
          48.26270912084004,
          48.68762893288458,
          49.112190547943825,
          49.53638623391101,
          49.96020859253426,
          50.38365054638744,
          50.80670532632023,
          51.22936645937244,
          51.65162775713835,
          52.07348330456636,
          52.4949274491801,
          52.915954790707005,
          53.33656017110068,
          53.756738664943924,
          54.17648557021918,
          54.59579639943375,
          55.01466687108745,
          55.43309290147039,
          55.85107059677932,
          56.26859624554094,
          56.685666311331026,
          57.10227742577867,
          57.51842638184498,
          57.93411012736623,
          58.34932575885142,
          58.764070515524864,
          59.178341773604416,
          59.592137040806534,
          60.00545395106939,
          60.41829025948582,
          60.83064383743793,
          61.242512667925645,
          61.653894841081645,
          62.06478854986545,
          62.47519208592969,
          62.885103835651776,
          63.29452227632448,
          63.70344597249923,
          64.11187357247603,
          64.51980380493418,
          64.92723547569835,
          65.33416746463442,
          65.74059872267014,
          66.14652826893548,
          66.55195518801791,
          66.95687862732808,
          67.3612977945714,
          67.76521195532135,
          68.16862043069032,
          68.5715225950942,
          68.97391787410675,
          69.3758057424004,
          69.77718572176974,
          70.17805737923447,
          70.57842032521866,
          70.97827421180308,
          71.37761873104783,
          71.77645361338227,
          72.17477862605958,
          72.57259357167337,
          72.96989828673381,
          73.36669264030081,
          73.76297653267198,
          74.1587498941232,
          74.55401268369957,
          74.94876488805478,
          75.34300652033689,
          75.73673761911861,
          76.12995824737045,
          76.52266849147468,
          76.91486846027877,
          77.30655828418658,
          77.6977381142857,
          78.08840812150959,
          78.47856849583304,
          78.86821944549969,
          79.25736119628013,
          79.64599399075962,
          80.03411808765394,
          80.42173376115245,
          80.8088413002872,
          81.1954410083269,
          81.58153320219502,
          81.96711821191083,
          82.35219638005246,
          82.73676806124129,
          83.12083362164654,
          83.50439343850947,
          83.8874478996863,
          84.26999740320909,
          84.6520423568639,
          85.03358317778552,
          85.4146202920681,
          85.79515413439103,
          86.17518514765956,
          86.55471378265938,
          86.93374049772474,
          87.31226575841963,
          87.69029003723128,
          88.0678138132757,
          88.4448375720147,
          88.82136180498385,
          89.19738700953114,
          89.57291368856572,
          89.94794235031642,
          90.3224735080997,
          90.69650768009649,
          91.07004538913776,
          91.44308716249837,
          91.81563353169894,
          92.18768503231523,
          92.55924220379511,
          92.93030558928238,
          93.30087573544752,
          93.67095319232486,
          94.04053851315614,
          94.40963225423997,
          94.77823497478714,
          95.14634723678148,
          95.51396960484603,
          95.88110264611436,
          96.24774693010686,
          96.61390302861167,
          96.97957151557029,
          97.3447529669674,
          97.70944796072513,
          98.07365707660107,
          98.43738089609042,
          98.80062000233174,
          99.16337498001633,
          99.52564641530104,
          99.88743489572443,
          100.24874101012607,
          100.60956534856898,
          100.96990850226493,
          101.32977106350262
         ],
         "yaxis": "y"
        },
        {
         "hovertemplate": "variable=S_b_0.9_0.3<br>temps (en jours)=%{x}<br>nombre d'individu=%{y}<extra></extra>",
         "legendgroup": "S_b_0.9_0.3",
         "line": {
          "color": "#ab63fa",
          "dash": "solid"
         },
         "marker": {
          "symbol": "circle"
         },
         "mode": "lines",
         "name": "S_b_0.9_0.3",
         "showlegend": true,
         "type": "scattergl",
         "x": [
          0,
          0.13377926421404682,
          0.26755852842809363,
          0.4013377926421404,
          0.5351170568561873,
          0.6688963210702341,
          0.8026755852842808,
          0.9364548494983277,
          1.0702341137123745,
          1.2040133779264213,
          1.3377926421404682,
          1.471571906354515,
          1.6053511705685617,
          1.7391304347826086,
          1.8729096989966554,
          2.0066889632107023,
          2.140468227424749,
          2.274247491638796,
          2.4080267558528425,
          2.5418060200668897,
          2.6755852842809364,
          2.809364548494983,
          2.94314381270903,
          3.0769230769230766,
          3.2107023411371234,
          3.3444816053511706,
          3.4782608695652173,
          3.612040133779264,
          3.7458193979933108,
          3.8795986622073575,
          4.013377926421405,
          4.147157190635451,
          4.280936454849498,
          4.414715719063545,
          4.548494983277592,
          4.682274247491638,
          4.816053511705685,
          4.949832775919732,
          5.083612040133779,
          5.217391304347826,
          5.351170568561873,
          5.48494983277592,
          5.618729096989966,
          5.752508361204013,
          5.88628762541806,
          6.020066889632107,
          6.153846153846153,
          6.2876254180602,
          6.421404682274247,
          6.555183946488294,
          6.688963210702341,
          6.822742474916388,
          6.956521739130435,
          7.090301003344481,
          7.224080267558528,
          7.357859531772575,
          7.4916387959866215,
          7.625418060200668,
          7.759197324414715,
          7.892976588628763,
          8.02675585284281,
          8.160535117056856,
          8.294314381270903,
          8.42809364548495,
          8.561872909698996,
          8.695652173913043,
          8.82943143812709,
          8.963210702341136,
          9.096989966555183,
          9.23076923076923,
          9.364548494983277,
          9.498327759197323,
          9.63210702341137,
          9.765886287625417,
          9.899665551839464,
          10.033444816053512,
          10.167224080267559,
          10.301003344481606,
          10.434782608695652,
          10.568561872909699,
          10.702341137123746,
          10.836120401337793,
          10.96989966555184,
          11.103678929765886,
          11.237458193979933,
          11.37123745819398,
          11.505016722408026,
          11.638795986622073,
          11.77257525083612,
          11.906354515050166,
          12.040133779264213,
          12.17391304347826,
          12.307692307692307,
          12.441471571906353,
          12.5752508361204,
          12.709030100334447,
          12.842809364548494,
          12.976588628762542,
          13.110367892976589,
          13.244147157190636,
          13.377926421404682,
          13.511705685618729,
          13.645484949832776,
          13.779264214046822,
          13.91304347826087,
          14.046822742474916,
          14.180602006688963,
          14.31438127090301,
          14.448160535117056,
          14.581939799331103,
          14.71571906354515,
          14.849498327759196,
          14.983277591973243,
          15.11705685618729,
          15.250836120401337,
          15.384615384615383,
          15.51839464882943,
          15.652173913043477,
          15.785953177257525,
          15.919732441471572,
          16.05351170568562,
          16.187290969899664,
          16.321070234113712,
          16.454849498327757,
          16.588628762541806,
          16.72240802675585,
          16.8561872909699,
          16.989966555183944,
          17.123745819397993,
          17.25752508361204,
          17.391304347826086,
          17.525083612040135,
          17.65886287625418,
          17.792642140468228,
          17.926421404682273,
          18.06020066889632,
          18.193979933110366,
          18.327759197324415,
          18.46153846153846,
          18.59531772575251,
          18.729096989966553,
          18.862876254180602,
          18.996655518394647,
          19.130434782608695,
          19.26421404682274,
          19.39799331103679,
          19.531772575250834,
          19.665551839464882,
          19.799331103678927,
          19.933110367892976,
          20.066889632107024,
          20.20066889632107,
          20.334448160535118,
          20.468227424749163,
          20.60200668896321,
          20.735785953177256,
          20.869565217391305,
          21.00334448160535,
          21.137123745819398,
          21.270903010033443,
          21.40468227424749,
          21.538461538461537,
          21.672240802675585,
          21.80602006688963,
          21.93979933110368,
          22.073578595317723,
          22.207357859531772,
          22.341137123745817,
          22.474916387959865,
          22.60869565217391,
          22.74247491638796,
          22.876254180602007,
          23.010033444816052,
          23.1438127090301,
          23.277591973244146,
          23.411371237458194,
          23.54515050167224,
          23.678929765886288,
          23.812709030100333,
          23.94648829431438,
          24.080267558528426,
          24.214046822742475,
          24.34782608695652,
          24.48160535117057,
          24.615384615384613,
          24.74916387959866,
          24.882943143812707,
          25.016722408026755,
          25.1505016722408,
          25.28428093645485,
          25.418060200668894,
          25.551839464882942,
          25.685618729096987,
          25.819397993311036,
          25.953177257525084,
          26.08695652173913,
          26.220735785953178,
          26.354515050167223,
          26.48829431438127,
          26.622073578595316,
          26.755852842809364,
          26.88963210702341,
          27.023411371237458,
          27.157190635451503,
          27.29096989966555,
          27.424749163879596,
          27.558528428093645,
          27.69230769230769,
          27.82608695652174,
          27.959866220735783,
          28.093645484949832,
          28.227424749163877,
          28.361204013377925,
          28.49498327759197,
          28.62876254180602,
          28.762541806020067,
          28.896321070234112,
          29.03010033444816,
          29.163879598662206,
          29.297658862876254,
          29.4314381270903,
          29.565217391304348,
          29.698996655518393,
          29.83277591973244,
          29.966555183946486,
          30.100334448160535,
          30.23411371237458,
          30.367892976588628,
          30.501672240802673,
          30.63545150501672,
          30.769230769230766,
          30.903010033444815,
          31.03678929765886,
          31.17056856187291,
          31.304347826086953,
          31.438127090301002,
          31.57190635451505,
          31.705685618729095,
          31.839464882943144,
          31.97324414715719,
          32.10702341137124,
          32.240802675585286,
          32.37458193979933,
          32.508361204013376,
          32.642140468227424,
          32.77591973244147,
          32.909698996655514,
          33.04347826086956,
          33.17725752508361,
          33.31103678929766,
          33.4448160535117,
          33.57859531772575,
          33.7123745819398,
          33.84615384615385,
          33.97993311036789,
          34.11371237458194,
          34.247491638795985,
          34.381270903010034,
          34.51505016722408,
          34.64882943143812,
          34.78260869565217,
          34.91638795986622,
          35.05016722408027,
          35.18394648829431,
          35.31772575250836,
          35.45150501672241,
          35.585284280936456,
          35.7190635451505,
          35.852842809364546,
          35.986622073578594,
          36.12040133779264,
          36.254180602006684,
          36.38795986622073,
          36.52173913043478,
          36.65551839464883,
          36.78929765886287,
          36.92307692307692,
          37.05685618729097,
          37.19063545150502,
          37.324414715719065,
          37.45819397993311,
          37.591973244147155,
          37.725752508361204,
          37.85953177257525,
          37.993311036789294,
          38.12709030100334,
          38.26086956521739,
          38.39464882943144,
          38.52842809364548,
          38.66220735785953,
          38.79598662207358,
          38.929765886287626,
          39.06354515050167,
          39.197324414715716,
          39.331103678929765,
          39.46488294314381,
          39.598662207357854,
          39.7324414715719,
          39.86622073578595,
          40
         ],
         "xaxis": "x",
         "y": [
          340,
          338.2260869565217,
          336.3759700961617,
          334.44743360828164,
          332.43830259166083,
          330.3464556644044,
          328.1698384736777,
          325.90647808471834,
          323.5544982149136,
          321.11213526358716,
          318.577755071575,
          315.949870326804,
          313.22715851308186,
          310.4084802793945,
          307.49289808647546,
          304.47969496662324,
          301.3683932121185,
          298.15877278763224,
          294.85088924326647,
          291.44509088794365,
          287.94203496840623,
          284.34270258777934,
          280.6484120901731,
          276.8608306348188,
          272.9819836853692,
          269.01426214779974,
          264.96042690426873,
          260.8236105106469,
          256.6073158523601,
          252.31541158666158,
          247.9521242392162,
          243.52202686845482,
          239.03002426183937,
          234.48133468302623,
          229.88146824677506,
          225.2362020579837,
          220.55155231094162,
          215.83374360319252,
          211.08917577363383,
          206.3243886250317,
          201.54602493544238,
          196.7607921997037,
          191.9754235699968,
          187.19663848254456,
          182.43110346518282,
          177.6853936175196,
          172.96595524175112,
          168.27907007833946,
          163.63082156742388,
          159.0270635150813,
          154.47339149467194,
          149.9751172590035,
          145.53724638055056,
          141.16445927617292,
          136.8610957113786,
          132.63114281879996,
          128.47822660769276,
          124.40560688725559,
          120.41617547751396,
          116.51245753830011,
          112.69661581011685,
          108.97045753078366,
          105.33544376886839,
          101.79270089893154,
          98.34303393427976,
          94.98694142980568,
          91.7246316700188,
          88.55603986488495,
          85.4808460878716,
          82.49849370589023,
          79.60820806888694,
          76.80901524692757,
          74.09976062407179,
          71.47912718050316,
          68.9456533167229,
          66.4977500956403,
          64.13371779969808,
          61.85176172042989,
          59.65000711680681,
          57.5265132962059,
          55.479286787708936,
          53.506293591646575,
          51.60547050182752,
          49.77473550775727,
          48.01199729341213,
          46.31516385687367,
          44.682150281446,
          43.11088569388644,
          41.59931944919934,
          40.145426584197516,
          38.74721258384911,
          37.402717505420775,
          36.11001950571588,
          34.867237816398266,
          33.672535211587416,
          32.52412001070305,
          31.420247658007806,
          30.359221918520554,
          29.33939572801505,
          28.359171732735266,
          27.417002552299095,
          26.511390797067172,
          25.640888869057846,
          24.804098573321387,
          23.99967056456902,
          23.226303651803647,
          22.48274398173281,
          21.767784119870715,
          21.08026204646217,
          20.41906008269121,
          19.78310376107328,
          19.171360652472405,
          18.582839160832528,
          18.01658729546289,
          17.471691429567535,
          16.947275052654835,
          16.442497523499874,
          15.956552829455658,
          15.48866835711347,
          15.038103678593101,
          14.604149357095006,
          14.186125774763545,
          13.783381985388507,
          13.395294594006167,
          13.021266665046697,
          12.660726660307468,
          12.313127407707439,
          11.977945101492677,
          11.654678334313296,
          11.342847161374522,
          11.041992196675967,
          10.751673741190574,
          10.47147094269554,
          10.200980986849249,
          9.939818319008715,
          9.687613896199075,
          9.444014468578528,
          9.208681889687046,
          8.981292454723599,
          8.761536266063237,
          8.549116625200853,
          8.343749450291654,
          8.145162718448347,
          7.953095931950854,
          7.76729960752516,
          7.587534787853048,
          7.413572574483178,
          7.245193681325832,
          7.082188007928024,
          6.924354231742166,
          6.771499418619712,
          6.62343865078078,
          6.479994671531413,
          6.340997546021572,
          6.206284337358964,
          6.075698797416201,
          5.949091071691305,
          5.82631741760421,
          5.707239935634403,
          5.591726312727141,
          5.4796495774177405,
          5.370887866145066,
          5.265324200246561,
          5.162846273147965,
          5.063346247281024,
          4.966720560282242,
          4.87286974004478,
          4.781698228214136,
          4.693114211736147,
          4.607029462083138,
          4.523359181800719,
          4.442021858033818,
          4.36293912270598,
          4.28603561904083,
          4.211238874128866,
          4.138479177256455,
          4.0676894637270165,
          3.998805203916954,
          3.9317642973209543,
          3.866506971352766,
          3.802975684678607,
          3.7411150348708624,
          3.680871670179794,
          3.6221942052305893,
          3.5650331404622313,
          3.5093407851334226,
          3.455071183729129,
          3.4021800456092643,
          3.350624677748609,
          3.3003639204242847,
          3.251358085713979,
          3.2035688986746758,
          3.1569594410778734,
          3.1114940975832366,
          3.0671385042382613,
          3.02385949919693,
          2.9816250755554545,
          2.9404043362080854,
          2.9001674506305926,
          2.8608856135034566,
          2.8225310050909918,
          2.7850767532966314,
          2.7484968973183954,
          2.7127663528321855,
          2.677860878633984,
          2.6437570446753123,
          2.610432201429403,
          2.577864450528515,
          2.546032616615626,
          2.514916220356411,
          2.484495452559972,
          2.454751149359202,
          2.4256647684039634,
          2.3972183660224684,
          2.369394575308315,
          2.3421765850926333,
          2.315548119762673,
          2.28949341988996,
          2.2639972236328663,
          2.2390447488800476,
          2.214621676102767,
          2.1907141318855827,
          2.1673086731062874,
          2.1443922717373116,
          2.1219523002420817,
          2.0999765175410277,
          2.078453055523083,
          2.057370406079621,
          2.036717408638811,
          2.016483238179372,
          1.996657393703645,
          1.9772296871508157,
          1.9581902327319607,
          1.939529436669426,
          1.9212379873238152,
          1.9033068456926092,
          1.8857272362651483,
          1.8684906382193804,
          1.8515887769464245,
          1.835013615889605,
          1.8187573486852056,
          1.8028123915927399,
          1.787171376203075,
          1.7718271424132426,
          1.7567727316572626,
          1.7420013803827608,
          1.7275065137636052,
          1.7132817396392004,
          1.6993208426714863,
          1.6856177787110638,
          1.6721666693642379,
          1.6589617967531172,
          1.6459975984612396,
          1.6332686626575126,
          1.6207697233915588,
          1.6084956560538486,
          1.596441472994278,
          1.58460231929311,
          1.5729734686784587,
          1.5615503195847278,
          1.5503283913466508,
          1.5393033205238,
          1.5284708573506411,
          1.5178268623074116,
          1.5073673028072936,
          1.4970882499955387,
          1.486985875656374,
          1.4770564492236908,
          1.4672963348916752,
          1.4577019888216993,
          1.4482699564419326,
          1.4389968698362792,
          1.4298794452193808,
          1.4209144804945535,
          1.4120988528916503,
          1.4034295166819621,
          1.3949035009673816,
          1.3865179075411624,
          1.378269908817713,
          1.3701567458289619,
          1.3621757262849272,
          1.354324222696218,
          1.3465996705562755,
          1.3389995665812555,
          1.331521467005527,
          1.324162985930844,
          1.316921793727315,
          1.3097956154843788,
          1.3027822295100453,
          1.2958794658767419,
          1.2890852050121595,
          1.2823973763335557,
          1.275813956924028,
          1.2693329702493306,
          1.2629524849138527,
          1.2566706134544383,
          1.2504855111707662,
          1.2443953749910632,
          1.2383984423719645,
          1.2324929902313815
         ],
         "yaxis": "y"
        },
        {
         "hovertemplate": "variable=I_b_0.9_0.3<br>temps (en jours)=%{x}<br>nombre d'individu=%{y}<extra></extra>",
         "legendgroup": "I_b_0.9_0.3",
         "line": {
          "color": "#FFA15A",
          "dash": "solid"
         },
         "marker": {
          "symbol": "circle"
         },
         "mode": "lines",
         "name": "I_b_0.9_0.3",
         "showlegend": true,
         "type": "scattergl",
         "x": [
          0,
          0.13377926421404682,
          0.26755852842809363,
          0.4013377926421404,
          0.5351170568561873,
          0.6688963210702341,
          0.8026755852842808,
          0.9364548494983277,
          1.0702341137123745,
          1.2040133779264213,
          1.3377926421404682,
          1.471571906354515,
          1.6053511705685617,
          1.7391304347826086,
          1.8729096989966554,
          2.0066889632107023,
          2.140468227424749,
          2.274247491638796,
          2.4080267558528425,
          2.5418060200668897,
          2.6755852842809364,
          2.809364548494983,
          2.94314381270903,
          3.0769230769230766,
          3.2107023411371234,
          3.3444816053511706,
          3.4782608695652173,
          3.612040133779264,
          3.7458193979933108,
          3.8795986622073575,
          4.013377926421405,
          4.147157190635451,
          4.280936454849498,
          4.414715719063545,
          4.548494983277592,
          4.682274247491638,
          4.816053511705685,
          4.949832775919732,
          5.083612040133779,
          5.217391304347826,
          5.351170568561873,
          5.48494983277592,
          5.618729096989966,
          5.752508361204013,
          5.88628762541806,
          6.020066889632107,
          6.153846153846153,
          6.2876254180602,
          6.421404682274247,
          6.555183946488294,
          6.688963210702341,
          6.822742474916388,
          6.956521739130435,
          7.090301003344481,
          7.224080267558528,
          7.357859531772575,
          7.4916387959866215,
          7.625418060200668,
          7.759197324414715,
          7.892976588628763,
          8.02675585284281,
          8.160535117056856,
          8.294314381270903,
          8.42809364548495,
          8.561872909698996,
          8.695652173913043,
          8.82943143812709,
          8.963210702341136,
          9.096989966555183,
          9.23076923076923,
          9.364548494983277,
          9.498327759197323,
          9.63210702341137,
          9.765886287625417,
          9.899665551839464,
          10.033444816053512,
          10.167224080267559,
          10.301003344481606,
          10.434782608695652,
          10.568561872909699,
          10.702341137123746,
          10.836120401337793,
          10.96989966555184,
          11.103678929765886,
          11.237458193979933,
          11.37123745819398,
          11.505016722408026,
          11.638795986622073,
          11.77257525083612,
          11.906354515050166,
          12.040133779264213,
          12.17391304347826,
          12.307692307692307,
          12.441471571906353,
          12.5752508361204,
          12.709030100334447,
          12.842809364548494,
          12.976588628762542,
          13.110367892976589,
          13.244147157190636,
          13.377926421404682,
          13.511705685618729,
          13.645484949832776,
          13.779264214046822,
          13.91304347826087,
          14.046822742474916,
          14.180602006688963,
          14.31438127090301,
          14.448160535117056,
          14.581939799331103,
          14.71571906354515,
          14.849498327759196,
          14.983277591973243,
          15.11705685618729,
          15.250836120401337,
          15.384615384615383,
          15.51839464882943,
          15.652173913043477,
          15.785953177257525,
          15.919732441471572,
          16.05351170568562,
          16.187290969899664,
          16.321070234113712,
          16.454849498327757,
          16.588628762541806,
          16.72240802675585,
          16.8561872909699,
          16.989966555183944,
          17.123745819397993,
          17.25752508361204,
          17.391304347826086,
          17.525083612040135,
          17.65886287625418,
          17.792642140468228,
          17.926421404682273,
          18.06020066889632,
          18.193979933110366,
          18.327759197324415,
          18.46153846153846,
          18.59531772575251,
          18.729096989966553,
          18.862876254180602,
          18.996655518394647,
          19.130434782608695,
          19.26421404682274,
          19.39799331103679,
          19.531772575250834,
          19.665551839464882,
          19.799331103678927,
          19.933110367892976,
          20.066889632107024,
          20.20066889632107,
          20.334448160535118,
          20.468227424749163,
          20.60200668896321,
          20.735785953177256,
          20.869565217391305,
          21.00334448160535,
          21.137123745819398,
          21.270903010033443,
          21.40468227424749,
          21.538461538461537,
          21.672240802675585,
          21.80602006688963,
          21.93979933110368,
          22.073578595317723,
          22.207357859531772,
          22.341137123745817,
          22.474916387959865,
          22.60869565217391,
          22.74247491638796,
          22.876254180602007,
          23.010033444816052,
          23.1438127090301,
          23.277591973244146,
          23.411371237458194,
          23.54515050167224,
          23.678929765886288,
          23.812709030100333,
          23.94648829431438,
          24.080267558528426,
          24.214046822742475,
          24.34782608695652,
          24.48160535117057,
          24.615384615384613,
          24.74916387959866,
          24.882943143812707,
          25.016722408026755,
          25.1505016722408,
          25.28428093645485,
          25.418060200668894,
          25.551839464882942,
          25.685618729096987,
          25.819397993311036,
          25.953177257525084,
          26.08695652173913,
          26.220735785953178,
          26.354515050167223,
          26.48829431438127,
          26.622073578595316,
          26.755852842809364,
          26.88963210702341,
          27.023411371237458,
          27.157190635451503,
          27.29096989966555,
          27.424749163879596,
          27.558528428093645,
          27.69230769230769,
          27.82608695652174,
          27.959866220735783,
          28.093645484949832,
          28.227424749163877,
          28.361204013377925,
          28.49498327759197,
          28.62876254180602,
          28.762541806020067,
          28.896321070234112,
          29.03010033444816,
          29.163879598662206,
          29.297658862876254,
          29.4314381270903,
          29.565217391304348,
          29.698996655518393,
          29.83277591973244,
          29.966555183946486,
          30.100334448160535,
          30.23411371237458,
          30.367892976588628,
          30.501672240802673,
          30.63545150501672,
          30.769230769230766,
          30.903010033444815,
          31.03678929765886,
          31.17056856187291,
          31.304347826086953,
          31.438127090301002,
          31.57190635451505,
          31.705685618729095,
          31.839464882943144,
          31.97324414715719,
          32.10702341137124,
          32.240802675585286,
          32.37458193979933,
          32.508361204013376,
          32.642140468227424,
          32.77591973244147,
          32.909698996655514,
          33.04347826086956,
          33.17725752508361,
          33.31103678929766,
          33.4448160535117,
          33.57859531772575,
          33.7123745819398,
          33.84615384615385,
          33.97993311036789,
          34.11371237458194,
          34.247491638795985,
          34.381270903010034,
          34.51505016722408,
          34.64882943143812,
          34.78260869565217,
          34.91638795986622,
          35.05016722408027,
          35.18394648829431,
          35.31772575250836,
          35.45150501672241,
          35.585284280936456,
          35.7190635451505,
          35.852842809364546,
          35.986622073578594,
          36.12040133779264,
          36.254180602006684,
          36.38795986622073,
          36.52173913043478,
          36.65551839464883,
          36.78929765886287,
          36.92307692307692,
          37.05685618729097,
          37.19063545150502,
          37.324414715719065,
          37.45819397993311,
          37.591973244147155,
          37.725752508361204,
          37.85953177257525,
          37.993311036789294,
          38.12709030100334,
          38.26086956521739,
          38.39464882943144,
          38.52842809364548,
          38.66220735785953,
          38.79598662207358,
          38.929765886287626,
          39.06354515050167,
          39.197324414715716,
          39.331103678929765,
          39.46488294314381,
          39.598662207357854,
          39.7324414715719,
          39.86622073578595,
          40
         ],
         "xaxis": "x",
         "y": [
          30,
          31.452842809364547,
          32.96634061624639,
          34.54206008080877,
          36.18151018686572,
          37.88613024924601,
          39.65727714967975,
          41.49621183001376,
          43.40408508491534,
          45.381922710918296,
          47.43061008461965,
          49.550876259923164,
          51.74327769226819,
          54.00818171654,
          56.345749924532875,
          58.75592160706571,
          61.23839744470552,
          63.792623649047776,
          66.41777677308933,
          69.1127494238172,
          71.87613712209637,
          74.7062265636239,
          77.60098553947897,
          80.55805477501276,
          83.5747419409171,
          86.64801807978778,
          89.77451667497323,
          92.95053556571905,
          96.17204188350318,
          99.4346801491107,
          102.73378362873952,
          106.06438900079867,
          109.42125433382697,
          112.7988803211075,
          116.19153466027659,
          119.59327940788775,
          122.99800108099925,
          126.39944322199517,
          129.79124109064955,
          133.16695810048887,
          136.52012357629368,
          139.84427137743657,
          143.13297890878965,
          146.3799060279873,
          149.5788333554174,
          152.72369950161794,
          155.80863674559654,
          158.82800472644664,
          161.77642174865107,
          164.6487933474964,
          167.44033781368506,
          170.1466084339562,
          172.7635122656243,
          175.2873253256876,
          177.7147041378324,
          180.04269364164495,
          182.2687315261526,
          184.39064910316608,
          186.40666888370995,
          188.31539906229548,
          190.11582514834046,
          191.80729901137036,
          193.38952562667566,
          194.8625478210093,
          196.22672932403154,
          197.4827364310578,
          198.6315185768668,
          199.67428810960607,
          200.61249953895808,
          201.44782851450245,
          202.18215076941073,
          202.81752124199846,
          203.35615356393652,
          203.8004000797306,
          204.15273253797528,
          204.41572357136047,
          204.59202905985,
          204.68437145018333,
          204.6955240851088,
          204.62829657770854,
          204.48552124992233,
          204.27004063996546,
          203.98469607076146,
          203.6323172607299,
          203.2157129492077,
          202.73766250133994,
          202.2009084513352,
          201.60814993841225,
          200.96203698643407,
          200.2651655759958,
          199.52007345646734,
          198.72923664506058,
          197.89506656026984,
          197.01990773790564,
          196.1060360793008,
          195.15565758301537,
          194.17090751341746,
          193.15384996179122,
          192.10647775805683,
          191.0307126937186,
          189.92840601923874,
          188.8013391816226,
          187.6512247705644,
          186.4797076440072,
          185.2883662064023,
          184.07871381528642,
          182.85220029402308,
          181.61021353066485,
          180.35408114488234,
          179.08507220676827,
          177.80439899306293,
          176.5132187679588,
          175.21263557713223,
          173.90370204502085,
          172.58742116662168,
          171.26474808623274,
          169.93659185660528,
          168.60381717291995,
          167.2672460768563,
          165.92765962679493,
          164.58579953088253,
          163.24236974030822,
          161.89803800068998,
          160.5534373599579,
          159.20916763155327,
          157.8657968121421,
          156.5238624533747,
          155.1838729875132,
          153.84630900700014,
          152.51162449825864,
          151.18024803019992,
          149.85258389807115,
          148.52901322340958,
          147.20989501097858,
          145.89556716365146,
          144.58634745628154,
          143.28253446965425,
          141.9844084856598,
          140.692232344857,
          139.4062522676192,
          138.1266986400656,
          136.85378676598413,
          135.58771758595068,
          134.32867836483933,
          133.07684334890556,
          131.8323743936061,
          130.59542156329857,
          129.36612370393902,
          128.14460898986994,
          126.93099544576287,
          125.72539144475007,
          124.52789618374887,
          123.33860013695143,
          122.15758548842032,
          120.9849265446985,
          119.82069012831003,
          118.66493595299616,
          117.51771698149935,
          116.3790797666772,
          115.24906477669694,
          114.12770670503166,
          113.01503476594948,
          111.91107297615889,
          110.81584042324508,
          109.72935152150538,
          108.65161625576565,
          107.58264041373404,
          106.52242580742438,
          105.47097048415736,
          104.42826892762541,
          103.39431224948508,
          102.3690883719197,
          101.35258220159488,
          100.34477579541019,
          99.34564851843147,
          98.35517719437084,
          97.37333624896387,
          96.40009784657767,
          95.43543202036749,
          94.47930679628492,
          93.53168831122626,
          92.59254092559614,
          91.66182733054839,
          90.73950865015394,
          89.82554453873335,
          88.91989327358074,
          88.02251184329454,
          87.13335603192095,
          86.25238049910553,
          85.37953885643942,
          84.5147837401778,
          83.65806688049949,
          82.80933916746888,
          81.96855071385347,
          81.13565091494316,
          80.31058850551018,
          79.49331161404253,
          78.68376781437674,
          77.88190417485053,
          77.08766730508964,
          76.30100340053794,
          75.5218582848349,
          74.75017745013932,
          73.9859060954936,
          73.22898916331863,
          72.47937137412472,
          71.73699725952046,
          71.00181119359705,
          70.27375742276242,
          69.55278009409575,
          68.83882328228982,
          68.13183101524535,
          67.43174729837857,
          66.73851613770049,
          66.05208156172353,
          65.37238764224853,
          64.69937851408285,
          64.03299839373796,
          63.37319159715237,
          62.71990255648416,
          62.07307583601479,
          61.43265614720439,
          60.798588362936684,
          60.17081753098995,
          59.5492888867689,
          58.93394786533062,
          58.324740112736336,
          57.72161149675921,
          57.124508116977175,
          56.53337631427833,
          55.94816267980526,
          55.368814063363516,
          54.79527758131828,
          54.22750062400216,
          53.66543086265611,
          53.10901625592444,
          52.55820505592394,
          52.01294581390631,
          51.473187385532114,
          50.93887893577387,
          50.40996994346497,
          49.88641020551032,
          49.36814984077412,
          48.85513929365935,
          48.347329337392885,
          47.84467107702974,
          47.34711595218904,
          46.85461573953417,
          46.36712255500854,
          45.88458885583844,
          45.406967442313416,
          44.93421145935463,
          44.46627439788084,
          44.00311009598149,
          43.544672739905835,
          43.09091686487666,
          42.641797355736884,
          42.19726944743685,
          41.757288725369904,
          41.32181112556336,
          40.89079293473186,
          40.46419079019972,
          40.0419616796985,
          39.62406294104596,
          39.21045226171214,
          38.80108767827815,
          38.39592757579293,
          37.99493068703318,
          37.5980560916712,
          37.205263215355394,
          36.816511828707945,
          36.43176204624381,
          36.05097432521529,
          35.67410946438598,
          35.301128602737926,
          34.931993218115636,
          34.56666512581025,
          34.205106477087334,
          33.847279757661354,
          33.49314778611995,
          33.14267371230083,
          32.79582101562411,
          32.45255350338279,
          32.112835308993844,
          31.77663089021245,
          31.443905027311615,
          31.114622821229535,
          30.788749691686736,
          30.466251375275125,
          30.147093923520867,
          29.831243700923018,
          29.51866738296967,
          29.20933195413337,
          28.90320470584744,
          28.60025323446482,
          28.300445439200864,
          28.00374952006165,
          27.71013397575909,
          27.41956760161421,
          27.13201948744989
         ],
         "yaxis": "y"
        },
        {
         "hovertemplate": "variable=R_b_0.9_0.3<br>temps (en jours)=%{x}<br>nombre d'individu=%{y}<extra></extra>",
         "legendgroup": "R_b_0.9_0.3",
         "line": {
          "color": "#19d3f3",
          "dash": "solid"
         },
         "marker": {
          "symbol": "circle"
         },
         "mode": "lines",
         "name": "R_b_0.9_0.3",
         "showlegend": true,
         "type": "scattergl",
         "x": [
          0,
          0.13377926421404682,
          0.26755852842809363,
          0.4013377926421404,
          0.5351170568561873,
          0.6688963210702341,
          0.8026755852842808,
          0.9364548494983277,
          1.0702341137123745,
          1.2040133779264213,
          1.3377926421404682,
          1.471571906354515,
          1.6053511705685617,
          1.7391304347826086,
          1.8729096989966554,
          2.0066889632107023,
          2.140468227424749,
          2.274247491638796,
          2.4080267558528425,
          2.5418060200668897,
          2.6755852842809364,
          2.809364548494983,
          2.94314381270903,
          3.0769230769230766,
          3.2107023411371234,
          3.3444816053511706,
          3.4782608695652173,
          3.612040133779264,
          3.7458193979933108,
          3.8795986622073575,
          4.013377926421405,
          4.147157190635451,
          4.280936454849498,
          4.414715719063545,
          4.548494983277592,
          4.682274247491638,
          4.816053511705685,
          4.949832775919732,
          5.083612040133779,
          5.217391304347826,
          5.351170568561873,
          5.48494983277592,
          5.618729096989966,
          5.752508361204013,
          5.88628762541806,
          6.020066889632107,
          6.153846153846153,
          6.2876254180602,
          6.421404682274247,
          6.555183946488294,
          6.688963210702341,
          6.822742474916388,
          6.956521739130435,
          7.090301003344481,
          7.224080267558528,
          7.357859531772575,
          7.4916387959866215,
          7.625418060200668,
          7.759197324414715,
          7.892976588628763,
          8.02675585284281,
          8.160535117056856,
          8.294314381270903,
          8.42809364548495,
          8.561872909698996,
          8.695652173913043,
          8.82943143812709,
          8.963210702341136,
          9.096989966555183,
          9.23076923076923,
          9.364548494983277,
          9.498327759197323,
          9.63210702341137,
          9.765886287625417,
          9.899665551839464,
          10.033444816053512,
          10.167224080267559,
          10.301003344481606,
          10.434782608695652,
          10.568561872909699,
          10.702341137123746,
          10.836120401337793,
          10.96989966555184,
          11.103678929765886,
          11.237458193979933,
          11.37123745819398,
          11.505016722408026,
          11.638795986622073,
          11.77257525083612,
          11.906354515050166,
          12.040133779264213,
          12.17391304347826,
          12.307692307692307,
          12.441471571906353,
          12.5752508361204,
          12.709030100334447,
          12.842809364548494,
          12.976588628762542,
          13.110367892976589,
          13.244147157190636,
          13.377926421404682,
          13.511705685618729,
          13.645484949832776,
          13.779264214046822,
          13.91304347826087,
          14.046822742474916,
          14.180602006688963,
          14.31438127090301,
          14.448160535117056,
          14.581939799331103,
          14.71571906354515,
          14.849498327759196,
          14.983277591973243,
          15.11705685618729,
          15.250836120401337,
          15.384615384615383,
          15.51839464882943,
          15.652173913043477,
          15.785953177257525,
          15.919732441471572,
          16.05351170568562,
          16.187290969899664,
          16.321070234113712,
          16.454849498327757,
          16.588628762541806,
          16.72240802675585,
          16.8561872909699,
          16.989966555183944,
          17.123745819397993,
          17.25752508361204,
          17.391304347826086,
          17.525083612040135,
          17.65886287625418,
          17.792642140468228,
          17.926421404682273,
          18.06020066889632,
          18.193979933110366,
          18.327759197324415,
          18.46153846153846,
          18.59531772575251,
          18.729096989966553,
          18.862876254180602,
          18.996655518394647,
          19.130434782608695,
          19.26421404682274,
          19.39799331103679,
          19.531772575250834,
          19.665551839464882,
          19.799331103678927,
          19.933110367892976,
          20.066889632107024,
          20.20066889632107,
          20.334448160535118,
          20.468227424749163,
          20.60200668896321,
          20.735785953177256,
          20.869565217391305,
          21.00334448160535,
          21.137123745819398,
          21.270903010033443,
          21.40468227424749,
          21.538461538461537,
          21.672240802675585,
          21.80602006688963,
          21.93979933110368,
          22.073578595317723,
          22.207357859531772,
          22.341137123745817,
          22.474916387959865,
          22.60869565217391,
          22.74247491638796,
          22.876254180602007,
          23.010033444816052,
          23.1438127090301,
          23.277591973244146,
          23.411371237458194,
          23.54515050167224,
          23.678929765886288,
          23.812709030100333,
          23.94648829431438,
          24.080267558528426,
          24.214046822742475,
          24.34782608695652,
          24.48160535117057,
          24.615384615384613,
          24.74916387959866,
          24.882943143812707,
          25.016722408026755,
          25.1505016722408,
          25.28428093645485,
          25.418060200668894,
          25.551839464882942,
          25.685618729096987,
          25.819397993311036,
          25.953177257525084,
          26.08695652173913,
          26.220735785953178,
          26.354515050167223,
          26.48829431438127,
          26.622073578595316,
          26.755852842809364,
          26.88963210702341,
          27.023411371237458,
          27.157190635451503,
          27.29096989966555,
          27.424749163879596,
          27.558528428093645,
          27.69230769230769,
          27.82608695652174,
          27.959866220735783,
          28.093645484949832,
          28.227424749163877,
          28.361204013377925,
          28.49498327759197,
          28.62876254180602,
          28.762541806020067,
          28.896321070234112,
          29.03010033444816,
          29.163879598662206,
          29.297658862876254,
          29.4314381270903,
          29.565217391304348,
          29.698996655518393,
          29.83277591973244,
          29.966555183946486,
          30.100334448160535,
          30.23411371237458,
          30.367892976588628,
          30.501672240802673,
          30.63545150501672,
          30.769230769230766,
          30.903010033444815,
          31.03678929765886,
          31.17056856187291,
          31.304347826086953,
          31.438127090301002,
          31.57190635451505,
          31.705685618729095,
          31.839464882943144,
          31.97324414715719,
          32.10702341137124,
          32.240802675585286,
          32.37458193979933,
          32.508361204013376,
          32.642140468227424,
          32.77591973244147,
          32.909698996655514,
          33.04347826086956,
          33.17725752508361,
          33.31103678929766,
          33.4448160535117,
          33.57859531772575,
          33.7123745819398,
          33.84615384615385,
          33.97993311036789,
          34.11371237458194,
          34.247491638795985,
          34.381270903010034,
          34.51505016722408,
          34.64882943143812,
          34.78260869565217,
          34.91638795986622,
          35.05016722408027,
          35.18394648829431,
          35.31772575250836,
          35.45150501672241,
          35.585284280936456,
          35.7190635451505,
          35.852842809364546,
          35.986622073578594,
          36.12040133779264,
          36.254180602006684,
          36.38795986622073,
          36.52173913043478,
          36.65551839464883,
          36.78929765886287,
          36.92307692307692,
          37.05685618729097,
          37.19063545150502,
          37.324414715719065,
          37.45819397993311,
          37.591973244147155,
          37.725752508361204,
          37.85953177257525,
          37.993311036789294,
          38.12709030100334,
          38.26086956521739,
          38.39464882943144,
          38.52842809364548,
          38.66220735785953,
          38.79598662207358,
          38.929765886287626,
          39.06354515050167,
          39.197324414715716,
          39.331103678929765,
          39.46488294314381,
          39.598662207357854,
          39.7324414715719,
          39.86622073578595,
          40
         ],
         "xaxis": "x",
         "y": [
          0,
          0.3210702341137123,
          0.6576892875918614,
          1.0105063109095485,
          1.3801872214733881,
          1.7674140863495431,
          2.172884376642477,
          2.597310085267812,
          3.0414167001709695,
          3.505942025494478,
          3.9916348438053095,
          4.499253413272811,
          5.029563794649915,
          5.583338004065494,
          6.161351988991675,
          6.76438342631109,
          7.393209343176007,
          8.048603563320013,
          8.73133398364427,
          9.442159688239204,
          10.181827909497448,
          10.951070848596807,
          11.750602370347966,
          12.581114590168477,
          13.443274373713765,
          14.337719772412543,
          15.265056420758098,
          16.225853923634066,
          17.220642264136746,
          18.24990826422775,
          19.31409213204432,
          20.41358413074655,
          21.548721404333694,
          22.71978499586629,
          23.92699709294838,
          25.170518534128597,
          26.450446608059167,
          27.766813174812334,
          29.11958313571663,
          30.508653274479435,
          31.933851488263933,
          33.394936422859715,
          34.89159752121355,
          36.423455489468154,
          37.99006317939979,
          39.59090688086245,
          41.22540801265234,
          42.892925195213905,
          44.59275668392504,
          46.32414313742231,
          48.08627069164301,
          49.87827430704031,
          51.69924135382512,
          53.5482153981395,
          55.424200150789,
          57.3261635395551,
          59.25304186615464,
          61.203744009578344,
          63.17715563877611,
          65.17214339940445,
          67.18755904154273,
          69.22224345784603,
          71.27503060445602,
          73.34475128005924,
          75.43023674168877,
          77.5303221391366,
          79.64384975311448,
          81.76967202550904,
          83.90665437317037,
          86.05367777960738,
          88.2096411617024,
          90.37346351107401,
          92.54408581199172,
          94.7204727397663,
          96.90161414530188,
          99.08652633299927,
          101.27425314045196,
          103.46386682938682,
          105.65446879808444,
          107.8451901260856,
          110.03519196236877,
          112.223665768388,
          114.40983342741104,
          116.59294723151284,
          118.77228975738018,
          120.94717364178642,
          123.11694126721882,
          125.28096436770134,
          127.43864356436663,
          129.58940783980674,
          131.73271395968362,
          133.86804584951872,
          135.99491393401436,
          138.11285444569617,
          140.22142870911188,
          142.32022240628166,
          144.4088448285748,
          146.4869281196883,
          148.5541265139282,
          150.61011557354618,
          152.65459142846223,
          154.68727002131027,
          156.7078863603778,
          158.71619378267147,
          160.71196322902873,
          162.69498253290996,
          164.66505572424413,
          166.62200234946445,
          168.56565680865552,
          170.49586771054055,
          172.41249724586382,
          174.31542057956884,
          176.20452526203528,
          178.07971065951628,
          179.94088740381082,
          181.78797686111247,
          183.6209106198949,
          185.43962999762445,
          187.2440855660303,
          189.03423669461202,
          190.81005111202253,
          192.5715044849283,
          194.31858001392158,
          196.05126804603597,
          197.76956570340008,
          199.47347652755047,
          201.16301013891788,
          202.83818191099414,
          204.49901265868658,
          206.14552834036684,
          207.77775977312413,
          209.39574236073832,
          210.99951583389495,
          212.58912400217224,
          214.1646145173399,
          215.72603864751946,
          217.27345106176728,
          218.8069096246532,
          220.32647520041945,
          221.83221146631757,
          223.32418473473356,
          224.80246378372422,
          226.26711969560097,
          227.7182257032098,
          229.15585704356928,
          230.58009081854084,
          231.99100586221823,
          233.38868261473513,
          234.77320300220202,
          236.14465032249495,
          237.5031091366302,
          238.84866516547032,
          240.18140519151714,
          241.5014169655581,
          242.80878911794252,
          244.10361107427374,
          245.3859729753125,
          246.65596560089642,
          247.9136802976884,
          249.1592089105759,
          250.39264371755058,
          251.61407736790545,
          252.82360282359454,
          254.02131330360695,
          255.2073022312136,
          256.3816631839521,
          257.5444898462212,
          258.6958759643615,
          259.8359153041065,
          260.96470161029146,
          262.0823285687142,
          263.1888897700465,
          264.2844786756992,
          265.369188585549,
          266.4431126074397,
          267.50634362837275,
          268.5589742873092,
          269.60109694950546,
          270.63280368231165,
          271.6541862323624,
          272.6653360040952,
          273.66634403953304,
          274.65730099927185,
          275.63829714461554,
          276.60942232080447,
          277.5707659412859,
          278.52241697297643,
          279.46446392246986,
          280.3969948231459,
          281.3200972231364,
          282.2338581741083,
          283.13836422082596,
          284.0337013914534,
          284.91995518856345,
          285.7972105808187,
          286.665551995293,
          287.5250633104022,
          288.3758278494153,
          289.21792837451903,
          290.05144708140705,
          290.8764655943712,
          291.69306496186863,
          292.50132565254245,
          293.3013275516744,
          294.09314995804755,
          294.87687158120013,
          295.6525705390503,
          296.42032435587464,
          297.18020996062216,
          297.93230368554805,
          298.6766812651504,
          299.41341783539565,
          300.14258793321767,
          300.86426549627726,
          301.5785238629684,
          302.28543577265907,
          302.9850733661547,
          303.67750818637234,
          304.36281117921504,
          305.04105269463605,
          305.7123024878827,
          306.3766297209103,
          307.03410296395725,
          307.68479019727295,
          308.32875881298924,
          308.9660756171286,
          309.5968068317408,
          310.2210180971614,
          310.83877447438425,
          311.45014044754254,
          312.05517992649135,
          312.65395624948593,
          313.24653218595,
          313.8329699393287,
          314.4133311500203,
          314.9876768983832,
          315.55606770781117,
          316.11856354787454,
          316.6752238375217,
          317.22610744833673,
          317.77127270785,
          318.31077740289714,
          318.844678783023,
          319.3730335639276,
          319.89589793095007,
          320.4133275425877,
          320.9253775340475,
          321.4321025208268,
          321.93355660232015,
          322.4297933654507,
          322.9208658883225,
          323.4068267438924,
          323.8877280036581,
          324.36362124136116,
          324.8345575367028,
          325.3005874790697,
          325.76176117126903,
          326.21812823327025,
          326.66973780595185,
          327.11663855485216,
          327.55887867392175,
          327.99650588927676,
          328.4295674629511,
          328.8581101966469,
          329.2821804354809,
          329.7018240717266,
          330.117086548551,
          330.52801286374347,
          330.9346475734375,
          331.33703479582323,
          331.7352182148504,
          332.1292410839202,
          332.5191462295656,
          332.90497605511973,
          333.2867725443707,
          333.6645772652027,
          334.03843137322264,
          334.40837561537177,
          334.7744503335212,
          335.13669546805136,
          335.4951505614145,
          335.8498547616799,
          336.2008468260612,
          336.54816512442517,
          336.8918476427823,
          337.2319319867578,
          337.5684553850434,
          337.90145469282913,
          338.2309663952151,
          338.55702661060263,
          338.8796710940651,
          339.19893524069704,
          339.51485408894285,
          339.8274623239035,
          340.1367942806216,
          340.44288394734497,
          340.74576496876784,
          341.0454706492501,
          341.34203395601406,
          341.63548752231895
         ],
         "yaxis": "y"
        }
       ],
       "layout": {
        "legend": {
         "title": {
          "text": "variable"
         },
         "tracegroupgap": 0
        },
        "template": {
         "data": {
          "bar": [
           {
            "error_x": {
             "color": "#2a3f5f"
            },
            "error_y": {
             "color": "#2a3f5f"
            },
            "marker": {
             "line": {
              "color": "#E5ECF6",
              "width": 0.5
             },
             "pattern": {
              "fillmode": "overlay",
              "size": 10,
              "solidity": 0.2
             }
            },
            "type": "bar"
           }
          ],
          "barpolar": [
           {
            "marker": {
             "line": {
              "color": "#E5ECF6",
              "width": 0.5
             },
             "pattern": {
              "fillmode": "overlay",
              "size": 10,
              "solidity": 0.2
             }
            },
            "type": "barpolar"
           }
          ],
          "carpet": [
           {
            "aaxis": {
             "endlinecolor": "#2a3f5f",
             "gridcolor": "white",
             "linecolor": "white",
             "minorgridcolor": "white",
             "startlinecolor": "#2a3f5f"
            },
            "baxis": {
             "endlinecolor": "#2a3f5f",
             "gridcolor": "white",
             "linecolor": "white",
             "minorgridcolor": "white",
             "startlinecolor": "#2a3f5f"
            },
            "type": "carpet"
           }
          ],
          "choropleth": [
           {
            "colorbar": {
             "outlinewidth": 0,
             "ticks": ""
            },
            "type": "choropleth"
           }
          ],
          "contour": [
           {
            "colorbar": {
             "outlinewidth": 0,
             "ticks": ""
            },
            "colorscale": [
             [
              0,
              "#0d0887"
             ],
             [
              0.1111111111111111,
              "#46039f"
             ],
             [
              0.2222222222222222,
              "#7201a8"
             ],
             [
              0.3333333333333333,
              "#9c179e"
             ],
             [
              0.4444444444444444,
              "#bd3786"
             ],
             [
              0.5555555555555556,
              "#d8576b"
             ],
             [
              0.6666666666666666,
              "#ed7953"
             ],
             [
              0.7777777777777778,
              "#fb9f3a"
             ],
             [
              0.8888888888888888,
              "#fdca26"
             ],
             [
              1,
              "#f0f921"
             ]
            ],
            "type": "contour"
           }
          ],
          "contourcarpet": [
           {
            "colorbar": {
             "outlinewidth": 0,
             "ticks": ""
            },
            "type": "contourcarpet"
           }
          ],
          "heatmap": [
           {
            "colorbar": {
             "outlinewidth": 0,
             "ticks": ""
            },
            "colorscale": [
             [
              0,
              "#0d0887"
             ],
             [
              0.1111111111111111,
              "#46039f"
             ],
             [
              0.2222222222222222,
              "#7201a8"
             ],
             [
              0.3333333333333333,
              "#9c179e"
             ],
             [
              0.4444444444444444,
              "#bd3786"
             ],
             [
              0.5555555555555556,
              "#d8576b"
             ],
             [
              0.6666666666666666,
              "#ed7953"
             ],
             [
              0.7777777777777778,
              "#fb9f3a"
             ],
             [
              0.8888888888888888,
              "#fdca26"
             ],
             [
              1,
              "#f0f921"
             ]
            ],
            "type": "heatmap"
           }
          ],
          "heatmapgl": [
           {
            "colorbar": {
             "outlinewidth": 0,
             "ticks": ""
            },
            "colorscale": [
             [
              0,
              "#0d0887"
             ],
             [
              0.1111111111111111,
              "#46039f"
             ],
             [
              0.2222222222222222,
              "#7201a8"
             ],
             [
              0.3333333333333333,
              "#9c179e"
             ],
             [
              0.4444444444444444,
              "#bd3786"
             ],
             [
              0.5555555555555556,
              "#d8576b"
             ],
             [
              0.6666666666666666,
              "#ed7953"
             ],
             [
              0.7777777777777778,
              "#fb9f3a"
             ],
             [
              0.8888888888888888,
              "#fdca26"
             ],
             [
              1,
              "#f0f921"
             ]
            ],
            "type": "heatmapgl"
           }
          ],
          "histogram": [
           {
            "marker": {
             "pattern": {
              "fillmode": "overlay",
              "size": 10,
              "solidity": 0.2
             }
            },
            "type": "histogram"
           }
          ],
          "histogram2d": [
           {
            "colorbar": {
             "outlinewidth": 0,
             "ticks": ""
            },
            "colorscale": [
             [
              0,
              "#0d0887"
             ],
             [
              0.1111111111111111,
              "#46039f"
             ],
             [
              0.2222222222222222,
              "#7201a8"
             ],
             [
              0.3333333333333333,
              "#9c179e"
             ],
             [
              0.4444444444444444,
              "#bd3786"
             ],
             [
              0.5555555555555556,
              "#d8576b"
             ],
             [
              0.6666666666666666,
              "#ed7953"
             ],
             [
              0.7777777777777778,
              "#fb9f3a"
             ],
             [
              0.8888888888888888,
              "#fdca26"
             ],
             [
              1,
              "#f0f921"
             ]
            ],
            "type": "histogram2d"
           }
          ],
          "histogram2dcontour": [
           {
            "colorbar": {
             "outlinewidth": 0,
             "ticks": ""
            },
            "colorscale": [
             [
              0,
              "#0d0887"
             ],
             [
              0.1111111111111111,
              "#46039f"
             ],
             [
              0.2222222222222222,
              "#7201a8"
             ],
             [
              0.3333333333333333,
              "#9c179e"
             ],
             [
              0.4444444444444444,
              "#bd3786"
             ],
             [
              0.5555555555555556,
              "#d8576b"
             ],
             [
              0.6666666666666666,
              "#ed7953"
             ],
             [
              0.7777777777777778,
              "#fb9f3a"
             ],
             [
              0.8888888888888888,
              "#fdca26"
             ],
             [
              1,
              "#f0f921"
             ]
            ],
            "type": "histogram2dcontour"
           }
          ],
          "mesh3d": [
           {
            "colorbar": {
             "outlinewidth": 0,
             "ticks": ""
            },
            "type": "mesh3d"
           }
          ],
          "parcoords": [
           {
            "line": {
             "colorbar": {
              "outlinewidth": 0,
              "ticks": ""
             }
            },
            "type": "parcoords"
           }
          ],
          "pie": [
           {
            "automargin": true,
            "type": "pie"
           }
          ],
          "scatter": [
           {
            "fillpattern": {
             "fillmode": "overlay",
             "size": 10,
             "solidity": 0.2
            },
            "type": "scatter"
           }
          ],
          "scatter3d": [
           {
            "line": {
             "colorbar": {
              "outlinewidth": 0,
              "ticks": ""
             }
            },
            "marker": {
             "colorbar": {
              "outlinewidth": 0,
              "ticks": ""
             }
            },
            "type": "scatter3d"
           }
          ],
          "scattercarpet": [
           {
            "marker": {
             "colorbar": {
              "outlinewidth": 0,
              "ticks": ""
             }
            },
            "type": "scattercarpet"
           }
          ],
          "scattergeo": [
           {
            "marker": {
             "colorbar": {
              "outlinewidth": 0,
              "ticks": ""
             }
            },
            "type": "scattergeo"
           }
          ],
          "scattergl": [
           {
            "marker": {
             "colorbar": {
              "outlinewidth": 0,
              "ticks": ""
             }
            },
            "type": "scattergl"
           }
          ],
          "scattermapbox": [
           {
            "marker": {
             "colorbar": {
              "outlinewidth": 0,
              "ticks": ""
             }
            },
            "type": "scattermapbox"
           }
          ],
          "scatterpolar": [
           {
            "marker": {
             "colorbar": {
              "outlinewidth": 0,
              "ticks": ""
             }
            },
            "type": "scatterpolar"
           }
          ],
          "scatterpolargl": [
           {
            "marker": {
             "colorbar": {
              "outlinewidth": 0,
              "ticks": ""
             }
            },
            "type": "scatterpolargl"
           }
          ],
          "scatterternary": [
           {
            "marker": {
             "colorbar": {
              "outlinewidth": 0,
              "ticks": ""
             }
            },
            "type": "scatterternary"
           }
          ],
          "surface": [
           {
            "colorbar": {
             "outlinewidth": 0,
             "ticks": ""
            },
            "colorscale": [
             [
              0,
              "#0d0887"
             ],
             [
              0.1111111111111111,
              "#46039f"
             ],
             [
              0.2222222222222222,
              "#7201a8"
             ],
             [
              0.3333333333333333,
              "#9c179e"
             ],
             [
              0.4444444444444444,
              "#bd3786"
             ],
             [
              0.5555555555555556,
              "#d8576b"
             ],
             [
              0.6666666666666666,
              "#ed7953"
             ],
             [
              0.7777777777777778,
              "#fb9f3a"
             ],
             [
              0.8888888888888888,
              "#fdca26"
             ],
             [
              1,
              "#f0f921"
             ]
            ],
            "type": "surface"
           }
          ],
          "table": [
           {
            "cells": {
             "fill": {
              "color": "#EBF0F8"
             },
             "line": {
              "color": "white"
             }
            },
            "header": {
             "fill": {
              "color": "#C8D4E3"
             },
             "line": {
              "color": "white"
             }
            },
            "type": "table"
           }
          ]
         },
         "layout": {
          "annotationdefaults": {
           "arrowcolor": "#2a3f5f",
           "arrowhead": 0,
           "arrowwidth": 1
          },
          "autotypenumbers": "strict",
          "coloraxis": {
           "colorbar": {
            "outlinewidth": 0,
            "ticks": ""
           }
          },
          "colorscale": {
           "diverging": [
            [
             0,
             "#8e0152"
            ],
            [
             0.1,
             "#c51b7d"
            ],
            [
             0.2,
             "#de77ae"
            ],
            [
             0.3,
             "#f1b6da"
            ],
            [
             0.4,
             "#fde0ef"
            ],
            [
             0.5,
             "#f7f7f7"
            ],
            [
             0.6,
             "#e6f5d0"
            ],
            [
             0.7,
             "#b8e186"
            ],
            [
             0.8,
             "#7fbc41"
            ],
            [
             0.9,
             "#4d9221"
            ],
            [
             1,
             "#276419"
            ]
           ],
           "sequential": [
            [
             0,
             "#0d0887"
            ],
            [
             0.1111111111111111,
             "#46039f"
            ],
            [
             0.2222222222222222,
             "#7201a8"
            ],
            [
             0.3333333333333333,
             "#9c179e"
            ],
            [
             0.4444444444444444,
             "#bd3786"
            ],
            [
             0.5555555555555556,
             "#d8576b"
            ],
            [
             0.6666666666666666,
             "#ed7953"
            ],
            [
             0.7777777777777778,
             "#fb9f3a"
            ],
            [
             0.8888888888888888,
             "#fdca26"
            ],
            [
             1,
             "#f0f921"
            ]
           ],
           "sequentialminus": [
            [
             0,
             "#0d0887"
            ],
            [
             0.1111111111111111,
             "#46039f"
            ],
            [
             0.2222222222222222,
             "#7201a8"
            ],
            [
             0.3333333333333333,
             "#9c179e"
            ],
            [
             0.4444444444444444,
             "#bd3786"
            ],
            [
             0.5555555555555556,
             "#d8576b"
            ],
            [
             0.6666666666666666,
             "#ed7953"
            ],
            [
             0.7777777777777778,
             "#fb9f3a"
            ],
            [
             0.8888888888888888,
             "#fdca26"
            ],
            [
             1,
             "#f0f921"
            ]
           ]
          },
          "colorway": [
           "#636efa",
           "#EF553B",
           "#00cc96",
           "#ab63fa",
           "#FFA15A",
           "#19d3f3",
           "#FF6692",
           "#B6E880",
           "#FF97FF",
           "#FECB52"
          ],
          "font": {
           "color": "#2a3f5f"
          },
          "geo": {
           "bgcolor": "white",
           "lakecolor": "white",
           "landcolor": "#E5ECF6",
           "showlakes": true,
           "showland": true,
           "subunitcolor": "white"
          },
          "hoverlabel": {
           "align": "left"
          },
          "hovermode": "closest",
          "mapbox": {
           "style": "light"
          },
          "paper_bgcolor": "white",
          "plot_bgcolor": "#E5ECF6",
          "polar": {
           "angularaxis": {
            "gridcolor": "white",
            "linecolor": "white",
            "ticks": ""
           },
           "bgcolor": "#E5ECF6",
           "radialaxis": {
            "gridcolor": "white",
            "linecolor": "white",
            "ticks": ""
           }
          },
          "scene": {
           "xaxis": {
            "backgroundcolor": "#E5ECF6",
            "gridcolor": "white",
            "gridwidth": 2,
            "linecolor": "white",
            "showbackground": true,
            "ticks": "",
            "zerolinecolor": "white"
           },
           "yaxis": {
            "backgroundcolor": "#E5ECF6",
            "gridcolor": "white",
            "gridwidth": 2,
            "linecolor": "white",
            "showbackground": true,
            "ticks": "",
            "zerolinecolor": "white"
           },
           "zaxis": {
            "backgroundcolor": "#E5ECF6",
            "gridcolor": "white",
            "gridwidth": 2,
            "linecolor": "white",
            "showbackground": true,
            "ticks": "",
            "zerolinecolor": "white"
           }
          },
          "shapedefaults": {
           "line": {
            "color": "#2a3f5f"
           }
          },
          "ternary": {
           "aaxis": {
            "gridcolor": "white",
            "linecolor": "white",
            "ticks": ""
           },
           "baxis": {
            "gridcolor": "white",
            "linecolor": "white",
            "ticks": ""
           },
           "bgcolor": "#E5ECF6",
           "caxis": {
            "gridcolor": "white",
            "linecolor": "white",
            "ticks": ""
           }
          },
          "title": {
           "x": 0.05
          },
          "xaxis": {
           "automargin": true,
           "gridcolor": "white",
           "linecolor": "white",
           "ticks": "",
           "title": {
            "standoff": 15
           },
           "zerolinecolor": "white",
           "zerolinewidth": 2
          },
          "yaxis": {
           "automargin": true,
           "gridcolor": "white",
           "linecolor": "white",
           "ticks": "",
           "title": {
            "standoff": 15
           },
           "zerolinecolor": "white",
           "zerolinewidth": 2
          }
         }
        },
        "title": {
         "text": "Impact du coupe (beta,gamma) sur l'evolution du nombre d'individus dans chacun des catégories"
        },
        "xaxis": {
         "anchor": "y",
         "domain": [
          0,
          1
         ],
         "title": {
          "text": "temps (en jours)"
         }
        },
        "yaxis": {
         "anchor": "x",
         "domain": [
          0,
          1
         ],
         "title": {
          "text": "nombre d'individu"
         }
        }
       }
      }
     },
     "metadata": {},
     "output_type": "display_data"
    }
   ],
   "source": [
    "# Calcul \n",
    "T_B_G = np.linspace(0,40,300)    \n",
    "X_beta_gamma = Euler_R0(derivative_R0, [340.,30.,0.], T_B_G, [0.9,1.3],[0.01,0.08] )\n",
    "\n",
    "# Creation dictionnaire pour renommer les courbes avec les valeurs des betas\n",
    "dictionnaire = {0: 'S_b_0.6_g_0.1',1: 'I_b_0.6_g_0.1',2: 'R_b_0.6_g_0.1',3: 'S_b_0.9_0.3',4: 'I_b_0.9_0.3', 5: 'R_b_0.9_0.3' }    \n",
    "\n",
    "# Transformation données en pandas\n",
    "d_beta_gamma = pd.DataFrame(X_beta_gamma)\n",
    "d_beta_gamma.rename(columns=dictionnaire, inplace=True)\n",
    "d_beta_gamma.insert(0, 'temps (en jours)', T_B_G) # ajout du temps en jours en colonne 1\n",
    "\n",
    "\n",
    "figure = px.line(d_beta_gamma, x='temps (en jours)', y=['S_b_0.6_g_0.1','I_b_0.6_g_0.1', 'R_b_0.6_g_0.1','S_b_0.9_0.3','I_b_0.9_0.3','R_b_0.9_0.3'],labels=dict(index=\"temps (en jours)\", value=\"nombre d'individu\", title=\"goro\"), title=\"Impact du coupe (beta,gamma) sur l'evolution du nombre d'individus dans chacun des catégories\")\n",
    "figure.show()"
   ]
  },
  {
   "attachments": {},
   "cell_type": "markdown",
   "id": "70d62043-3818-44b4-bd0e-6de09813ad7f",
   "metadata": {},
   "source": [
    "### 6/ Erreur\n",
    "\n",
    "Regardons comment evolue l'erreur chaque jours (t)  en fonction du nombre de noeuds pour le maillage (Nt). \n",
    "L'erreur est définie de la manière suivante: \n",
    "\n",
    "$ erreur(t,Nt)= \\left | S_{theorique}(t_{Nt})- S_{numerique}(t_{Nt}) \\right |$\n",
    "\n",
    "N'ayant pas de solution théorique, nous allons comparer le résultat numérique à une méthode plutot fiable proposée par python (odeint).\n",
    "\n",
    "### 6.1 Erreur Euler Explicite"
   ]
  },
  {
   "cell_type": "code",
   "execution_count": 30,
   "id": "965a5c75",
   "metadata": {},
   "outputs": [
    {
     "data": {
      "image/png": "[encoded data removed]",
      "text/plain": [
       "<Figure size 432x288 with 1 Axes>"
      ]
     },
     "metadata": {
      "needs_background": "light"
     },
     "output_type": "display_data"
    }
   ],
   "source": [
    "Nt_values = np.array([5, 10, 20, 100, 1000]) # choix du nombres de noeuds pour le maillage\n",
    "tmax = 40\n",
    "\n",
    "markers = \"osv*<>\"\n",
    "plt.figure()\n",
    "for i in range(len(Nt_values)):\n",
    "    tvi = np.linspace(0., tmax, Nt_values[i])\n",
    "    Xei = EulerExp(derivative_SIR, X0, tvi)\n",
    "    Xsi = odeint(derivative_SIR, X0, tvi)\n",
    "    plt.plot(tvi, np.abs((Xei[:, 1] - Xsi[:, 1])), markers[i] + \"-\", label = \"Euler, Nt = {0}\".format(Nt_values[i]))\n",
    "\n",
    "# affichage du graphique\n",
    "plt.grid()\n",
    "plt.xlabel(\"Temps (en jours)\")\n",
    "plt.yscale('log')\n",
    "plt.ylabel(\"Erreur Absolue\")\n",
    "plt.legend(loc = \"best\");\n",
    "plt.show()"
   ]
  },
  {
   "attachments": {},
   "cell_type": "markdown",
   "id": "bef57e28",
   "metadata": {},
   "source": [
    "On retrouve un peu le meme graphe que pour SI avec en plus une chute au alentours de 7 jours car on a des maximums locaux ou l'erreur de calcul est très faible car ils sont assez large (en jours) au regard de taille du maillage."
   ]
  },
  {
   "attachments": {},
   "cell_type": "markdown",
   "id": "9263a7e7",
   "metadata": {},
   "source": [
    "### 6.2 Erreur Euler Implicite"
   ]
  },
  {
   "cell_type": "code",
   "execution_count": 31,
   "id": "5c2eaadc",
   "metadata": {},
   "outputs": [
    {
     "data": {
      "image/png": "[encoded data removed]",
      "text/plain": [
       "<Figure size 432x288 with 1 Axes>"
      ]
     },
     "metadata": {
      "needs_background": "light"
     },
     "output_type": "display_data"
    }
   ],
   "source": [
    "Nt_values = np.array([5, 10, 20, 100, 1000]) # choix du nombres de noeuds pour le maillage\n",
    "tmax = 40\n",
    "\n",
    "markers = \"osv*<>\"\n",
    "plt.figure()\n",
    "for i in range(len(Nt_values)):\n",
    "    tvi = np.linspace(0., tmax, Nt_values[i])\n",
    "    Xei = EulerImp(derivative_SIR, X0, tvi)\n",
    "    Xsi = odeint(derivative_SIR, X0, tvi)\n",
    "    plt.plot(tvi, np.abs((Xei[:, 1] - Xsi[:, 1])), markers[i] + \"-\", label = \"Euler, Nt = {0}\".format(Nt_values[i]))\n",
    "\n",
    "# affichage du graphique\n",
    "plt.grid()\n",
    "plt.xlabel(\"Temps (en jours)\")\n",
    "plt.yscale('log')\n",
    "plt.ylabel(\"Erreur Absolue\")\n",
    "plt.legend(loc = \"best\");\n",
    "plt.show()"
   ]
  },
  {
   "attachments": {},
   "cell_type": "markdown",
   "id": "c1b6dc2a",
   "metadata": {},
   "source": [
    "On remarque a nouveau que le schéma Euleur explicite commet moins d'erreur que Euler implicite et ceci pour taille de maillage. "
   ]
  },
  {
   "cell_type": "markdown",
   "id": "3d12b038-0b6d-4862-9f5f-48103238ece5",
   "metadata": {},
   "source": [
    "### 7/ Ordre de Convergence"
   ]
  },
  {
   "attachments": {},
   "cell_type": "markdown",
   "id": "92c17084",
   "metadata": {},
   "source": [
    "### 7.1 Convergence Euler Explicite\n",
    "\n",
    "D'apèrs le cours pour un schéma d'Euler Explicite nous avons une consistance en  $ \\Delta   t$\n",
    "\n",
    "En supposant la consistance de la forme $\\;e = Cte (\\Delta t) ^{p}$ on a en passant en au logarithme (ie passer en echelle logarithmique)  $\\;log(e) = p \\, log(\\Delta t)+ log(Cte)$. En tracant $\\;log(e)$ en fonction de $log(\\Delta t)$ et en comparant la droite identité on pourra déduire la valeur de $p$. "
   ]
  },
  {
   "cell_type": "code",
   "execution_count": 32,
   "id": "2303f8b1",
   "metadata": {},
   "outputs": [
    {
     "data": {
      "image/png": "[encoded data removed]",
      "text/plain": [
       "<Figure size 432x288 with 1 Axes>"
      ]
     },
     "metadata": {
      "needs_background": "light"
     },
     "output_type": "display_data"
    }
   ],
   "source": [
    "markers = \"osv*<>\"\n",
    "tmax=20.\n",
    "X0 = [400., 30., 0.]\n",
    "\n",
    "Nt_values = np.linspace(5., 40., 100).astype(np.int32)\n",
    "dt_values = tmax / (Nt_values -1)\n",
    "Erreur = []\n",
    "for i in range(len(Nt_values)):\n",
    "    tvi = np.linspace(0., tmax, Nt_values[i])\n",
    "    Xei = EulerExp(derivative_SIR, X0, tvi)\n",
    "    xsi = odeint(derivative_SIR, X0, tvi)\n",
    "    e = (Xei[:, 0] - xsi[:, 0]).std() # calcul de l'erreur\n",
    "    Erreur.append(e)\n",
    "\n",
    "plt.figure()\n",
    "plt.plot(dt_values, Erreur, \"or-\", label = \"Erreur Euler Explicite\")\n",
    "plt.plot(dt_values, dt_values, label = \"$\\Delta t$\", linestyle =\"--\")\n",
    "plt.legend()\n",
    "plt.xlabel(\"pas de temps, $\\Delta t$ [jours]\")\n",
    "plt.xscale('log')\n",
    "plt.ylabel(\"Erreur Absolue\")\n",
    "plt.yscale(\"log\")\n",
    "plt.xscale(\"log\")\n",
    "plt.grid()\n",
    "plt.show()"
   ]
  },
  {
   "attachments": {},
   "cell_type": "markdown",
   "id": "92abc9e1",
   "metadata": {},
   "source": [
    "Nous pouvons oberservers que lorsque le pas de temps depasses 2 jours, nous avons une erreur qui ne reste plus linéaire (plutot exp)."
   ]
  },
  {
   "attachments": {},
   "cell_type": "markdown",
   "id": "ae0e4296",
   "metadata": {},
   "source": [
    "### 7.2 Convergence Euler Implicite\n"
   ]
  },
  {
   "cell_type": "code",
   "execution_count": 33,
   "id": "4196270c",
   "metadata": {},
   "outputs": [
    {
     "data": {
      "image/png": "[encoded data removed]",
      "text/plain": [
       "<Figure size 432x288 with 1 Axes>"
      ]
     },
     "metadata": {
      "needs_background": "light"
     },
     "output_type": "display_data"
    }
   ],
   "source": [
    "markers = \"osv*<>\" #markeur pour le graphique\n",
    "\n",
    "tmax=20.\n",
    "X0 = [400., 30., 0.]\n",
    "\n",
    "Nt_values = np.linspace(5., 40., 100).astype(np.int32)\n",
    "dt_values = tmax / (Nt_values -1)\n",
    "Erreur = []\n",
    "for i in range(len(Nt_values)):\n",
    "    tvi = np.linspace(0., tmax, Nt_values[i])\n",
    "    Xei = EulerImp(derivative_SIR, X0, tvi)\n",
    "    xsi = odeint(derivative_SIR, X0, tvi)\n",
    "    e = (Xei[:, 0] - xsi[:, 0]).std() # calcul de l'erreur\n",
    "    Erreur.append(e)\n",
    "\n",
    "# Réalisation de la figure\n",
    "plt.figure()\n",
    "plt.plot(dt_values, Erreur, \"or-\", label = \"Erreur Euler Implicite\")\n",
    "plt.plot(dt_values, dt_values, label = \"$\\Delta t$\", linestyle =\"--\")\n",
    "plt.legend()\n",
    "plt.xlabel(\"pas de temps, $\\Delta t$ [jours]\")\n",
    "plt.xscale('log')\n",
    "plt.ylabel(\"Erreur Absolue\")\n",
    "plt.yscale(\"log\")\n",
    "plt.xscale(\"log\")\n",
    "plt.grid()\n",
    "plt.show()"
   ]
  },
  {
   "attachments": {},
   "cell_type": "markdown",
   "id": "fb2d9843",
   "metadata": {},
   "source": [
    "Il est interessant de remarquer que contrairement au schéma implicite l'erreur est n'augmente pas avec un pas de temps plus élevé. La méthode Euler implicite arrive à garder une certaines constance dans son erreur. "
   ]
  },
  {
   "cell_type": "markdown",
   "id": "412fea5f-e5f5-4e2a-8150-2d2b7056e430",
   "metadata": {},
   "source": [
    "### 8/ Conclusion modèle SIR"
   ]
  },
  {
   "cell_type": "markdown",
   "id": "4cf4bf5e",
   "metadata": {},
   "source": [
    "Le résolution numérique de modèle est indispensable comme nous l'avons dit (absence de solution théorique). Nous obtenons dans tout les cas le meme type de courbe que ca soit en Euler Explicite ou Implicite. L'erreur par rapport à la meilleur solution théorique (odeint) reste assez faible pour un maillage (en dessous de la journée)."
   ]
  },
  {
   "cell_type": "markdown",
   "id": "ee490903-5e8d-4993-b04e-ebf5bf7c570b",
   "metadata": {},
   "source": [
    "# III. Conclusion\n",
    "\n",
    "### 1/ Bilan\n",
    "\n",
    "La résolution des EDP de manière informatique est d'une grande aide car elle permet d'avoir une idée précise des solutions possibles à des problèmes dont on arrive pas à exprimer une solution avec les fonctions usuelles.\n",
    "\n",
    "Nous avons vu que même avec des schémas numériques rudimantaires (il existe des meilleurs schémas comme Runge-Kutta) les solutions numériques sont proches de la solution réelle (cf modèle SI). \n",
    "\n",
    "Il y a un réel interet de maitriser ces méthodes numériques pour réaliser des modélisatios afin de pouvoir prendre les bonnes mesures sanitaires par exemple. "
   ]
  },
  {
   "cell_type": "markdown",
   "id": "8f77565a-10ed-4972-9016-c036cd868338",
   "metadata": {},
   "source": [
    "### 2/ Bibliographie"
   ]
  },
  {
   "attachments": {},
   "cell_type": "markdown",
   "id": "39639608-58a7-44eb-8ccf-fe3a8ad4311f",
   "metadata": {},
   "source": [
    "[1] Silva, C. J., & Torres, D. F. (2017). A SICA compartmental model in epidemiology with application to HIV/AIDS in Cape Verde. Ecological complexity, 30, 70-75.\n",
    "\n",
    "[2] Cours de ST2: Modèles d’épidémie : point de vue déterministe, Sarah Lemler\n",
    "\n",
    "[3] Cours EDP, Mr. Bouafia\n",
    "\n",
    "[4] https://covid-ete.ouvaton.org/Rapport8_stochasticite.html\n",
    "\n",
    "[5] http://images.math.cnrs.fr/Modelisation-d-une-epidemie-partie-1.html\n",
    "\n",
    "[6] https://www.senat.fr/fileadmin/Fichiers/Images/opecst/quatre_pages/OPECST_modelisation_covid_19.pdf"
   ]
  }
 ],
 "metadata": {
  "kernelspec": {
   "display_name": "base",
   "language": "python",
   "name": "python3"
  },
  "language_info": {
   "codemirror_mode": {
    "name": "ipython",
    "version": 3
   },
   "file_extension": ".py",
   "mimetype": "text/x-python",
   "name": "python",
   "nbconvert_exporter": "python",
   "pygments_lexer": "ipython3",
   "version": "3.9.7"
  },
  "vscode": {
   "interpreter": {
    "hash": "40d3a090f54c6569ab1632332b64b2c03c39dcf918b08424e98f38b5ae0af88f"
   }
  }
 },
 "nbformat": 4,
 "nbformat_minor": 5
}
